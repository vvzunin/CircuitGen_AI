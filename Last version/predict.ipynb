{
 "cells": [
  {
   "cell_type": "markdown",
   "id": "7c9ade93-1a55-4bd2-a51d-b469864a5e43",
   "metadata": {},
   "source": [
    "# Скрипт предсказывающий площадь"
   ]
  },
  {
   "cell_type": "markdown",
   "id": "d0d30c0a-536a-4fd2-a529-c017bfa5b9e1",
   "metadata": {},
   "source": [
    "## Загрузим и обработаем тестовые данные"
   ]
  },
  {
   "cell_type": "code",
   "execution_count": 2,
   "id": "0608a1db-ee70-4809-970d-f6a2b524b66f",
   "metadata": {
    "execution": {
     "iopub.execute_input": "2024-03-22T12:00:22.217503Z",
     "iopub.status.busy": "2024-03-22T12:00:22.216654Z",
     "iopub.status.idle": "2024-03-22T12:00:22.249140Z",
     "shell.execute_reply": "2024-03-22T12:00:22.248382Z",
     "shell.execute_reply.started": "2024-03-22T12:00:22.217464Z"
    }
   },
   "outputs": [],
   "source": [
    "import pandas as pd\n",
    "import joblib\n",
    "import numpy as np\n",
    "\n",
    "data = pd.read_csv('test_data.csv')"
   ]
  },
  {
   "cell_type": "markdown",
   "id": "26554854-5688-4401-8945-eff4b2f2e443",
   "metadata": {},
   "source": [
    "### Парсинг эмбеддингов"
   ]
  },
  {
   "cell_type": "code",
   "execution_count": 3,
   "id": "9f36350d-01e7-420c-98cb-3ca0227e6874",
   "metadata": {
    "execution": {
     "iopub.execute_input": "2024-03-22T12:00:22.618001Z",
     "iopub.status.busy": "2024-03-22T12:00:22.617197Z",
     "iopub.status.idle": "2024-03-22T12:00:22.645177Z",
     "shell.execute_reply": "2024-03-22T12:00:22.644532Z",
     "shell.execute_reply.started": "2024-03-22T12:00:22.617960Z"
    }
   },
   "outputs": [],
   "source": [
    "def is_number(s):\n",
    "    try:\n",
    "        float(s)\n",
    "        return True\n",
    "    except ValueError:\n",
    "        return False"
   ]
  },
  {
   "cell_type": "code",
   "execution_count": 4,
   "id": "27fc3272-ade6-46e2-bbc6-d1e9516f35a3",
   "metadata": {
    "execution": {
     "iopub.execute_input": "2024-03-22T12:00:23.033025Z",
     "iopub.status.busy": "2024-03-22T12:00:23.032299Z",
     "iopub.status.idle": "2024-03-22T12:00:23.067008Z",
     "shell.execute_reply": "2024-03-22T12:00:23.066230Z",
     "shell.execute_reply.started": "2024-03-22T12:00:23.032990Z"
    }
   },
   "outputs": [],
   "source": [
    "new_embedding = []\n",
    "for str in data['embedding']:\n",
    "    result = []\n",
    "    if '\\n' in str:\n",
    "        res = str.split('\\n')\n",
    "    else:\n",
    "        res = str.split('], ')\n",
    "    for mass in res:\n",
    "        s = mass.replace(', dtype=float32',' ').replace('(', ' ').replace(')',' ').replace(',',' ').replace('[','').replace(']','').split(' ')\n",
    "        tmp = []\n",
    "        for word in s:\n",
    "            if is_number(word):\n",
    "                tmp.append(float(word))\n",
    "        result.append(tmp)\n",
    "    r = [np.array(sublist) for sublist in result]\n",
    "    new_embedding.append(r)"
   ]
  },
  {
   "cell_type": "markdown",
   "id": "c36c4601-e570-4cde-ad20-460fd4718119",
   "metadata": {},
   "source": [
    "### Дополняем эмбеддинги до одной размерности"
   ]
  },
  {
   "cell_type": "code",
   "execution_count": 5,
   "id": "1831a1af-18de-4039-9a39-d3784b5095a3",
   "metadata": {
    "execution": {
     "iopub.execute_input": "2024-03-22T12:00:23.435126Z",
     "iopub.status.busy": "2024-03-22T12:00:23.434661Z",
     "iopub.status.idle": "2024-03-22T12:00:23.447549Z",
     "shell.execute_reply": "2024-03-22T12:00:23.446829Z",
     "shell.execute_reply.started": "2024-03-22T12:00:23.435089Z"
    }
   },
   "outputs": [],
   "source": [
    "import pickle\n",
    "\n",
    "# Загрузка значения из файла\n",
    "file_path = 'max_subarrays.pickle'\n",
    "with open(file_path, 'rb') as f:\n",
    "    max_subarrays = pickle.load(f)"
   ]
  },
  {
   "cell_type": "code",
   "execution_count": 6,
   "id": "5eec98ea-4705-4520-a6a2-ebdd175f3539",
   "metadata": {
    "execution": {
     "iopub.execute_input": "2024-03-22T12:00:23.855694Z",
     "iopub.status.busy": "2024-03-22T12:00:23.854891Z",
     "iopub.status.idle": "2024-03-22T12:00:23.877788Z",
     "shell.execute_reply": "2024-03-22T12:00:23.877054Z",
     "shell.execute_reply.started": "2024-03-22T12:00:23.855657Z"
    }
   },
   "outputs": [],
   "source": [
    "for i in range(len(new_embedding)):\n",
    "    while len(new_embedding[i]) < max_subarrays:\n",
    "        new_embedding[i] = np.vstack([new_embedding[i], np.zeros(25)])"
   ]
  },
  {
   "cell_type": "markdown",
   "id": "4687ac2d-444c-44dc-b45f-f805a7475cd6",
   "metadata": {},
   "source": [
    "### Запишем все имеющиеся в представлении вектора друг за другом, по порядку, по которому они хранятся изначально"
   ]
  },
  {
   "cell_type": "code",
   "execution_count": 7,
   "id": "5c805f73-c6a0-4878-b018-348aaa18edd9",
   "metadata": {
    "execution": {
     "iopub.execute_input": "2024-03-22T12:00:24.266287Z",
     "iopub.status.busy": "2024-03-22T12:00:24.265573Z",
     "iopub.status.idle": "2024-03-22T12:00:24.289608Z",
     "shell.execute_reply": "2024-03-22T12:00:24.288948Z",
     "shell.execute_reply.started": "2024-03-22T12:00:24.266245Z"
    }
   },
   "outputs": [],
   "source": [
    "for i in range(len(new_embedding)):\n",
    "    tmp = []\n",
    "    for j in range (len(new_embedding[i])):\n",
    "        for k in new_embedding[i][j]:\n",
    "            tmp.append(k)\n",
    "    new_embedding[i] = np.array(tmp)"
   ]
  },
  {
   "cell_type": "code",
   "execution_count": 8,
   "id": "1841292d-9429-479d-b0ec-0784e9593571",
   "metadata": {
    "execution": {
     "iopub.execute_input": "2024-03-22T12:00:24.656707Z",
     "iopub.status.busy": "2024-03-22T12:00:24.656025Z",
     "iopub.status.idle": "2024-03-22T12:00:24.688337Z",
     "shell.execute_reply": "2024-03-22T12:00:24.687617Z",
     "shell.execute_reply.started": "2024-03-22T12:00:24.656668Z"
    }
   },
   "outputs": [],
   "source": [
    "s = pd.Series(new_embedding)\n",
    "data['New_embeddings'] = s"
   ]
  },
  {
   "cell_type": "markdown",
   "id": "477640cc-c43a-4c77-8c54-901f942e598e",
   "metadata": {},
   "source": [
    "### Преобразуем данные в формат таблицы"
   ]
  },
  {
   "cell_type": "code",
   "execution_count": 9,
   "id": "280bfaf1-6cfa-433e-bf01-f40f0aa9b0d9",
   "metadata": {
    "execution": {
     "iopub.execute_input": "2024-03-22T12:00:25.076836Z",
     "iopub.status.busy": "2024-03-22T12:00:25.076108Z",
     "iopub.status.idle": "2024-03-22T12:00:25.134808Z",
     "shell.execute_reply": "2024-03-22T12:00:25.134051Z",
     "shell.execute_reply.started": "2024-03-22T12:00:25.076799Z"
    }
   },
   "outputs": [],
   "source": [
    "X = pd.DataFrame(data['New_embeddings'].values.tolist(), index = data['New_embeddings'].index)"
   ]
  },
  {
   "cell_type": "markdown",
   "id": "4fd44460-4def-4601-9148-a7f5837eeb50",
   "metadata": {},
   "source": [
    "## Загружаем обученную модель и предсказываем значения"
   ]
  },
  {
   "cell_type": "markdown",
   "id": "8b746445-0678-4820-81d5-4e62d7d7fd58",
   "metadata": {},
   "source": [
    "### Площадь"
   ]
  },
  {
   "cell_type": "code",
   "execution_count": 10,
   "id": "60020668-dd67-43ad-b3ee-c7c9875c28f4",
   "metadata": {
    "execution": {
     "iopub.execute_input": "2024-03-22T12:00:25.483935Z",
     "iopub.status.busy": "2024-03-22T12:00:25.483149Z",
     "iopub.status.idle": "2024-03-22T12:00:25.700838Z",
     "shell.execute_reply": "2024-03-22T12:00:25.700150Z",
     "shell.execute_reply.started": "2024-03-22T12:00:25.483891Z"
    }
   },
   "outputs": [],
   "source": [
    "# Шаг 2: Загрузка обученной модели\n",
    "model_area = joblib.load('trained_model_area.pkl') \n",
    "\n",
    "# Шаг 3: Применение модели к данным и получение предсказаний\n",
    "predictions_area = model_area.predict(X)  "
   ]
  },
  {
   "cell_type": "markdown",
   "id": "4ada4e4b-9eb2-4773-bf2b-46aab8d3b1fe",
   "metadata": {},
   "source": [
    "### Задержка"
   ]
  },
  {
   "cell_type": "code",
   "execution_count": null,
   "id": "d1b8a795-bbff-4302-a6d7-273963ead4a2",
   "metadata": {
    "tags": []
   },
   "outputs": [],
   "source": [
    "# Шаг 2: Загрузка обученной модели\n",
    "model_delay = joblib.load('trained_model_delay.pkl')\n",
    "\n",
    "# Шаг 3: Применение модели к данным и получение предсказаний\n",
    "predictions_delay = model_delay.predict(X)"
   ]
  },
  {
   "cell_type": "markdown",
   "id": "c43691ae-5afd-4358-a96a-e461da053429",
   "metadata": {},
   "source": [
    "### Создание и выгрузка таблицы"
   ]
  },
  {
   "cell_type": "code",
   "execution_count": 12,
   "id": "c2dada22-0365-4293-b4f4-3f0f32e94c88",
   "metadata": {
    "execution": {
     "iopub.execute_input": "2024-03-22T12:00:26.311519Z",
     "iopub.status.busy": "2024-03-22T12:00:26.310716Z",
     "iopub.status.idle": "2024-03-22T12:00:26.331905Z",
     "shell.execute_reply": "2024-03-22T12:00:26.331113Z",
     "shell.execute_reply.started": "2024-03-22T12:00:26.311475Z"
    }
   },
   "outputs": [],
   "source": [
    "result = pd.DataFrame()"
   ]
  },
  {
   "cell_type": "code",
   "execution_count": null,
   "id": "2d40e01f-82eb-4241-baaf-4712db2e9b2d",
   "metadata": {
    "tags": []
   },
   "outputs": [],
   "source": [
    "result['id'] = data['File']\n",
    "result['Area'] = predictions_area\n",
    "result['Delay'] = predictions_delay"
   ]
  },
  {
   "cell_type": "code",
   "execution_count": 14,
   "id": "3519521d-e72f-4d59-83ce-800043034973",
   "metadata": {
    "execution": {
     "iopub.execute_input": "2024-03-22T12:00:27.148332Z",
     "iopub.status.busy": "2024-03-22T12:00:27.147520Z",
     "iopub.status.idle": "2024-03-22T12:00:27.178995Z",
     "shell.execute_reply": "2024-03-22T12:00:27.178234Z",
     "shell.execute_reply.started": "2024-03-22T12:00:27.148291Z"
    }
   },
   "outputs": [],
   "source": [
    "result.to_csv('submission.csv', index=False)"
   ]
  }
 ],
 "metadata": {
  "kernelspec": {
   "display_name": "DataSphere Kernel",
   "language": "python",
   "name": "python3"
  },
  "language_info": {
   "codemirror_mode": {
    "name": "ipython",
    "version": 3
   },
   "file_extension": ".py",
   "mimetype": "text/x-python",
   "name": "python",
   "nbconvert_exporter": "python",
   "pygments_lexer": "ipython3",
   "version": "3.7.7"
  }
 },
 "nbformat": 4,
 "nbformat_minor": 5
}
