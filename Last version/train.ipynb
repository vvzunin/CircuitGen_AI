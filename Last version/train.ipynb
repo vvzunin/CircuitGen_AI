{
 "cells": [
  {
   "cell_type": "markdown",
   "id": "b03459a0-53c5-49fb-be71-d2c1dcab6d33",
   "metadata": {},
   "source": [
    "# Проект 1799: \"Разработка системы предсказания параметров цифровых схем с использованием методов машинного обучения\"  \n",
    "## Первые шаги, в предсказании Площади и Задержки схем"
   ]
  },
  {
   "cell_type": "markdown",
   "id": "884b663b-3b6c-40dd-a555-12f9dd486d24",
   "metadata": {},
   "source": [
    "# Подготовка и исследование данных"
   ]
  },
  {
   "cell_type": "markdown",
   "id": "d3f76a1b-6546-4cb3-8329-bef3e9ce8e05",
   "metadata": {},
   "source": [
    "## Импорт всех библиотек"
   ]
  },
  {
   "cell_type": "code",
   "execution_count": null,
   "id": "8f096132-6853-490f-bffe-700a8b6f7dea",
   "metadata": {
    "execution": {
     "iopub.execute_input": "2024-03-22T10:11:25.414532Z",
     "iopub.status.busy": "2024-03-22T10:11:25.413948Z",
     "iopub.status.idle": "2024-03-22T10:11:28.121892Z"
    },
    "tags": []
   },
   "outputs": [
    {
     "name": "stderr",
     "output_type": "stream",
     "text": [
      "2024-03-22 10:11:26.312771: I tensorflow/core/util/port.cc:110] oneDNN custom operations are on. You may see slightly different numerical results due to floating-point round-off errors from different computation orders. To turn them off, set the environment variable `TF_ENABLE_ONEDNN_OPTS=0`.\n",
      "2024-03-22 10:11:26.359474: I tensorflow/core/platform/cpu_feature_guard.cc:182] This TensorFlow binary is optimized to use available CPU instructions in performance-critical operations.\n",
      "To enable the following instructions: AVX2 AVX512F AVX512_VNNI FMA, in other operations, rebuild TensorFlow with the appropriate compiler flags.\n",
      "2024-03-22 10:11:27.182086: W tensorflow/compiler/tf2tensorrt/utils/py_utils.cc:38] TF-TRT Warning: Could not find TensorRT\n"
     ]
    }
   ],
   "source": [
    "import pandas as pd\n",
    "import matplotlib.pyplot as plt\n",
    "import numpy as np\n",
    "from sklearn.model_selection import train_test_split\n",
    "from catboost import CatBoostRegressor\n",
    "from sklearn.metrics import mean_squared_error, mean_absolute_error, r2_score\n",
    "from sklearn.ensemble import RandomForestRegressor  \n",
    "import lightgbm as lgb\n",
    "import tensorflow as tf\n",
    "import joblib\n",
    "import optuna"
   ]
  },
  {
   "cell_type": "markdown",
   "id": "53703121-95d3-4381-bade-453e836f4c62",
   "metadata": {},
   "source": [
    "## Загрузка и очистка от выбросов"
   ]
  },
  {
   "cell_type": "code",
   "execution_count": 2,
   "id": "259313d1-9a45-4b80-882e-cc8fa421fdc0",
   "metadata": {
    "execution": {
     "iopub.execute_input": "2024-03-22T10:12:08.293178Z",
     "iopub.status.busy": "2024-03-22T10:12:08.292590Z",
     "iopub.status.idle": "2024-03-22T10:12:14.853406Z",
     "shell.execute_reply": "2024-03-22T10:12:14.852733Z",
     "shell.execute_reply.started": "2024-03-22T10:12:08.293152Z"
    },
    "tags": []
   },
   "outputs": [],
   "source": [
    "# Загрузка данных\n",
    "df1 = pd.read_csv('data_optimized_1.csv')\n",
    "df2 = pd.read_csv('data_optimized_2.csv')\n",
    "df3 = pd.read_csv('data_optimized_3.csv')\n",
    "df4 = pd.read_csv('data_optimized_4.csv')\n",
    "\n",
    "# Соединение датафреймов друг с другом\n",
    "data = pd.concat([df1, df2, df3, df4], ignore_index=True)"
   ]
  },
  {
   "cell_type": "code",
   "execution_count": 3,
   "id": "682fb99e-7473-4d10-9c03-4df7f92dc0d8",
   "metadata": {
    "execution": {
     "iopub.execute_input": "2024-03-22T10:12:14.854813Z",
     "iopub.status.busy": "2024-03-22T10:12:14.854428Z",
     "iopub.status.idle": "2024-03-22T10:12:14.893852Z",
     "shell.execute_reply": "2024-03-22T10:12:14.893294Z",
     "shell.execute_reply.started": "2024-03-22T10:12:14.854790Z"
    },
    "tags": []
   },
   "outputs": [
    {
     "name": "stdout",
     "output_type": "stream",
     "text": [
      "<class 'pandas.core.frame.DataFrame'>\n",
      "RangeIndex: 44623 entries, 0 to 44622\n",
      "Data columns (total 4 columns):\n",
      " #   Column     Non-Null Count  Dtype  \n",
      "---  ------     --------------  -----  \n",
      " 0   File       44623 non-null  object \n",
      " 1   Area       43395 non-null  float64\n",
      " 2   Delay      43395 non-null  float64\n",
      " 3   embedding  43395 non-null  object \n",
      "dtypes: float64(2), object(2)\n",
      "memory usage: 1.4+ MB\n"
     ]
    }
   ],
   "source": [
    "data.info()"
   ]
  },
  {
   "cell_type": "markdown",
   "id": "8c765c2d-ec95-49ca-87c1-2bdbe1314406",
   "metadata": {},
   "source": [
    "Видим, что имеются пропуски в значениях т.к. количество ненулевых значений в стобцах Area, Delay и embadding не совпадает с общим числом значений. Значения, которые имеют пропуски в этих ячейках, для обучения не подходят. Очистим данные от пропусков. Важно не забыть, что после использования функции(метода) dropna нумерация будет не последовательной, что может привести к ошибкам в будущем. Стоит сразу же это исправить"
   ]
  },
  {
   "cell_type": "code",
   "execution_count": 4,
   "id": "1f99feeb-0b20-4887-b272-2b7ca6cbaa4f",
   "metadata": {
    "execution": {
     "iopub.execute_input": "2024-03-22T10:12:14.895317Z",
     "iopub.status.busy": "2024-03-22T10:12:14.894945Z",
     "iopub.status.idle": "2024-03-22T10:12:14.933450Z",
     "shell.execute_reply": "2024-03-22T10:12:14.932899Z",
     "shell.execute_reply.started": "2024-03-22T10:12:14.895296Z"
    },
    "tags": []
   },
   "outputs": [],
   "source": [
    "data.dropna(inplace=True)\n",
    "data.reset_index(drop=True, inplace=True)"
   ]
  },
  {
   "cell_type": "code",
   "execution_count": 5,
   "id": "0ef91ed5-9bdf-4c78-b259-6f97fb4b66fa",
   "metadata": {
    "execution": {
     "iopub.execute_input": "2024-03-22T10:12:14.934615Z",
     "iopub.status.busy": "2024-03-22T10:12:14.934339Z",
     "iopub.status.idle": "2024-03-22T10:12:14.962086Z",
     "shell.execute_reply": "2024-03-22T10:12:14.961521Z",
     "shell.execute_reply.started": "2024-03-22T10:12:14.934596Z"
    },
    "tags": []
   },
   "outputs": [
    {
     "name": "stdout",
     "output_type": "stream",
     "text": [
      "<class 'pandas.core.frame.DataFrame'>\n",
      "RangeIndex: 43395 entries, 0 to 43394\n",
      "Data columns (total 4 columns):\n",
      " #   Column     Non-Null Count  Dtype  \n",
      "---  ------     --------------  -----  \n",
      " 0   File       43395 non-null  object \n",
      " 1   Area       43395 non-null  float64\n",
      " 2   Delay      43395 non-null  float64\n",
      " 3   embedding  43395 non-null  object \n",
      "dtypes: float64(2), object(2)\n",
      "memory usage: 1.3+ MB\n"
     ]
    }
   ],
   "source": [
    "data.info()"
   ]
  },
  {
   "cell_type": "markdown",
   "id": "e56e3a14-db58-4ce2-b8cb-a15a54120649",
   "metadata": {},
   "source": [
    "Проверим наличие выбросов в значениях параметров Задержки и площади:"
   ]
  },
  {
   "cell_type": "code",
   "execution_count": 6,
   "id": "df502141-2b7e-4c3c-bcde-07ac4fb41173",
   "metadata": {
    "execution": {
     "iopub.execute_input": "2024-03-22T10:12:14.963102Z",
     "iopub.status.busy": "2024-03-22T10:12:14.962804Z",
     "iopub.status.idle": "2024-03-22T10:12:14.998677Z",
     "shell.execute_reply": "2024-03-22T10:12:14.998122Z",
     "shell.execute_reply.started": "2024-03-22T10:12:14.963082Z"
    },
    "tags": []
   },
   "outputs": [
    {
     "name": "stdout",
     "output_type": "stream",
     "text": [
      "Максимальная задержка:  1129.6\n",
      "Минимальная задержка:  -1000000000.0\n",
      "Максимальная площадь:  1189.38\n",
      "Минимальная площадь:  0.0\n"
     ]
    }
   ],
   "source": [
    "print(\"Максимальная задержка: \", data['Delay'].max())\n",
    "print(\"Минимальная задержка: \", data['Delay'].min())\n",
    "print(\"Максимальная площадь: \", data['Area'].max())\n",
    "print(\"Минимальная площадь: \", data['Area'].min())"
   ]
  },
  {
   "cell_type": "markdown",
   "id": "98d961a8-cb40-4f2b-8905-90dc913877b1",
   "metadata": {},
   "source": [
    "Видим, что в таблице присутствуют некорректные данные, с площадью равной 0 и устремленным в минус бесконечность временем задержки. Для улучшения качества обучения, необходимо избавиться от таких данных"
   ]
  },
  {
   "cell_type": "code",
   "execution_count": 7,
   "id": "9560941e-862e-460b-ae78-5a5282f63794",
   "metadata": {
    "execution": {
     "iopub.execute_input": "2024-03-22T10:12:14.999664Z",
     "iopub.status.busy": "2024-03-22T10:12:14.999376Z",
     "iopub.status.idle": "2024-03-22T10:12:15.037157Z",
     "shell.execute_reply": "2024-03-22T10:12:15.036547Z",
     "shell.execute_reply.started": "2024-03-22T10:12:14.999645Z"
    },
    "tags": []
   },
   "outputs": [],
   "source": [
    "data.drop(data[data['Delay'] == data['Delay'].min()].index, inplace=True)\n",
    "data.drop(data[data['Area'] == data['Area'].min()].index, inplace=True)\n",
    "data.reset_index(drop=True, inplace=True)"
   ]
  },
  {
   "cell_type": "code",
   "execution_count": 8,
   "id": "154960b1-3e62-45b2-b73c-1be2066fb60d",
   "metadata": {
    "execution": {
     "iopub.execute_input": "2024-03-22T10:12:15.038282Z",
     "iopub.status.busy": "2024-03-22T10:12:15.037921Z",
     "iopub.status.idle": "2024-03-22T10:12:15.086664Z",
     "shell.execute_reply": "2024-03-22T10:12:15.086061Z",
     "shell.execute_reply.started": "2024-03-22T10:12:15.038260Z"
    },
    "tags": []
   },
   "outputs": [
    {
     "name": "stdout",
     "output_type": "stream",
     "text": [
      "<class 'pandas.core.frame.DataFrame'>\n",
      "RangeIndex: 41867 entries, 0 to 41866\n",
      "Data columns (total 4 columns):\n",
      " #   Column     Non-Null Count  Dtype  \n",
      "---  ------     --------------  -----  \n",
      " 0   File       41867 non-null  object \n",
      " 1   Area       41867 non-null  float64\n",
      " 2   Delay      41867 non-null  float64\n",
      " 3   embedding  41867 non-null  object \n",
      "dtypes: float64(2), object(2)\n",
      "memory usage: 1.3+ MB\n"
     ]
    }
   ],
   "source": [
    "data.info()"
   ]
  },
  {
   "cell_type": "markdown",
   "id": "696af25c-58d3-474f-979c-9e7591d56c0b",
   "metadata": {},
   "source": [
    "## Проверка корректности данных. Поиск выбросов"
   ]
  },
  {
   "cell_type": "markdown",
   "id": "ecc8f86d-57f6-4c7d-bf1c-5c10b664bbad",
   "metadata": {},
   "source": [
    "В этом месте, необходимо произвести оценку данных. Вывести графическую статистику по Area и Delay. Задача - определить значения, которые являются выбросами и удалить эти строки из DF. Таким образом, данные будут лучше подобраны для обучения"
   ]
  },
  {
   "cell_type": "code",
   "execution_count": 9,
   "id": "ac0b5c07-fc73-43fd-b822-75dcff72f4af",
   "metadata": {
    "execution": {
     "iopub.execute_input": "2024-03-22T10:12:15.088739Z",
     "iopub.status.busy": "2024-03-22T10:12:15.088330Z",
     "iopub.status.idle": "2024-03-22T10:12:15.372087Z",
     "shell.execute_reply": "2024-03-22T10:12:15.371455Z",
     "shell.execute_reply.started": "2024-03-22T10:12:15.088717Z"
    },
    "tags": []
   },
   "outputs": [
    {
     "data": {
      "image/png": "[encoded data removed]",
      "text/plain": [
       "<Figure size 576x288 with 2 Axes>"
      ]
     },
     "metadata": {
      "needs_background": "light"
     },
     "output_type": "display_data"
    }
   ],
   "source": [
    "fig, (ax1, ax2) = plt.subplots( #делаем полотно с несколькими графиками\n",
    "    nrows=1, ncols=2, # расположенными в один ряд два столбца\n",
    "    figsize=(8, 4) # размер полотна\n",
    ") #\n",
    "\n",
    "ax1.hist( # строим второй график - гистограмму\n",
    "    data['Delay'], bins=15, # задаем данные и диапазоны\n",
    "    label=('x', 'y') # и подписи данных\n",
    ")\n",
    "\n",
    "ax1.legend(loc=(0.65, 0.8)) # отображаем легенду и задаем ее расположение\n",
    "ax1.set_title('Spreading the delay values') # название второго графика\n",
    "ax1.yaxis.tick_right() # устанавливаем, что вертикальная ось должна быть справа\n",
    "\n",
    "ax2.hist( # строим второй график - гистограмму\n",
    "    data['Area'], bins=20,  # задаем данные и диапазоны\n",
    "    label=('x', 'y') # и подписи данных\n",
    ")\n",
    "\n",
    "ax2.locator_params (axis='x', nbins=10)\n",
    "ax2.legend(loc=(0.65, 0.8)) # отображаем легенду и задаем ее расположение\n",
    "ax2.set_title('Spreading the area values') # название второго графика\n",
    "ax2.yaxis.tick_right() # устанавливаем, что вертикальная ось должна быть справа\n",
    "\n",
    "plt.show() # отображаем полотна"
   ]
  },
  {
   "cell_type": "markdown",
   "id": "d8d7a269-f8a2-4f36-a0b4-5d45a2a3e748",
   "metadata": {},
   "source": [
    "Видим, что значения задержи, большие 1000 (Если данных будет нехватать, то и большие 750), можно принять за выбросы. Для площади, это значения большие 150."
   ]
  },
  {
   "cell_type": "code",
   "execution_count": 10,
   "id": "22de5e0b-3545-4930-84b8-902eca3cc488",
   "metadata": {
    "execution": {
     "iopub.execute_input": "2024-03-22T10:12:15.373473Z",
     "iopub.status.busy": "2024-03-22T10:12:15.373124Z",
     "iopub.status.idle": "2024-03-22T10:12:15.422591Z",
     "shell.execute_reply": "2024-03-22T10:12:15.422Z",
     "shell.execute_reply.started": "2024-03-22T10:12:15.373452Z"
    },
    "tags": []
   },
   "outputs": [],
   "source": [
    "data.drop(data[data['Delay'] > 1000].index, inplace=True)\n",
    "data.drop(data[data['Area'] > 600].index, inplace=True)\n",
    "data.reset_index(drop=True, inplace=True)"
   ]
  },
  {
   "cell_type": "code",
   "execution_count": 11,
   "id": "df6af5a9-72e0-4a94-9689-ab06049856b9",
   "metadata": {
    "execution": {
     "iopub.execute_input": "2024-03-22T10:12:15.423697Z",
     "iopub.status.busy": "2024-03-22T10:12:15.423342Z",
     "iopub.status.idle": "2024-03-22T10:12:15.472569Z",
     "shell.execute_reply": "2024-03-22T10:12:15.472015Z",
     "shell.execute_reply.started": "2024-03-22T10:12:15.423676Z"
    },
    "tags": []
   },
   "outputs": [
    {
     "name": "stdout",
     "output_type": "stream",
     "text": [
      "<class 'pandas.core.frame.DataFrame'>\n",
      "RangeIndex: 41192 entries, 0 to 41191\n",
      "Data columns (total 4 columns):\n",
      " #   Column     Non-Null Count  Dtype  \n",
      "---  ------     --------------  -----  \n",
      " 0   File       41192 non-null  object \n",
      " 1   Area       41192 non-null  float64\n",
      " 2   Delay      41192 non-null  float64\n",
      " 3   embedding  41192 non-null  object \n",
      "dtypes: float64(2), object(2)\n",
      "memory usage: 1.3+ MB\n"
     ]
    }
   ],
   "source": [
    "data.info()"
   ]
  },
  {
   "cell_type": "markdown",
   "id": "a4a82ab7-ccba-4a1f-91d3-5338ae609fe2",
   "metadata": {},
   "source": [
    "## Парсинг эмбеддингов"
   ]
  },
  {
   "cell_type": "code",
   "execution_count": 12,
   "id": "2753a106-eb6d-4325-8079-236562d02ef2",
   "metadata": {
    "execution": {
     "iopub.execute_input": "2024-03-22T10:12:15.473592Z",
     "iopub.status.busy": "2024-03-22T10:12:15.473261Z",
     "iopub.status.idle": "2024-03-22T10:12:15.516942Z",
     "shell.execute_reply": "2024-03-22T10:12:15.516404Z",
     "shell.execute_reply.started": "2024-03-22T10:12:15.473572Z"
    },
    "scrolled": true,
    "tags": []
   },
   "outputs": [
    {
     "data": {
      "text/plain": [
       "'[[-0.0023294328711926937, 0.0010059750638902187, 0.020557958632707596, 0.036383241415023804, -0.0376126691699028, -0.028824374079704285, 0.025990357622504234, 0.03626422584056854, -0.02031301148235798, -0.01526272390037775, 0.029781151562929153, -0.006153405643999577, -0.01836802251636982, 0.026345035061240196, -0.01960602030158043, -0.007308585569262505, 0.011734742671251297, 0.004220206756144762, -0.03347805514931679, -0.03825681284070015, 0.02961454726755619, 0.020517736673355103, 0.027350598946213722, 0.0030764532275497913, 0.025808831676840782], [-0.013696731068193913, -0.003834116505458951, 0.023253051564097404, -0.030173856765031815, -0.01584583893418312, -0.030236484482884407, -0.0036846150178462267, 0.03843872249126434, -0.02941228821873665, -0.009418928995728493, -0.007723821792751551, 0.032445743680000305, -0.023836053907871246, 0.00016100586799439043, -0.019183043390512466, -0.038594264537096024, 0.020150167867541313, -0.03511103242635727, -0.017706187441945076, -0.00011774320591939613, -0.0011518558021634817, -0.030753539875149727, 0.03862890228629112, 0.01997707411646843, 0.03714706748723984], [-0.03294512629508972, 0.018175216391682625, -0.01659122295677662, 0.00327205378562212, 0.034152813255786896, -0.018111038953065872, 0.018167775124311447, -0.027258407324552536, -0.01430983655154705, 0.03776699677109718, -0.006367519032210112, 0.0013824488269165158, -0.016851194202899933, -0.03094335086643696, -0.00604605209082365, 0.009969803504645824, -0.003496497869491577, 0.0222238190472126, -0.011048825457692146, 0.009159495122730732, 0.022046102210879326, 0.03354886174201965, -0.005744418129324913, -0.03702332079410553, 0.017710795626044273], [0.0021920744329690933, 0.030043257400393486, -0.0031905469950288534, -0.010634770616889, -0.03550097346305847, -0.003643881529569626, 0.011354581452906132, 0.021913593634963036, 0.028372613713145256, -0.02311408892273903, 0.007508694659918547, 0.02467852458357811, -0.01956838183104992, -0.012615450657904148, 0.027345456182956696, 0.006661360152065754, 0.0009288702858611941, 0.014027981087565422, 0.0008323406218551099, 0.038807518780231476, 0.020526479929685593, -0.035910844802856445, -0.028234215453267097, 0.0037786311004310846, 0.025954050943255424], [-0.03480219841003418, 0.01476800162345171, 0.020837295800447464, 0.023035233840346336, 0.02988561801612377, -0.024934792891144753, 0.0044600265100598335, 0.02443135902285576, -0.01147161703556776, -0.024879351258277893, -0.0016629527090117335, -0.0335087850689888, -0.022588321939110756, 0.028482630848884583, 0.01345396414399147, 0.02892482653260231, 0.027384474873542786, 0.030318085104227066, -0.015286985784769058, -0.002374842297285795, 0.009549268521368504, -0.01817435212433338, 0.03383982181549072, -0.039564136415719986, 0.02742743119597435], [0.011657667346298695, -0.019731326028704643, 0.01759275048971176, -0.006958298850804567, 0.0268455371260643, 0.03985939919948578, -0.017449773848056793, -0.002397351199761033, -0.022782549262046814, 0.01540328934788704, 0.01114650722593069, 0.027564305812120438, 0.024404382333159447, 0.038153987377882004, 0.037093669176101685, 0.031592272222042084, -0.027958016842603683, -0.03662345930933952, -0.0014230108354240656, -0.012399363331496716, 0.03157726675271988, 0.023754296824336052, -0.006182651501148939, 0.0060438537038862705, 0.007160163018852472], [0.031221413984894753, -0.03800676017999649, -0.0008251278777606785, 0.013892829418182373, -0.003753352677449584, 0.03350015729665756, 0.03603631258010864, 0.02614651434123516, -0.0029082733672112226, 0.030851740390062332, -0.03413693234324455, 0.012855597771704197, -0.018581824377179146, -0.020369209349155426, 0.014370223507285118, 0.021484730765223503, 0.031122101470828056, -0.023043490946292877, 0.029682885855436325, 0.026488279923796654, -0.014825999736785889, -0.03497131168842316, 0.02178771421313286, 0.026014655828475952, -0.00309141562320292], [-0.026838170364499092, -0.028321318328380585, -0.010008350014686584, 0.0205688439309597, -0.01466402132064104, -0.037491243332624435, 0.01529657281935215, 0.01955600641667843, -0.025740202516317368, 0.004857406951487064, -0.008305797353386879, 0.00010143716644961387, -0.0395485945045948, 0.010766460560262203, -0.0189965907484293, 0.0043498375453054905, -0.0062868958339095116, 0.008785965852439404, -0.03153669089078903, -0.01087137870490551, 0.010672013275325298, 0.021398205310106277, -0.009581784717738628, -0.03803852200508118, 0.018033983185887337], [0.0003692518803291023, 0.012304848060011864, -0.027250973507761955, -0.0054757301695644855, 0.03068890981376171, 0.02940233238041401, -0.014683234505355358, 0.010551521554589272, -0.03326330706477165, 0.024816997349262238, -0.01854083128273487, -0.012665962800383568, 0.037268225103616714, 0.0034873199183493853, 0.029972588643431664, -0.024279607459902763, 0.020644506439566612, 0.039738137274980545, -0.033839087933301926, -0.02054847590625286, -0.028264906257390976, -0.01943659409880638, -0.01512074377387762, -0.03417346999049187, 0.0318157859146595], [-0.0193757526576519, 0.03369445353746414, 0.021050281822681427, -0.026200104504823685, 0.015831485390663147, 0.02188059873878956, -0.029706144705414772, -0.0296228788793087, -0.009900922887027264, -0.03450290113687515, -0.006326289381831884, -0.0016137313796207309, 0.013198737986385822, 0.0057675219140946865, -0.003525686217471957, -0.022376231849193573, 0.006921463180333376, -0.0035894871689379215, 0.02717476338148117, 0.015894360840320587, 0.018117886036634445, 0.0057372236624360085, -0.010799421928822994, -0.017467251047492027, -0.004128298722207546], [0.005748109892010689, -0.010584034956991673, -0.028295131400227547, -0.03122122772037983, -0.0364871472120285, -0.023740677163004875, -0.007389698177576065, -0.017295485362410545, -0.025842681527137756, -0.014869289472699165, 0.017156634479761124, -0.014956173487007618, 0.033512700349092484, 0.006135974079370499, -0.028969278559088707, 0.037735193967819214, 0.030524849891662598, 0.021973127499222755, -0.027395382523536682, 0.023290716111660004, 0.016036372631788254, 0.020741477608680725, 0.017023606225848198, 0.0077590178698301315, -0.012680649757385254], [0.03340898081660271, 0.03845127299427986, 0.015166639350354671, -0.011342647485435009, 2.4800037863315083e-05, 0.0048750462010502815, -0.033833954483270645, -0.03289102017879486, -0.000934199255425483, 0.004944471176713705, -0.02297208085656166, -0.018895957618951797, -0.02938186191022396, 0.03330874815583229, 0.000489143596496433, -0.018036045134067535, 0.022818559780716896, 0.03673696517944336, -0.016411224380135536, 0.031851183623075485, 0.021502627059817314, 0.02351311966776848, 0.0020583528093993664, 0.0328495129942894, -0.028065457940101624], [-0.033003322780132294, 0.03720344230532646, -0.0007693423540331423, -0.007846744731068611, 0.018428966403007507, -0.016388123854994774, 0.01097151916474104, 0.027746396139264107, 0.024231746792793274, -0.03002784214913845, 0.037530336529016495, 0.018703248351812363, 0.01583612710237503, -0.02499259263277054, 0.03384258970618248, -0.008597718551754951, 0.0353161096572876, -0.02144409902393818, -0.0325327031314373, 0.027325648814439774, 0.006674242205917835, -0.008791071362793446, 0.03806423023343086, 0.03793346881866455, -0.039052799344062805], [0.010029474273324013, 0.02463032677769661, 0.01548205316066742, 0.008089660666882992, 0.0017177468398585916, 0.0026999893598258495, -0.015278203412890434, -0.028558772057294846, -0.00836135633289814, 0.01570054329931736, 0.03527550771832466, 0.03703812137246132, -0.02389773540198803, -0.03760653734207153, 0.03906074911355972, 0.013714980334043503, 0.020665571093559265, 0.025130202993750572, -0.01122744008898735, 0.029284430667757988, 0.011320791207253933, 0.011481008492410183, -0.009524906985461712, -0.0125110549852252, -0.009481065906584263], [0.01726079173386097, 0.00018494292453397065, -0.038535986095666885, -0.038846150040626526, -0.024864915758371353, -0.0005071103223599494, 0.008189044892787933, 0.03828215226531029, 0.02252020873129368, -0.017414892092347145, 0.00122460862621665, 0.019995225593447685, 0.031164418905973434, -0.004561795387417078, 0.017388952895998955, -0.023514162749052048, -0.003195103956386447, 0.032901033759117126, -0.009686673060059547, -0.039058052003383636, 0.02328014001250267, -0.015857748687267303, -0.004884709604084492, 0.04015952721238136, -0.008955453522503376], [-0.01904181018471718, -0.02130647376179695, 0.02792889066040516, -0.02283521182835102, 0.008463786914944649, -0.021029559895396233, 0.024477140977978706, 0.017437487840652466, 0.010418218560516834, -0.005967398174107075, -0.010983305983245373, 0.03597339242696762, 0.020853865891695023, -0.00865125097334385, -0.037867721170186996, -0.029710300266742706, -0.004245086573064327, -0.0031700688414275646, -0.010255379602313042, 0.03873365372419357, -0.001831100438721478, 0.02348080649971962, -0.02978574112057686, -0.0100405877456069, -0.022179489955306053], [-0.028556060045957565, 0.004964122548699379, -0.02870686538517475, -0.008978472091257572, 0.014877214096486568, 0.023332495242357254, 0.004792733117938042, 0.008410925976932049, -0.01644156500697136, 0.02890133298933506, -0.025228166952729225, 0.01858886331319809, -0.032879892736673355, 0.008145871572196484, -0.019908208400011063, -0.016990752890706062, -0.01243593730032444, 0.022620834410190582, 0.02319360338151455, -0.01989859528839588, 0.0030933236703276634, -0.03398311138153076, 0.03123922273516655, 0.037029165774583817, -0.010969310067594051], [0.0032008932903409004, 0.0029866076074540615, 0.021911539137363434, -0.0344243161380291, 0.002337822923436761, 0.0274776890873909, 0.00892637763172388, 0.004498705733567476, -0.03728862106800079, 0.03392946720123291, -0.0250565093010664, -0.011969494633376598, 0.01397514808923006, -0.0030905103776603937, 0.005645165219902992, 0.007127966731786728, -0.027315597981214523, -0.038899246603250504, 0.03616233915090561, 0.024792218580842018, -0.0276517104357481, 0.013613929972052574, 0.0008242559270001948, 0.019014982506632805, -0.028479771688580513], [0.016105299815535545, 0.01739473268389702, 0.039824843406677246, -0.017893580719828606, -0.00556453550234437, -0.029274804517626762, -0.038788460195064545, -0.036305367946624756, -0.004097627010196447, -0.02601435035467148, 0.01940060965716839, -0.024645835161209106, 0.010072590783238411, 0.0029552956111729145, -0.01356158684939146, -0.003920457791537046, 0.03992493450641632, 0.036588724702596664, -0.017856158316135406, 0.036327917128801346, -0.02255941927433014, 0.023719677701592445, -0.012384644709527493, 0.013729632832109928, 0.012078380212187767], [0.027589984238147736, -0.009490713477134705, 0.03508953005075455, 0.030355997383594513, -0.03820107877254486, -0.032042164355516434, -0.030551403760910034, 0.011712954379618168, -0.011194069869816303, -0.027725733816623688, -0.03250616043806076, 0.033251721411943436, 0.007963264361023903, -0.03731647506356239, -0.019168367609381676, 0.012540262192487717, -0.018838705494999886, 0.021140918135643005, -0.016953611746430397, 0.010546117089688778, -0.032170675694942474, 0.024837229400873184, 0.019292065873742104, 0.0031551083084195852, 0.012070880271494389], [-0.034915123134851456, 0.008526120334863663, -0.003495933022350073, -0.03727622330188751, -0.03771492838859558, -0.005646794103085995, 0.017729628831148148, 0.014821087941527367, -0.025998925790190697, -0.02749442122876644, -0.019996412098407745, -0.009141736663877964, -0.029004819691181183, -0.03841685876250267, -0.010971972718834877, -0.0334518700838089, -0.02415044605731964, -0.022676916792988777, -0.009382165037095547, -0.006826941855251789, -0.03582341596484184, -0.002943851053714752, 0.03261271119117737, 0.0307600200176239, -0.028815878555178642], [-0.014687805436551571, 0.012497957795858383, -0.0382952056825161, 0.005885886028409004, 0.026092922315001488, 0.022963697090744972, -0.03504041209816933, -0.018045250326395035, -0.032573167234659195, 0.00018721030210144818, 0.037051718682050705, 0.02392154186964035, 0.020257780328392982, 0.020222898572683334, -0.012958417646586895, 0.03819785639643669, -0.029405910521745682, -0.029048334807157516, -0.00909267459064722, -0.003112781560048461, -0.012840542942285538, -0.0023762157652527094, 0.029957160353660583, -0.0027964410837739706, -0.006462818011641502], [0.010975377634167671, -0.033436693251132965, 0.03142407536506653, 0.034143585711717606, -0.03833671286702156, 0.009784537367522717, 0.03962155804038048, -0.030659567564725876, -0.027868803590536118, -0.03094800002872944, 0.033583689481019974, -0.0027210344560444355, 0.03657934442162514, -0.03263641893863678, 0.014973539859056473, 0.010538577102124691, 0.0029739837627857924, 0.009316260926425457, -0.02988130785524845, -0.03743219003081322, 0.009417104534804821, 0.02459181286394596, 0.031945426017045975, 0.02294286899268627, -0.003105316311120987], [0.03322465717792511, -0.03734525665640831, 0.013624530285596848, 0.0010670137125998735, 0.015428977087140083, 0.029543133452534676, -0.02690066769719124, 0.02233792282640934, -0.03808889910578728, -0.003217835444957018, -0.03475494682788849, -0.020394692197442055, 0.037156905978918076, -0.007433047518134117, 0.011657705530524254, 0.03628511726856232, 0.03575253114104271, -0.03283374011516571, -0.012049254961311817, 0.0395464226603508, 0.020417723804712296, -0.006352348253130913, -0.034768085926771164, 0.011846065521240234, -0.026703590527176857], [0.032529085874557495, -0.01782933622598648, -0.004273429047316313, 0.004025459289550781, -0.0007644558208994567, 0.004592709708958864, 0.024455443024635315, -8.108616020763293e-05, -0.01298386137932539, -0.006042914465069771, 0.02358919568359852, 0.006056408863514662, -0.0028970479033887386, 0.037332989275455475, -0.019685134291648865, -0.0033536385744810104, 0.03670164570212364, 0.026997709646821022, 0.006011424120515585, -0.03553024306893349, 0.004594983998686075, -0.009153022430837154, 0.03747294843196869, 0.004839711356908083, 0.005960254464298487], [0.009625639766454697, -0.007344026584178209, -0.01999853551387787, 0.0009297180222347379, -0.008056721650063992, 0.02640373259782791, 0.03576049208641052, -0.0026990175247192383, 0.011908059008419514, -0.024430617690086365, 0.00679729925468564, -0.027704929932951927, -0.03477610647678375, -0.023600811138749123, -0.03582590073347092, 0.0291103795170784, -0.0230881255120039, 0.033105406910181046, -0.028974181041121483, 0.01368669979274273, 0.03869999572634697, -0.031141791492700577, -0.039780229330062866, -0.017316585406661034, -0.01073252223432064], [-0.0010851573897525668, -0.03532620519399643, -0.03447023034095764, 0.011200842447578907, -0.03282562643289566, -0.036277346312999725, -0.009361863136291504, -0.03452723100781441, -0.028226599097251892, -0.03360460326075554, -0.0012053155805915594, -0.01825719326734543, 0.026508698239922523, 0.006108641624450684, -0.013365902937948704, 0.02443588711321354, -0.024053139612078667, -0.018624678254127502, -0.028830036520957947, -0.017346320673823357, -0.0072373198345303535, 0.025958571583032608, -0.011081571690738201, 0.01967586949467659, 0.027617769315838814], [-0.029854822903871536, 0.018259400501847267, 0.02450791373848915, -0.011817898601293564, 0.02650008723139763, 0.024503517895936966, -0.025773940607905388, -0.027058206498622894, 0.010155835188925266, -0.006495275534689426, -0.024260511621832848, 0.03799683600664139, -0.020520586520433426, -0.02621638774871826, -0.0004795408167410642, -0.010805712081491947, 0.001777601195499301, -0.014149832539260387, -0.0016773224342614412, -0.0028344630263745785, 0.003291282569989562, 0.0327792689204216, -0.022946828976273537, -0.006638112012296915, 0.02228643000125885], [0.03267247974872589, -0.0177721306681633, 0.03594173491001129, 0.03301465883851051, -0.01774088852107525, 0.0012124204076826572, 0.017097964882850647, -0.015705280005931854, -0.022239862009882927, -0.026049289852380753, -0.0026829529087990522, -0.0011836863122880459, 0.017852339893579483, -0.009896215982735157, -0.0006904363399371505, 0.009847503155469894, 0.019470395520329475, -0.00012323379633016884, -0.02535763755440712, -0.03704322874546051, 0.00010663032298907638, 0.026647577062249184, 0.0058640907518565655, -0.035866089165210724, -0.03175441920757294], [0.026207609102129936, -0.015142722055315971, 0.025019969791173935, -0.026724128052592278, 0.03391864895820618, -0.026065297424793243, 0.013152079656720161, -0.004227943252772093, -0.0271501112729311, -0.01315038651227951, -0.004645647946745157, -0.021883759647607803, -0.004845390096306801, -0.030253253877162933, 0.010586638003587723, 0.036280594766139984, -0.009509000927209854, -0.003906040219590068, 0.014054246246814728, 0.034660350531339645, -0.023687411099672318, -0.027550311759114265, -0.011731939390301704, 0.036590784788131714, 0.0034650706220418215], [-0.03471360355615616, -0.005787916015833616, 0.037917863577604294, -0.030197950080037117, -0.02143239416182041, 0.03726625069975853, -0.03589490428566933, 0.015303630381822586, 0.0026617622934281826, 0.026642804965376854, 0.03325101360678673, -0.011403140611946583, -0.015969252213835716, 0.035591669380664825, 0.00835858378559351, 0.024995766580104828, -0.037782859057188034, 0.03836049512028694, -0.005393233150243759, -0.02420846000313759, 0.011970138177275658, -0.0018264437094330788, 0.018825970590114594, -0.00913208443671465, -0.016551369801163673], [0.009111595340073109, 0.033417534083127975, -0.01998242363333702, 0.010674715042114258, -0.03196221962571144, -0.02709338627755642, -0.0018706751288846135, -0.035070911049842834, 0.011157751083374023, 0.006394381634891033, -0.009278769604861736, 0.020015163347125053, 0.03899514675140381, 0.033817071467638016, -0.0075208996422588825, 0.008232607506215572, -0.01601475663483143, -0.03296562284231186, 0.02511182241141796, -0.007796726189553738, -0.002664818661287427, -0.0070853279903531075, -0.018142662942409515, 0.016246838495135307, -0.017080722376704216], [-0.03831418603658676, 0.03577246144413948, 0.01666027493774891, 0.03693893924355507, 0.026574010029435158, 0.011698947288095951, 0.03921607881784439, -0.017698563635349274, -0.027213243767619133, 0.0169095229357481, 0.014915999956429005, -0.022658443078398705, 0.03881904110312462, -0.014233226887881756, 0.03819762542843819, 0.0033389043528586626, -0.025353826582431793, -0.007908468134701252, -0.02950821816921234, -0.011918092146515846, 0.004166788887232542, 0.037930749356746674, 0.03742339089512825, -0.02638350985944271, 0.013900604099035263], [0.009102282114326954, -0.009957408532500267, -0.036916688084602356, 0.0041085053235292435, -0.03266282379627228, 0.025280756875872612, -0.023200321942567825, 0.022141756489872932, 0.039334893226623535, -0.0006400013226084411, 0.01811397075653076, -0.007237601093947887, 0.02944304421544075, 0.015760388225317, -0.036041297018527985, -0.009594015777111053, 0.014515075832605362, -0.00039827346336096525, -0.0048050833866000175, -0.004221754148602486, -0.006686406210064888, 0.002419810276478529, 0.016660381108522415, -0.017011165618896484, -0.015334486961364746], [-0.00021126747014932334, 0.0010774231050163507, -0.0006752252811565995, -0.01914202608168125, 0.017253609374165535, -0.008687677793204784, 0.008414158597588539, 0.00266609201207757, 0.023878708481788635, -0.02736952342092991, -0.027262840420007706, -0.01790503039956093, 0.03774331510066986, -0.006367530673742294, -0.03771696984767914, -0.002180166309699416, -0.017795691266655922, 0.024000314995646477, -0.038334742188453674, 0.01143600419163704, -0.03701132908463478, 0.004999203607439995, 0.02399679273366928, 0.029589390382170677, -0.0304858535528183], [-0.024212094023823738, -0.027353763580322266, -0.031673360615968704, -0.0379963219165802, -0.008501987904310226, -0.0033437300007790327, -0.02902480587363243, 0.02714814618229866, 0.004478478338569403, 0.023315466940402985, 0.005891466047614813, 0.0031574631575495005, -0.02947251871228218, -0.008706632070243359, 0.017284316942095757, -0.020341258496046066, 0.004523158073425293, 0.011533455923199654, -0.006145443767309189, 0.03972918167710304, 0.03339853882789612, 0.009662666358053684, 0.028472982347011566, 0.02356575056910515, -0.02232246845960617], [-0.020624971017241478, -0.026673350483179092, -0.0311073400080204, 0.03324291110038757, -0.007929367944598198, -0.02741985395550728, -0.016617555171251297, 0.02057650499045849, -0.011476545594632626, -0.01499864086508751, 0.006485700607299805, -0.011105175130069256, -0.006337442435324192, 0.004297967068850994, -0.011911778710782528, 0.034077130258083344, 0.015643740072846413, -0.039835453033447266, 0.025038398802280426, -0.0270170159637928, 0.0030777312349528074, 0.017616938799619675, -0.02041349932551384, -0.008442678488790989, 0.03238191455602646], [-0.016975170001387596, -0.03054504469037056, 0.03703165054321289, -0.008621987886726856, -0.018877729773521423, 0.03428319841623306, 0.017133355140686035, 0.0172993466258049, 0.03713805228471756, -0.03381232172250748, 0.0210212804377079, 0.008157406002283096, 0.016753120347857475, 0.0067916009575128555, 0.0178565364331007, 0.01794516108930111, 0.024418087676167488, -0.012808389961719513, -0.018302911892533302, -0.0017060660757124424, 0.01013493537902832, -0.013052668422460556, 0.024230871349573135, 0.016616521403193474, 0.03105836920440197], [0.010277089662849903, 0.03246673196554184, -0.005548839457333088, 0.032311711460351944, 0.014868063852190971, -0.032189298421144485, -0.015734458342194557, -0.00988751370459795, 0.019572176039218903, -0.0034886361099779606, -0.01132363360375166, 0.031334828585386276, 0.03729160130023956, -0.006459712982177734, -0.020636998116970062, -0.01880703493952751, -0.019384203478693962, -0.038411304354667664, 0.005488080903887749, -0.01689966209232807, 0.010106835514307022, 0.02245793305337429, -0.016263622790575027, -0.038386326283216476, 0.00618679029867053], [-0.02680048905313015, 0.009980697184801102, -0.015122528187930584, 0.028313685208559036, 0.0025608825962990522, 0.014243755489587784, -0.01095653511583805, -0.006842189002782106, 0.030611172318458557, 0.005630712490528822, -0.023401794955134392, -0.03133798763155937, 0.004930749069899321, 0.02581852488219738, 0.02222539857029915, -0.03590819984674454, 0.03436865657567978, 0.016187911853194237, 0.029878420755267143, 0.03898533806204796, -0.029158320277929306, -0.03615985065698624, 0.023344002664089203, 0.037564851343631744, 0.014027700759470463], [0.0283551886677742, -0.006271719932556152, 0.03178999572992325, -0.03795463591814041, -0.032117996364831924, -0.02656148374080658, -0.016013817861676216, 0.019956864416599274, -0.01525423489511013, -0.03327962011098862, 0.03364710882306099, -0.014988007955253124, 0.034434784203767776, -0.01958300545811653, 0.015674376860260963, 0.019688067957758904, 0.009570436552166939, -0.011275215074419975, 0.011396498419344425, -0.03302494436502457, -0.011062159202992916, -0.010364633053541183, 0.028996024280786514, -0.01385361235588789, -0.026398811489343643], [0.017361707985401154, -0.001897940644994378, -0.014390225522220135, 0.027529887855052948, 0.015489249490201473, -0.015600805170834064, 0.003087553894147277, 0.03657400980591774, 0.03101862408220768, 0.025447487831115723, 0.018669210374355316, 0.009537959471344948, -0.007366504520177841, -0.025485172867774963, -0.0012072420213371515, -0.00626155361533165, -0.00228914269246161, -0.025051483884453773, 0.029736189171671867, -0.026365971192717552, -0.02895710989832878, -0.011028585024178028, -0.00606160145252943, -0.030542869120836258, 0.0027929639909416437], [-0.02130444534122944, -0.005102176684886217, -0.029460445046424866, 0.007842273451387882, 0.013092794455587864, -9.255409531760961e-05, -0.021793432533740997, -0.006904344540089369, 0.02833966724574566, 0.014945034869015217, -0.03552419692277908, -0.013654203154146671, 0.009416408836841583, 0.00855207908898592, -0.03785603120923042, 0.018284663558006287, -0.03462798893451691, -0.029548272490501404, 0.013932447880506516, -0.013883833773434162, 0.0142578836530447, 0.035576362162828445, -0.01429728977382183, 0.03728169947862625, 0.006844153627753258], [0.03939109668135643, 0.02282017283141613, -0.03659793362021446, -0.013310923241078854, 0.02612069994211197, 0.02241111733019352, 0.03482206165790558, 0.027704410254955292, 0.03215555101633072, -0.03929203376173973, 0.01719530113041401, -0.020120305940508842, 0.014049543999135494, 0.024226751178503036, 0.017568526789546013, 0.030049437656998634, 0.005990862846374512, -0.005059766583144665, 0.023073602467775345, -0.022558270022273064, 0.00015436649846378714, 0.03782634809613228, -0.021925000473856926, 0.015257115475833416, -0.03245208412408829], [0.03908117115497589, 0.032660454511642456, 0.005123887211084366, 0.020390314981341362, 0.00563251506537199, -0.025820646435022354, -0.005712204147130251, 0.025796661153435707, -0.018469223752617836, -0.015972262248396873, 0.01969761773943901, 0.010852393694221973, -0.007391901221126318, -0.011507773771882057, 0.024042926728725433, -0.022866955026984215, -0.012946810573339462, -0.02595129981637001, -0.016938529908657074, -0.034323979169130325, -0.01787915639579296, -0.03404491767287254, 0.005615110509097576, -0.034472785890102386, -0.03966662287712097], [-0.03306926414370537, -0.027245959267020226, 0.026952847838401794, 0.015280717052519321, 0.0013345214538276196, -0.011977155692875385, -0.029857350513339043, 0.002285380382090807, 0.001950949663296342, 0.0006813124637119472, 0.0034994278103113174, 0.00319509650580585, -0.00031038507586345077, -0.03225735202431679, -0.023699773475527763, -0.03375774994492531, -0.0051955655217170715, 0.0074445707723498344, 0.029751108959317207, -0.007922819815576077, -0.009296179749071598, 0.03812149539589882, 0.0003821880090981722, -0.009708295576274395, 0.034776464104652405], [0.010712087154388428, -0.02144186571240425, 0.02646716497838497, 0.018108580261468887, -0.028400031849741936, -0.0013684382429346442, 0.0033877529203891754, 0.023192934691905975, -0.006930242292582989, -0.011339239776134491, 0.007045446429401636, 0.0034792828373610973, 0.0047734701074659824, -0.010639685206115246, -0.024032846093177795, 0.029395556077361107, 0.030559461563825607, 0.033464595675468445, -0.03464512899518013, 0.010551083832979202, -0.014240497723221779, 0.038630276918411255, 0.011733314022421837, 0.01864684373140335, 0.009714302606880665], [0.02643391117453575, -0.022973161190748215, 0.03157765045762062, -0.00964368786662817, -0.018247542902827263, -0.00824396125972271, 0.03893423080444336, -0.02742636203765869, -0.008766880258917809, 0.0280039981007576, -0.00022299766715150326, -0.025179868564009666, -0.025574102997779846, 0.03576157987117767, 0.02571830339729786, 0.019094372168183327, -0.013048190623521805, -0.03707047924399376, 0.015147552825510502, 0.02864220179617405, -0.022531557828187943, -0.031460050493478775, -0.011890959925949574, -0.019727593287825584, -0.009260444901883602], [-0.0077768657356500626, -0.02107008546590805, 0.037788454443216324, -0.037194930016994476, 0.018015790730714798, 0.02161671221256256, -0.005637049674987793, 0.03602837026119232, 0.03954143822193146, -0.021900171414017677, -0.024083999916911125, -0.026987891644239426, -0.031579528003931046, -0.012191667221486568, -0.022376108914613724, -0.0333787202835083, 0.003131608944386244, 0.011978626251220703, 0.025658974424004555, -0.01051579974591732, -0.01781390607357025, 0.004998283460736275, 0.001565847429446876, 0.03246799483895302, 0.0007312011439353228], [0.028926344588398933, -0.03305806219577789, 0.033734146505594254, -0.0075556375086307526, 0.03480461612343788, -0.03046734817326069, 0.007185544818639755, 0.004225945565849543, 0.0001840210024965927, -0.02041301317512989, -0.03699079155921936, -0.029056869447231293, -0.03180469572544098, 0.00765490997582674, 0.0019138669595122337, -0.007252550218254328, 0.028480663895606995, -0.009902767837047577, -0.0053892373107373714, -0.035602256655693054, -0.03970165178179741, 0.035797592252492905, -0.02301575243473053, -0.02549199014902115, 0.02079762890934944], [0.026679974049329758, -0.027326565235853195, 0.003839039709419012, -0.024033894762396812, 0.006589374504983425, -0.017157115042209625, -0.013763189315795898, 0.008742665871977806, 0.03464630991220474, 0.026912441477179527, -0.03870822861790657, -0.022488417103886604, 0.031521331518888474, 0.007957429625093937, -0.0170242078602314, 0.002395248506218195, 0.038083843886852264, -0.00441086757928133, -0.03769855201244354, 0.0064336396753787994, 0.02492941915988922, 0.02512948028743267, 0.01636660099029541, -0.02260095626115799, -0.0014827728737145662], [-0.0002212715189671144, 0.018287181854248047, -0.03216635808348656, -0.032073237001895905, 0.0010590028250589967, -0.03443319723010063, 0.02328062616288662, -0.0016712475335225463, 0.03988470882177353, -0.021375909447669983, -0.0019445562502369285, 0.031027093529701233, -0.01627172902226448, -0.020063601434230804, 0.006360283121466637, 0.010602775029838085, -0.010259837843477726, 0.02579011395573616, -0.030639810487627983, 0.01357424259185791, 0.0019598817452788353, 0.03492873162031174, 0.023930855095386505, 0.02726144716143608, 0.03129017725586891], [-0.038113873451948166, 0.03829694166779518, -0.031065763905644417, -0.01050554122775793, -0.019725089892745018, -0.01994207501411438, -0.03209913522005081, -0.03107961267232895, -0.01823972351849079, -0.005163113120943308, -0.02033468708395958, 0.024632249027490616, -0.03812185674905777, -0.021287165582180023, 0.03779805451631546, 0.027917101979255676, 0.030756087973713875, 0.017066726461052895, 0.0019786355551332235, -0.024022547528147697, 0.024167165160179138, 0.010588487610220909, 0.03086312673985958, 0.025559216737747192, 0.031950876116752625], [0.03462962806224823, -0.03958301991224289, -0.027022819966077805, 0.005350298713892698, 0.025761213153600693, 0.02949526347219944, 0.022067923098802567, 0.03064650110900402, -0.020502271130681038, 0.0263376384973526, -0.016433492302894592, -0.03622137010097504, 0.03656671941280365, 0.0053256177343428135, -0.011038717813789845, -0.0099113704636693, -0.0168819148093462, 0.01924934796988964, 0.01760088838636875, -0.010613450780510902, -0.02936752326786518, -0.014263405464589596, -0.0013464593794196844, 0.02438356913626194, -0.011349353939294815], [-0.0004835796426050365, 0.003518905723467469, -0.028382597491145134, 0.00826000701636076, -0.00572969438508153, 0.011208596639335155, 0.019368886947631836, -0.005408077035099268, -0.011120571754872799, 0.030954590067267418, 0.020182395353913307, 0.02685408666729927, 0.018062572926282883, 0.03466862067580223, 0.029899878427386284, -0.0043275500647723675, 0.03499055281281471, 0.01840687356889248, 0.021762533113360405, -0.005544338375329971, -0.008165273815393448, -0.01769738271832466, -0.03406078740954399, 0.012150912545621395, 0.035532768815755844], [0.03567896783351898, -0.007769417949020863, 0.024344630539417267, 0.015118894167244434, -0.017183862626552582, 0.008171696215867996, -0.021751541644334793, 0.032835569232702255, 0.021731633692979813, 0.012737737037241459, 0.01641027443110943, 0.034628599882125854, 0.029088139533996582, -0.0033338929060846567, -0.028291072696447372, 0.03352189064025879, 0.028934335336089134, 0.006921887397766113, -0.005389967001974583, -0.02356036752462387, -0.018132362514734268, 0.03459186479449272, -0.012540430761873722, -0.025355277583003044, 0.039480309933423996], [0.030786585062742233, 0.036482568830251694, 0.004542007576674223, -0.03330031782388687, 0.033700063824653625, -0.014784922823309898, 0.02296869270503521, 0.017566317692399025, 0.038759779185056686, -0.03717399016022682, 0.03683362156152725, -0.03712611272931099, -0.027630848810076714, -0.03640877828001976, -0.022188439965248108, 0.029475584626197815, 0.0366579107940197, -0.013301406055688858, 0.014892201870679855, -0.0145008135586977, 0.031525883823633194, 0.023467503488063812, 8.344650268554688e-07, -0.014514698646962643, -0.028897223994135857], [0.019074464216828346, 0.0058119152672588825, -0.01045274268835783, 0.031351227313280106, -0.016198458150029182, -0.036595944315195084, -0.009021882899105549, 0.0005005884449928999, -0.026557020843029022, -0.021946463733911514, -0.03399910777807236, 0.0369194932281971, 0.029696112498641014, -0.0011809730203822255, 0.0294706542044878, 0.031803153455257416, -0.003134293481707573, 0.026448363438248634, 0.015070094726979733, 0.020307369530200958, 0.029011964797973633, -0.018957557156682014, -0.008742132224142551, 0.003492493648082018, 0.016944823786616325], [0.013217325322329998, 0.020383309572935104, 0.018345942720770836, -0.03375403583049774, -0.012735357508063316, -0.02894703857600689, 0.03872568905353546, 0.020026396960020065, 0.0006833648658357561, 0.016451912000775337, -0.030624523758888245, -0.02517860382795334, 0.012305574491620064, 0.026138553395867348, 0.015799498185515404, 0.024072088301181793, -0.007944527082145214, -0.013380518183112144, 0.0008286809897981584, -0.012777443043887615, -0.022067617624998093, -0.031154241412878036, 0.026142172515392303, -0.0043613482266664505, -0.007563519291579723], [-0.031219100579619408, 0.03735029324889183, 0.003472566604614258, 0.0070785474963486195, 0.009966664016246796, -0.02954397164285183, 0.006555290427058935, 0.01190625224262476, -0.03426811844110489, 0.019823208451271057, 0.009733634069561958, 0.029991650953888893, 0.020177192986011505, -0.012126865796744823, -0.028651747852563858, 0.028384853154420853, 0.0076061394065618515, 0.020796943455934525, 0.025524435564875603, 0.007649116683751345, -0.024510445073246956, -2.518653855076991e-05, 0.03307319059967995, -0.024394191801548004, 0.03775312379002571], [-0.028763771057128906, 0.0169315617531538, 0.008653578348457813, 0.029762858524918556, -0.019557060673832893, -0.0182573851197958, -0.02439269609749317, 0.013197469525039196, -0.017997851595282555, 0.034091539680957794, -0.01715530827641487, -0.036421678960323334, -0.019265422597527504, 0.02566596120595932, -0.025485295802354813, -0.021046146750450134, -0.029217643663287163, 0.024089045822620392, 0.01343037560582161, 0.011393561027944088, -0.012554202228784561, 0.02412356436252594, -0.024610981345176697, -0.00792040303349495, -0.023932328447699547], [-0.00398272043094039, -0.008083944208920002, 0.0339437834918499, 0.0003120040928479284, -0.03430130332708359, -0.021716393530368805, -0.02750394307076931, 0.010769524611532688, 0.03782659024000168, -0.02326398342847824, 0.03306010365486145, 0.034128207713365555, -0.0282505564391613, -0.03553285077214241, 0.037876736372709274, 0.03349745646119118, -0.01876356638967991, -0.026904163882136345, 0.031368546187877655, 0.015053382143378258, 0.03238201513886452, -0.030286183580756187, -0.038100339472293854, 0.006309623830020428, -0.039223071187734604], [-0.019543537870049477, -0.013840412721037865, 0.03848369047045708, 0.03449427708983421, -0.011342430487275124, 0.023307491093873978, 0.03294837847352028, -0.009051923640072346, 0.038114167749881744, 0.028640860691666603, 0.008166003040969372, -0.015395054593682289, -0.020326999947428703, -0.012206611223518848, 0.031551457941532135, -0.024761738255620003, -0.01166008971631527, 0.03676408901810646, 0.013826622627675533, 0.024290448054671288, -0.032131265848875046, -0.0030060196295380592, 0.022089790552854538, -0.01885787397623062, 0.029913973063230515], [0.03727836534380913, -0.001637473120354116, -0.008254404179751873, -0.002373433206230402, -0.023143557831645012, -0.033545125275850296, -0.006027493625879288, -0.010228734463453293, 0.01752973534166813, -0.027470069006085396, 0.021654782816767693, -0.026980342343449593, -0.031281158328056335, 0.03388684615492821, 0.035674456506967545, -0.013924960978329182, 0.013965658843517303, -0.023182939738035202, -0.03500034287571907, -0.022062286734580994, 0.026994915679097176, 0.025671038776636124, 0.037752293050289154, 0.028221139684319496, 0.027019809931516647], [0.005200667306780815, -0.03921721130609512, 0.018351050093770027, -0.00215289113111794, 0.0253283828496933, 0.007133898790925741, -0.01251919288188219, 0.0310398917645216, 0.0062186624854803085, 0.00022083759540691972, -0.018451815471053123, -0.033814094960689545, -0.03106732852756977, 0.03468203917145729, -0.035699840635061264, 0.0361388623714447, -0.03712407127022743, -0.0011070251930505037, -0.007628188002854586, -0.03572458401322365, 0.034520238637924194, 0.027111254632472992, 0.012077756226062775, 0.019333811476826668, 0.00044876098399981856], [0.03769872337579727, 0.028085149824619293, -0.0394149050116539, -0.017732882872223854, -0.0051604462787508965, 0.01219089049845934, -0.01729580946266651, 0.005796666257083416, -0.03138359636068344, 0.011112294159829617, 0.01881076768040657, 0.019749250262975693, -0.01270280871540308, -0.03370816260576248, -0.03688247129321098, -0.002891597803682089, -0.02930985949933529, -0.02725985087454319, 0.024480022490024567, 0.02868921309709549, 0.008469676598906517, -0.03159760311245918, -0.02279595285654068, 0.03220738098025322, 0.015683375298976898], [-0.020961880683898926, -0.029567617923021317, 0.0030862188432365656, 0.01385501865297556, 0.008316773921251297, 0.0124032162129879, -0.022482000291347504, -0.03955794498324394, -0.028083348646759987, 0.0009212350705638528, 0.018474716693162918, 0.01810523122549057, 0.007519249804317951, 0.020682698115706444, -0.0004214429936837405, 0.016456665471196175, -0.0364929623901844, 0.03080364689230919, 0.024589896202087402, 0.02049662545323372, 0.028826676309108734, 0.033759187906980515, 0.002954783383756876, -0.006815442815423012, 0.002074513351544738], [-0.03740830346941948, 0.033669427037239075, -0.025539889931678772, 0.033876173198223114, -0.017198093235492706, 0.0025977755431085825, -0.03675072640180588, -0.03821016848087311, -0.031444597989320755, -0.031168628484010696, 0.0016045743832364678, -0.02893030270934105, -0.019795933738350868, -0.02120841294527054, -0.017251254990696907, 0.0280301533639431, 0.019427189603447914, 0.03499053046107292, 0.028393812477588654, -0.022952161729335785, 0.0290666613727808, -0.03735405579209328, -0.010331236757338047, -0.031096717342734337, 0.01696084998548031], [0.007200922816991806, 0.02818436548113823, 0.011778793297708035, -0.027923397719860077, 0.030850710347294807, -0.023955708369612694, 0.03599083423614502, 0.011836819350719452, -0.016061171889305115, -0.018755974248051643, -0.017666887491941452, -0.024585828185081482, 0.03751496225595474, -0.010598382912576199, 0.03108975850045681, -0.038721341639757156, 0.008435163646936417, -0.004934458527714014, 0.030176915228366852, -0.03621840476989746, 0.02975025214254856, -0.02042318321764469, -0.024055099114775658, -0.022596625611186028, -0.013516678474843502], [-0.013644385151565075, -0.012782659381628036, -0.029968805611133575, 0.0028351068031042814, -0.002304286928847432, -0.006735997274518013, 0.015028528869152069, -0.030480757355690002, -0.012885689735412598, 0.020621366798877716, 0.03417545184493065, -0.03923976048827171, 0.02878134697675705, 0.021237950772047043, -0.015518789179623127, 0.034304630011320114, -0.03688796982169151, 0.028994722291827202, 0.02145533636212349, 0.005174379330128431, -0.02079901657998562, -0.016714610159397125, -0.013427119702100754, 0.00643314840272069, 0.0063468171283602715], [0.029552973806858063, 0.03991037234663963, 0.03546934947371483, -0.01602579653263092, 0.03858156129717827, -0.0025181628298014402, 0.019461732357740402, 0.010196065530180931, -0.0025192403700202703, 0.014669789932668209, -0.0212776567786932, -0.023026710376143456, -0.030418576672673225, 0.007625737227499485, 0.02610347792506218, 0.0035285139456391335, 0.005027794744819403, 0.01268638577312231, 0.03253866359591484, -0.030800241976976395, 0.009043007157742977, -0.029896439984440804, 0.014839248731732368, 0.03804219886660576, 0.03008103370666504], [0.025704121217131615, 0.03205910325050354, 0.026204580441117287, 0.02742670476436615, 0.03472835198044777, -0.019792161881923676, 0.03685181587934494, 0.020236806944012642, -0.008520998992025852, 0.03394979611039162, 0.020325370132923126, 0.03859581798315048, 0.011329603381454945, 0.03947015106678009, 0.004788017366081476, 0.03651673346757889, 0.014347868040204048, 0.026259221136569977, -0.014445323497056961, 0.027171636000275612, 0.028974294662475586, -0.008533844724297523, -0.007438216358423233, 0.014446983113884926, -0.02814570814371109], [0.03894219920039177, -0.03912153095006943, -0.025997959077358246, 0.011135144159197807, 0.025727950036525726, -0.021469468250870705, 0.011009969748556614, 0.03648524358868599, -0.027261685580015182, -0.0243996474891901, -0.01995856687426567, -0.014705648645758629, 0.007398862857371569, 0.03873053193092346, 0.025751104578375816, 0.001588368439115584, 0.009883075021207333, 0.03376196324825287, 0.036515917629003525, 0.022515010088682175, 0.023785052821040154, -0.030482744798064232, -0.015310687944293022, -0.02272132784128189, 0.024727096781134605], [-0.009025798179209232, -0.0351177416741848, 0.03047649934887886, 0.03359873220324516, -0.013280940242111683, 0.03646663576364517, -0.002953438786789775, -0.014506077393889427, -0.0015387630555778742, 0.0007777070859447122, -0.014019584283232689, 0.011252965778112411, 0.02291882038116455, 0.02747603878378868, -0.03561386466026306, -0.008770913816988468, -0.021927189081907272, 0.0300843995064497, 0.02600681222975254, -0.017442889511585236, 0.009307332336902618, -0.023814644664525986, 0.0009459829307161272, 0.037847038358449936, -0.010439367033541203], [-0.020750870928168297, -0.029588837176561356, -0.011647768318653107, -0.0034572554286569357, 0.014111447148025036, 0.0389675572514534, -0.013557100668549538, 0.007607073988765478, 0.038724035024642944, 0.006126346532255411, 0.003945984877645969, 0.03920948505401611, 0.03718183934688568, 0.030832266435027122, -0.02468210645020008, 0.039935942739248276, 0.023395948112010956, 0.03629066422581673, -0.00798079464584589, 0.013399744406342506, 0.02733422815799713, -0.015575027093291283, 0.026571402326226234, 0.010251450352370739, 0.03725491836667061], [-0.012143216095864773, -0.01243747677654028, 0.02486155927181244, -0.03631298243999481, -0.02901596575975418, -0.02600010484457016, -0.0029962968546897173, -0.009452085942029953, 0.02726207673549652, 0.0369463674724102, -0.0036390351597219706, 0.005651297513395548, 0.008081426844000816, -0.008079195395112038, -0.03213736414909363, 0.029764199629426003, -0.017191605642437935, 0.018306074663996696, 0.03635881468653679, 0.012172889895737171, 0.01255516055971384, 0.01624731533229351, -0.010804867371916771, 0.015299077145755291, 0.0013504934031516314], [0.022506847977638245, 0.021989483386278152, 0.007316479459404945, 0.022997627034783363, -0.035872310400009155, 0.026237430050969124, 0.03690396621823311, -0.016828589141368866, 0.006430201698094606, -0.020935526117682457, 0.0042328741401433945, 0.011080674827098846, 0.032642945647239685, 0.002176051028072834, 0.01022823341190815, 0.005190940108150244, 0.03361009061336517, -0.022830810397863388, -0.025047320872545242, -0.014510073699057102, -0.009202199056744576, 0.02016425132751465, -0.03248142823576927, -0.01133414264768362, -0.03278970718383789], [0.020598839968442917, -0.010272255167365074, -0.03626842796802521, 0.01628691703081131, 0.036069292575120926, -0.012150640599429607, -0.02335415780544281, 0.012079553678631783, -0.0017433929024264216, -0.03991774469614029, 0.0336708165705204, -0.029355550184845924, -0.019721627235412598, -0.010628324002027512, -0.021809257566928864, 0.006866040173918009, 0.03885125741362572, 0.01828908920288086, 0.032354410737752914, -0.001881833071820438, 0.0025796936824917793, -0.010673408396542072, -0.03511824458837509, 0.013725213706493378, 0.008373494260013103], [-0.03768741711974144, -0.01987374760210514, -0.038936395198106766, -0.022879166528582573, 0.01625816896557808, 0.03457144275307655, 0.01644659973680973, 0.009553857147693634, 0.03257911279797554, -0.004476838279515505, -0.005590853746980429, -0.03498729318380356, -0.0005031680921092629, -0.010270290076732635, 0.001544308615848422, 0.029118647798895836, -0.028165841475129128, -0.01578589901328087, -0.026658421382308006, -0.014176459051668644, -0.01326332613825798, 0.008548484183847904, 0.013312673196196556, -0.01982874795794487, -0.018185162916779518], [0.004554776940494776, 0.021813930943608284, 0.02149459905922413, -0.01187414675951004, -0.017066102474927902, -0.022466588765382767, -0.0021799325477331877, 0.007785492110997438, 0.0061013842932879925, 0.029410118237137794, -0.01093348953872919, -0.00026369572151452303, -0.022110532969236374, -0.004680261481553316, -0.030847854912281036, -0.003837318392470479, 0.005238699726760387, -0.03437897562980652, 0.03499433398246765, -0.03683146461844444, -0.03849870711565018, -0.03404649719595909, 0.029253073036670685, 0.021862274035811424, 0.03699784725904465], [0.010280709713697433, 0.0033861161209642887, -0.010157761164009571, 0.03743067383766174, 0.011030035093426704, 0.016382593661546707, -0.004731740802526474, 0.003618016140535474, 0.02649722993373871, -0.0029060030356049538, 0.013366031460464, -0.002688083564862609, 0.020993590354919434, 0.014559736475348473, 0.010330119170248508, -0.021239571273326874, -0.018832402303814888, 0.01723208837211132, -0.023628683760762215, -0.0007208252209238708, -0.0025340651627629995, 0.013972973451018333, -0.03376906365156174, 0.035268936306238174, -0.005794978234916925], [-0.021323708817362785, 0.016217876225709915, -0.007741961628198624, -0.0310619305819273, -0.017987193539738655, -0.0015509080840274692, -0.035785891115665436, 0.0022822523023933172, 0.00976717472076416, -0.012901091948151588, 0.01028160098940134, 0.00992319080978632, 0.03995286300778389, 0.005722022149711847, 0.008082151412963867, 0.01111824531108141, -0.00831148587167263, -0.03479446470737457, 0.03209269419312477, -0.007898788899183273, -0.038769256323575974, -0.026208018884062767, -0.015783444046974182, 0.015817388892173767, 0.020154323428869247], [0.02434404380619526, -0.027081040665507317, 0.0027553511317819357, -0.011101126670837402, -0.020836787298321724, 0.027925090864300728, 0.0158078670501709, -0.012426028028130531, -0.03310762718319893, -0.020563144236803055, -0.002598137827590108, 0.031247057020664215, 0.024176741018891335, -0.03380662575364113, -0.03825414180755615, 0.02853534184396267, -0.009310264140367508, -0.0147692346945405, 0.02299932949244976, -0.023377222940325737, 0.020375819876790047, -0.0009697008063085377, -0.027500653639435768, -0.001326551428064704, 0.02543596737086773], [0.03717575594782829, 0.008883652277290821, 0.020200371742248535, -0.01989809423685074, -0.003190207527950406, -0.021270541474223137, 0.004755849950015545, -0.007172856479883194, -0.014530539512634277, -0.028057517483830452, 0.03861772641539574, 0.01190331019461155, -0.00912489928305149, -0.016736360266804695, 0.030855150893330574, -0.02592741884291172, 0.012486171908676624, 0.003149428404867649, 0.0332915224134922, 0.027344709262251854, -0.011634588241577148, 0.010140400379896164, -0.0066642905585467815, -0.03781864792108536, -0.0104538444429636], [0.005330095067620277, 0.02616342529654503, 0.039938412606716156, 0.03624982014298439, -0.032061442732810974, 0.02596554346382618, -0.02285894937813282, -0.0038862992078065872, 0.0019312906078994274, 0.02632773481309414, 0.017880573868751526, 0.018414907157421112, 0.03793249651789665, 0.001530656823888421, -0.02415485307574272, -0.025320401415228844, 0.025727158412337303, -0.02097032591700554, -0.011399250477552414, 0.01630113646388054, -0.009160943329334259, -0.024100851267576218, -0.009294619783759117, 0.004827675875276327, 0.00873343925923109], [0.024335093796253204, -0.02085600420832634, 0.01231184508651495, 0.02896270342171192, 0.008780455216765404, 0.021589960902929306, -0.019381333142518997, 0.024610448628664017, -0.03040512651205063, 0.013971461914479733, -0.03728721663355827, -0.010417241603136063, -0.03629279509186745, -0.006353073287755251, -0.021459007635712624, -0.01577567495405674, 0.004614610690623522, 0.011201390996575356, -0.0061055803671479225, -0.032682061195373535, -0.023672088980674744, 0.0032771825790405273, -0.015785031020641327, -0.03772179037332535, -0.003099899273365736], [0.02653307467699051, 0.023915376514196396, -0.039669036865234375, 0.012474332004785538, -0.02394920401275158, -0.03672756254673004, 0.0006808519246987998, -0.001478481339290738, -0.027887998148798943, -0.02512023039162159, -0.009704342111945152, 0.02838662639260292, -0.030183516442775726, 0.03079233691096306, -0.0019017792074009776, 0.0043731736950576305, 0.03793064504861832, 0.01891263946890831, -0.01429106667637825, 0.014942479319870472, 0.014077143743634224, 0.025346789509058, 0.0002773570886347443, -0.01769474521279335, 0.005273084621876478], [-0.021656937897205353, 0.0056470297276973724, 0.019704723730683327, 0.02061939239501953, 0.03672654926776886, -0.03005065955221653, -0.021614575758576393, 0.025877490639686584, 0.005421915091574192, -0.026447204872965813, 0.0035375594161450863, 0.010708160698413849, -0.01011534221470356, -0.01984064094722271, 0.02001902088522911, 0.03848728537559509, -0.02945869415998459, -0.0004612875054590404, -0.010257835499942303, -0.025460567325353622, -0.005514621734619141, -0.02100314199924469, 0.03623998165130615, -0.023163074627518654, 0.01474430039525032], [-0.0009499407024122775, 0.01687670685350895, 0.008456583134829998, 0.03998328745365143, 0.0025179244112223387, -0.02185770496726036, -0.004718771204352379, 0.008282127790153027, -0.013492274098098278, -0.03138706833124161, -0.02239704690873623, -0.027000270783901215, 0.025413308292627335, 0.01569022610783577, 0.032862141728401184, 0.02607867307960987, -0.024511361494660378, 0.010863805189728737, 0.03388850390911102, 0.006382627412676811, 0.012272915802896023, 0.023250455036759377, -0.035357486456632614, 0.036498989909887314, 0.027277931571006775], [0.03404177352786064, -0.03290504962205887, 0.024702157825231552, 0.02651628479361534, -0.005430569872260094, -0.025175461545586586, 0.02130671963095665, -0.027438310906291008, -0.021293416619300842, 0.014046759344637394, 0.032323889434337616, 0.03477077558636665, -0.01762126013636589, -0.03675508126616478, 0.038430776447057724, 0.02516123279929161, -0.01586534082889557, -0.033838916569948196, -0.018873339518904686, -0.01582890935242176, -0.013093804940581322, 0.0032763672061264515, -0.0011886501451954246, -0.012449507601559162, -0.023983949795365334], [0.037682078778743744, -0.01890214905142784, -0.029048394411802292, 0.030738921836018562, 0.010070782154798508, 0.034505583345890045, -0.01786046475172043, -0.027569614350795746, 0.003939609508961439, -0.0046919058077037334, -0.03758825734257698, -0.006412291433662176, 0.012202396057546139, 0.026263127103447914, 0.027380967512726784, 0.01283311378210783, -0.017773089930415154, -0.007356667425483465, -0.015761032700538635, 0.023095659911632538, -0.025434836745262146, 0.008412075228989124, -0.005380935501307249, -0.023251114413142204, -0.02898484654724598], [0.02341024950146675, -0.033432818949222565, -0.002748999511823058, 0.01130970474332571, 0.03095603920519352, -0.029191631823778152, 0.013218292966485023, 0.039233990013599396, -0.027908315882086754, -0.014139432460069656, 0.020534053444862366, 0.02095354162156582, 0.006496457848697901, 0.03188453987240791, 0.003326354082673788, 0.007485265843570232, -0.006420998368412256, -0.03266511112451553, 0.013031215406954288, 0.00786545779556036, -0.0349368192255497, -0.0027000284753739834, 0.0003066825738642365, -2.3837090338929556e-05, 0.03484053537249565], [-0.010035066865384579, -0.02361062914133072, 0.029933348298072815, -0.02903893031179905, -0.03586447611451149, -0.007158374879509211, -0.03346974775195122, 0.0015608310932293534, 0.007782936096191406, -0.009877934120595455, -0.025792039930820465, -0.0012847185134887695, -0.004394016228616238, 0.013973445631563663, 0.03250805288553238, 0.023422284051775932, 0.03376395255327225, -0.035872682929039, 0.037769947201013565, -0.009463024325668812, 0.03478820621967316, 0.009538468904793262, 0.014340963214635849, -0.038326751440763474, -0.037945814430713654], [0.03593568503856659, -0.011587071232497692, 0.01126567367464304, 0.025677772238850594, -0.0011997079709544778, 0.03888758644461632, -0.004134859889745712, -0.03869149833917618, -0.02821939066052437, -0.004172625485807657, -0.03469960391521454, 0.029685793444514275, 0.01447733398526907, -0.034987784922122955, 0.03391889110207558, 0.03571855649352074, 0.023389477282762527, 0.027639413252472878, -0.03828365355730057, 0.0019698715768754482, -0.03688252344727516, -0.014664067886769772, 0.0010126781417056918, -0.001121625886298716, 0.0058611296117305756], [0.013110174797475338, 0.008507709950208664, 0.021279387176036835, 0.030081981793045998, -0.023542756214737892, 0.03182926028966904, 0.023966031149029732, 0.039143551141023636, 0.018495431169867516, -0.01330910250544548, -0.014985628426074982, -0.0025164938997477293, -0.006620793137699366, 0.039490342140197754, 0.004492816980928183, 0.01602901890873909, 0.01367422565817833, -0.03540521115064621, 0.0268824715167284, 0.03276412561535835, -0.006663365289568901, 0.009333815425634384, -0.02591685764491558, -0.02450302056968212, 0.03286417946219444], [-0.012181677855551243, 0.026960128918290138, 0.006212739739567041, -0.007926254533231258, 0.012221312150359154, -0.016084222123026848, -0.0071417237631976604, 0.00552291888743639, 0.019548725336790085, -0.005620894487947226, 0.002626118715852499, -0.0317298024892807, 0.03798062354326248, -0.035050202161073685, 0.028279680758714676, 0.015620551072061062, -0.02799227647483349, -0.021180711686611176, -0.03175298869609833, -0.020521115511655807, 0.028282366693019867, 0.03856247290968895, 0.008618449792265892, 0.0025616216007620096, 0.03809788078069687], [-0.01989426650106907, -0.005133218597620726, 0.013122549280524254, -0.02565613202750683, -0.038806356489658356, -0.03704093396663666, 0.03608278930187225, 0.02148677408695221, -0.01915290765464306, -0.033318568021059036, 0.005175805184990168, 0.011512250639498234, -0.004981136415153742, 0.005083484575152397, -0.017285212874412537, 0.019165463745594025, 0.005900740623474121, 0.03551129996776581, -0.039906054735183716, -0.021078281104564667, -0.03641136735677719, -0.0013916731113567948, -0.031429223716259, 0.02012496441602707, -0.025587420910596848], [-0.023811349645256996, 0.020283641293644905, -0.03263907507061958, 0.005820808466523886, -0.028958164155483246, 0.03944968804717064, 0.034535035490989685, 0.007075810339301825, 0.023154014721512794, 0.018384862691164017, -0.023967131972312927, 0.03902778774499893, -0.03872882202267647, 0.03219703212380409, 0.011025519110262394, -0.012220487929880619, -0.014247450977563858, 0.0362878143787384, -0.0217636339366436, 0.03274748846888542, -0.02403554879128933, 0.03356550633907318, -0.0022219752427190542, 0.03177039697766304, -0.012619886547327042], [0.023916859179735184, 0.03521738201379776, 0.010175351984798908, 0.005270996131002903, 0.020156769081950188, 0.03201008960604668, 0.03427205607295036, 0.033971089869737625, 0.028210105374455452, 0.032010599970817566, 0.03439896181225777, -0.00013236522499937564, -0.00401492603123188, 0.006663165055215359, 1.3093947927700356e-05, 0.002740707481279969, -0.03440374881029129, -0.03837892413139343, -0.009258704259991646, 0.03571280092000961, -0.014590349048376083, -0.027912773191928864, 0.019517531618475914, 0.004276471212506294, 0.00740408431738615], [0.014611826278269291, 0.014082694426178932, 0.02290448732674122, 0.004937200341373682, 0.0033778524957597256, 0.0361810028553009, 0.011128868907690048, -0.01881142146885395, 0.02616874687373638, 0.020853247493505478, 0.011482267640531063, -0.01255133654922247, 0.013347344473004341, 0.025457192212343216, 0.02832416072487831, 0.0037646626587957144, -0.034127067774534225, 0.001031045918352902, 0.0014816808979958296, 0.015771927312016487, -0.037875838577747345, 0.03883148357272148, -0.027889108285307884, 0.02304575964808464, -0.0377194881439209], [0.03859411180019379, 0.029299316927790642, 0.005046625155955553, -0.013620943762362003, -0.00180263991933316, 0.0016904926160350442, -0.025636820122599602, 0.02298063226044178, 0.009485607035458088, 0.015111741609871387, -0.029020071029663086, 0.03410516306757927, 0.002033014316111803, -0.0008157062693499029, -0.036286428570747375, 0.01619502156972885, 0.027053741738200188, 0.02942037023603916, -0.02567010000348091, -0.03142423927783966, -0.022094855085015297, -0.002411589724943042, -0.033351920545101166, -0.03296046331524849, -0.007670278660953045], [0.004557147156447172, -0.03802619129419327, -0.014931735582649708, 0.0025791216176003218, 0.027239860966801643, 0.0069399643689394, -0.0025295305531471968, -0.029925579205155373, -0.026968378573656082, -0.0027777147479355335, 0.029870329424738884, 0.02177147939801216, -0.005930762272328138, 0.004689235705882311, -0.03842310607433319, -0.005537982098758221, -0.01850489154458046, 0.02323724329471588, -0.00935204979032278, -0.01905626244843006, -0.03790045902132988, -0.004801258910447359, -0.02879107929766178, -0.0067408704198896885, -0.01627929136157036], [-0.009496540762484074, -0.012993340380489826, -0.032625891268253326, -0.00499364361166954, 0.006763773038983345, -0.016190577298402786, -0.030565809458494186, -0.01434654276818037, -0.03618853539228439, -0.003033699933439493, 0.023532018065452576, -0.011845383793115616, 0.012647032737731934, 0.019982872530817986, 0.03387371078133583, 0.02248566225171089, 0.03803418576717377, -0.03858672454953194, -0.031850699335336685, -0.027032623067498207, -0.029870834201574326, -0.03185447305440903, -0.031152676790952682, -0.011770505458116531, 0.0055846404284238815], [-0.011739407666027546, -0.03549526259303093, 0.02000526525080204, 0.00355216721072793, 0.01847650669515133, 0.028939753770828247, 0.030824096873402596, -0.0031825685873627663, 0.014711497351527214, -0.020711585879325867, 0.007665765937417746, 0.01839270256459713, 0.03987417370080948, -0.012970373965799809, 0.01150187011808157, -0.023206325247883797, -0.00882356520742178, 0.032959938049316406, -0.015797682106494904, -0.0049455915577709675, -0.03734063729643822, -0.038253143429756165, 0.03591381013393402, -0.022968638688325882, 0.02054625004529953], [-0.027854427695274353, -0.009834046475589275, -0.03209174796938896, 0.030002111569046974, 0.02450966276228428, 0.02103387750685215, 0.03351143002510071, -0.00278613087721169, -0.03725091367959976, 0.03646266460418701, -0.019714144989848137, 0.03139195963740349, 0.02213543839752674, -0.004316306207329035, -0.030656863003969193, -0.005839209537953138, 0.02501414716243744, -0.027864331379532814, 0.005768384784460068, -0.03180743381381035, 0.03488539159297943, -0.011423153802752495, 0.03774920850992203, -0.022832298651337624, -0.03887089714407921], [-0.034511614590883255, -0.01629933901131153, 0.01883837766945362, -0.0009677553316578269, 0.0368940494954586, 0.01243685744702816, 0.014991069212555885, 0.011985396966338158, 0.03259459510445595, -0.009586858563125134, 0.029629355296492577, -0.03814685344696045, 0.01168434601277113, -0.0027266787365078926, 0.001809029607102275, 0.02737203985452652, -0.01136789284646511, -0.009427118115127087, -0.00040190696017816663, -0.0019907664973288774, -0.014299845322966576, 0.02497793175280094, -0.026234669610857964, 0.031567998230457306, -0.00037384033203125], [0.010435361415147781, 0.01289259921759367, -0.0011266135843470693, 0.00682520866394043, -0.012562618590891361, 0.01902582123875618, 0.0009720420930534601, -0.013122382573783398, -0.03485829755663872, -0.0399923175573349, 0.001251111039891839, -0.02298724092543125, -0.004438638687133789, -0.016824373975396156, -0.03455530107021332, 0.004248385317623615, 0.02364436164498329, -0.008843880146741867, -0.028683267533779144, 0.012613749131560326, -0.0015387439634650946, -0.022084569558501244, -0.004422517027705908, -0.0025586176197975874, -0.01273235771805048], [-0.03982030972838402, 0.030554376542568207, 0.014904031530022621, -0.01011685375124216, 0.0292286965996027, 0.0018183612264692783, 0.028692608699202538, -0.006190252490341663, 0.029974671080708504, -0.00017052650218829513, -0.024309445172548294, -0.01886340230703354, 0.03851369768381119, 0.0023242472670972347, 0.004109601955860853, 0.03380114957690239, -0.025153618305921555, -0.0070554353296756744, -0.032715678215026855, -0.026699017733335495, -0.034321948885917664, 0.01572244241833687, 0.0109573844820261, 0.022461652755737305, 0.010287032462656498], [0.008454060181975365, 0.02294062077999115, -0.008465633727610111, 0.012689189985394478, 0.03377504274249077, 0.0015522860921919346, 0.02517833188176155, -0.02697427198290825, 0.026303285732865334, 0.018757905811071396, 0.020321393385529518, -0.039675138890743256, -0.0017177772242575884, 0.012824449688196182, -0.023303957656025887, -0.026775149628520012, 0.025455622002482414, -0.027295002713799477, -0.020729999989271164, 0.032487355172634125, -0.02808118797838688, 0.03418149799108505, 0.002618489321321249, 0.017622828483581543, -0.012049760669469833], [-0.021710939705371857, -0.035790134221315384, -0.002449893858283758, -0.020408950746059418, -0.012304139323532581, 0.032445818185806274, -0.03059164062142372, -0.02523711696267128, -0.021054711192846298, -0.026414962485432625, -0.03536249324679375, -0.0044401646591722965, 0.0377839133143425, 0.0321461483836174, -0.02109638601541519, -0.03255002945661545, -0.009029579348862171, -0.03706712648272514, -0.02027095854282379, -0.023791227489709854, 0.012100487016141415, -0.030276170000433922, 0.005002341233193874, 0.00914760585874319, 0.02125326171517372]]'"
      ]
     },
     "execution_count": 12,
     "metadata": {},
     "output_type": "execute_result"
    }
   ],
   "source": [
    "data['embedding'][1231]"
   ]
  },
  {
   "cell_type": "markdown",
   "id": "d00037e6-01b8-4b87-9048-9ae91fa0393f",
   "metadata": {},
   "source": [
    "Видим, что эмбеддинги для каждой схемы хранятся в формате string, что не подходит для обучения моделей. Необходимо, преобразовать их в то, чем они являются изначально.  \n",
    "Напишем программу, которая приведет текстовое представление данных к list, который будет содержать numpy массивы  \n",
    "Для начала, напишем функцию, которая будет проверять, можно ли приобразовать строку в дробное число (записано ли в строке число)\n"
   ]
  },
  {
   "cell_type": "code",
   "execution_count": 13,
   "id": "1a48bf96-b0b3-4bbf-a8ff-5d1af1381588",
   "metadata": {
    "execution": {
     "iopub.execute_input": "2024-03-22T10:12:15.517962Z",
     "iopub.status.busy": "2024-03-22T10:12:15.517617Z",
     "iopub.status.idle": "2024-03-22T10:12:15.534995Z",
     "shell.execute_reply": "2024-03-22T10:12:15.534472Z",
     "shell.execute_reply.started": "2024-03-22T10:12:15.517942Z"
    },
    "tags": []
   },
   "outputs": [],
   "source": [
    "def is_number(s):\n",
    "    try:\n",
    "        float(s)\n",
    "        return True\n",
    "    except ValueError:\n",
    "        return False"
   ]
  },
  {
   "cell_type": "markdown",
   "id": "78976e27-a53c-4663-b074-5acfc5fe5c0f",
   "metadata": {},
   "source": [
    "Далее, напишем функцию, которая распарсит нашу строку на list, который будет содержать numpy массивы"
   ]
  },
  {
   "cell_type": "code",
   "execution_count": 14,
   "id": "53450d40-798d-45a5-9fe3-cc4f17db33a9",
   "metadata": {
    "execution": {
     "iopub.execute_input": "2024-03-22T10:12:15.536050Z",
     "iopub.status.busy": "2024-03-22T10:12:15.535682Z",
     "iopub.status.idle": "2024-03-22T10:13:05.250377Z",
     "shell.execute_reply": "2024-03-22T10:13:05.249590Z",
     "shell.execute_reply.started": "2024-03-22T10:12:15.536030Z"
    },
    "tags": []
   },
   "outputs": [],
   "source": [
    "new_embedding = []\n",
    "for str in data['embedding']:\n",
    "    result = []\n",
    "    if '\\n' in str:\n",
    "        res = str.split('\\n')\n",
    "    else:\n",
    "        res = str.split('], ')\n",
    "    for mass in res:\n",
    "        s = mass.replace(', dtype=float32',' ').replace('(', ' ').replace(')',' ').replace(',',' ').replace('[','').replace(']','').split(' ')\n",
    "        tmp = []\n",
    "        for word in s:\n",
    "            if is_number(word):\n",
    "                tmp.append(float(word))\n",
    "        result.append(tmp)\n",
    "    r = [np.array(sublist) for sublist in result]\n",
    "    new_embedding.append(r)"
   ]
  },
  {
   "cell_type": "markdown",
   "id": "1b98476c-ea3f-42c5-bec6-21efb3fe6b0f",
   "metadata": {},
   "source": [
    "## Приведение данных в вид, удобный для обучения"
   ]
  },
  {
   "cell_type": "markdown",
   "id": "efd6ad0b-d66a-4436-8a2c-48a982b435d2",
   "metadata": {},
   "source": [
    "Так как каждая схема имеет свое представление в виде графа, возникла проблема, что каждая схема представлена разным количеством векторов длины 4. Т.е. каждая схема описанна массивом, содержащим в себе *n*ое количество массивов длины 4. Так как в процессе обучения, нам требуется, чтобы размерность данных для каждой схемы была единой, то нужно чем-то и до какого-то числа дополнить данные о каждой схеме.  \n",
    "Идеи:  \n",
    "* Находим схему, которая представлена в виде максимального количества векторов. Дополняем все остальные схемы до данной размерности\n",
    "* Дополняем векторами, состоящими из нулей\n",
    "* Дополняем векторами, состоящими из чисел, являющимися средним значением по всей выборке (средними значениями координат векторов)\n",
    "* Дополняем векторами, состоящими из чисел, являющимися средним значением по схемам, имеющим наибольшее число векторов в представлении\n",
    "\n",
    "В данный момент, были реализованы и проверены идеи с дополнением средним значением по всему датасету и дополнение 0. Различия по точности отсутствуют\n",
    "\n",
    "Ниже, представлена реализация дополнения до размерности максимальной из схем, векторами, состоящими из 0\n"
   ]
  },
  {
   "cell_type": "code",
   "execution_count": 15,
   "id": "9cdacde8-0465-4882-937f-c6f574305190",
   "metadata": {
    "execution": {
     "iopub.execute_input": "2024-03-22T10:13:05.252066Z",
     "iopub.status.busy": "2024-03-22T10:13:05.251646Z",
     "iopub.status.idle": "2024-03-22T10:13:35.829717Z",
     "shell.execute_reply": "2024-03-22T10:13:35.828882Z",
     "shell.execute_reply.started": "2024-03-22T10:13:05.252038Z"
    },
    "tags": []
   },
   "outputs": [],
   "source": [
    "max_subarrays = max(len(arr) for arr in new_embedding)\n",
    "\n",
    "for i in range(len(new_embedding)):\n",
    "    while len(new_embedding[i]) < max_subarrays:\n",
    "        new_embedding[i] = np.vstack([new_embedding[i], np.zeros(25)])"
   ]
  },
  {
   "cell_type": "code",
   "execution_count": 16,
   "id": "2a0c6847-ef9e-40d0-8476-dff48ee688cb",
   "metadata": {
    "execution": {
     "iopub.execute_input": "2024-03-22T10:13:35.831484Z",
     "iopub.status.busy": "2024-03-22T10:13:35.830983Z",
     "iopub.status.idle": "2024-03-22T10:13:35.842478Z",
     "shell.execute_reply": "2024-03-22T10:13:35.841918Z",
     "shell.execute_reply.started": "2024-03-22T10:13:35.831452Z"
    },
    "tags": []
   },
   "outputs": [],
   "source": [
    "import pickle\n",
    "\n",
    "# Создание файла для сохранения значения\n",
    "file_path = 'max_subarrays.pickle'\n",
    "with open(file_path, 'wb') as f:\n",
    "    # Сохранение значения переменной в файл\n",
    "    pickle.dump(max_subarrays, f)"
   ]
  },
  {
   "cell_type": "markdown",
   "id": "acc16b5b-0cde-42a3-a841-84e8f7a4fdd7",
   "metadata": {},
   "source": [
    "Ниже, представленна реализация дополнения до размерности максимальной из схем векторами, состоящими из средних значений по всей выборке"
   ]
  },
  {
   "cell_type": "code",
   "execution_count": 17,
   "id": "d387f0b1-4f63-40b0-afe8-3f9c08118d89",
   "metadata": {
    "execution": {
     "iopub.execute_input": "2024-03-22T10:13:35.843576Z",
     "iopub.status.busy": "2024-03-22T10:13:35.843197Z",
     "iopub.status.idle": "2024-03-22T10:13:35.850625Z",
     "shell.execute_reply": "2024-03-22T10:13:35.850079Z",
     "shell.execute_reply.started": "2024-03-22T10:13:35.843555Z"
    },
    "tags": []
   },
   "outputs": [],
   "source": [
    "#lst = []\n",
    "#for i in new_embedding:\n",
    "#    for k in i:\n",
    "#        lst.append(k.mean())\n",
    "#val = np.array(lst).mean()"
   ]
  },
  {
   "cell_type": "code",
   "execution_count": 18,
   "id": "2495f8da-10bd-4a4c-a2cf-ec10ba9de1ee",
   "metadata": {
    "execution": {
     "iopub.execute_input": "2024-03-22T10:13:35.851693Z",
     "iopub.status.busy": "2024-03-22T10:13:35.851341Z",
     "iopub.status.idle": "2024-03-22T10:13:35.858716Z",
     "shell.execute_reply": "2024-03-22T10:13:35.858187Z",
     "shell.execute_reply.started": "2024-03-22T10:13:35.851674Z"
    },
    "tags": []
   },
   "outputs": [],
   "source": [
    "#max_subarrays = max(len(arr) for arr in new_embedding)\n",
    "#\n",
    "#for i in range(len(new_embedding)):\n",
    "#    while len(new_embedding[i]) < max_subarrays:\n",
    "#        new_embedding[i] = np.vstack([new_embedding[i], np.full(25, val)])"
   ]
  },
  {
   "cell_type": "markdown",
   "id": "f4845268-337c-477b-a203-dd22eae1bd34",
   "metadata": {},
   "source": [
    "Так как для большей части алгоритмов машинного обучения данные, представленные в формате двумерного массива не подходят, необходимо, привести их в удобоваримый вид.  \n",
    "Идеи:  \n",
    "* Запишем все имеющиеся в представлении вектора друг за другом, по порядку, по которому они хранятся изначально\n",
    "* Запишем все имеющиеся в представлении вектора друг за другом, перемешав их произвольным образом\n",
    "\n",
    "Ниже, реализован способ, с записыванием вектором друг за другом в исходном порядке   "
   ]
  },
  {
   "cell_type": "code",
   "execution_count": 19,
   "id": "3d795bbc-6010-42b3-bec1-494e2de9a8eb",
   "metadata": {
    "execution": {
     "iopub.execute_input": "2024-03-22T10:13:35.861177Z",
     "iopub.status.busy": "2024-03-22T10:13:35.860810Z",
     "iopub.status.idle": "2024-03-22T10:13:59.455870Z",
     "shell.execute_reply": "2024-03-22T10:13:59.454941Z",
     "shell.execute_reply.started": "2024-03-22T10:13:35.861158Z"
    },
    "tags": []
   },
   "outputs": [],
   "source": [
    "for i in range(len(new_embedding)):\n",
    "    tmp = []\n",
    "    for j in range (len(new_embedding[i])):\n",
    "        for k in new_embedding[i][j]:\n",
    "            tmp.append(k)\n",
    "    new_embedding[i] = np.array(tmp)"
   ]
  },
  {
   "cell_type": "markdown",
   "id": "da786dbe-a8e3-4e70-ac27-f999a0f2e726",
   "metadata": {},
   "source": [
    "Добавим в наш датасет новый столбец, содержащий уже преобразованные вектора"
   ]
  },
  {
   "cell_type": "code",
   "execution_count": 20,
   "id": "11151307-7398-4faf-9bb4-8c6874a14181",
   "metadata": {
    "execution": {
     "iopub.execute_input": "2024-03-22T10:13:59.458549Z",
     "iopub.status.busy": "2024-03-22T10:13:59.458130Z",
     "iopub.status.idle": "2024-03-22T10:13:59.474099Z",
     "shell.execute_reply": "2024-03-22T10:13:59.473567Z",
     "shell.execute_reply.started": "2024-03-22T10:13:59.458520Z"
    },
    "tags": []
   },
   "outputs": [],
   "source": [
    "s = pd.Series(new_embedding)\n",
    "data['New_embeddings'] = s"
   ]
  },
  {
   "cell_type": "markdown",
   "id": "9c8fb28c-f467-43fd-b194-39bf7110e52c",
   "metadata": {},
   "source": [
    "Теперь, наши данные выглядят следующим образом"
   ]
  },
  {
   "cell_type": "code",
   "execution_count": 21,
   "id": "f310ec03-2fe8-4e19-b5da-33716ada3428",
   "metadata": {
    "execution": {
     "iopub.execute_input": "2024-03-22T10:13:59.475174Z",
     "iopub.status.busy": "2024-03-22T10:13:59.474830Z",
     "iopub.status.idle": "2024-03-22T10:13:59.491255Z",
     "shell.execute_reply": "2024-03-22T10:13:59.490713Z",
     "shell.execute_reply.started": "2024-03-22T10:13:59.475155Z"
    },
    "tags": []
   },
   "outputs": [
    {
     "data": {
      "text/plain": [
       "0        [-0.0021449089981615543, 0.000945725420024246,...\n",
       "1        [-0.0021449089981615543, 0.000945725420024246,...\n",
       "2        [-0.002141991164535284, 0.0009532237891107798,...\n",
       "3        [-0.0021485977340489626, 0.0009492258541285992...\n",
       "4        [-0.0021652388386428356, 0.0009332413319498301...\n",
       "                               ...                        \n",
       "41187    [-0.0021583845373243093, 0.0009510109666734934...\n",
       "41188    [-0.00213915528729558, 0.0009182162466458976, ...\n",
       "41189    [-0.0021358621306717396, 0.0008995222742669284...\n",
       "41190    [-0.002138545038178563, 0.0009022692102007568,...\n",
       "41191    [-0.0021719890646636486, 0.0009414525702595711...\n",
       "Name: New_embeddings, Length: 41192, dtype: object"
      ]
     },
     "execution_count": 21,
     "metadata": {},
     "output_type": "execute_result"
    }
   ],
   "source": [
    "data['New_embeddings']"
   ]
  },
  {
   "cell_type": "markdown",
   "id": "e8771740-e986-4fe3-a9cf-6aeb0752cfd8",
   "metadata": {},
   "source": [
    "## Крайний этап обработки данных"
   ]
  },
  {
   "cell_type": "markdown",
   "id": "bbf91cfb-fb1f-478c-946f-70c0098ffd52",
   "metadata": {},
   "source": [
    "Загрузить данные в виде одного столбца нашей исходной таблицы и обучать модели на них - нельзя, из-за требований моделей к формату представления обучающей выборки. Поэтому, преобразуем наши данные в таблицу"
   ]
  },
  {
   "cell_type": "code",
   "execution_count": 22,
   "id": "0c68b7f6-d48f-4e51-aa09-2d4d3ef907e3",
   "metadata": {
    "execution": {
     "iopub.execute_input": "2024-03-22T10:13:59.492384Z",
     "iopub.status.busy": "2024-03-22T10:13:59.492017Z",
     "iopub.status.idle": "2024-03-22T10:14:39.385554Z",
     "shell.execute_reply": "2024-03-22T10:14:39.384865Z",
     "shell.execute_reply.started": "2024-03-22T10:13:59.492365Z"
    },
    "tags": []
   },
   "outputs": [
    {
     "data": {
      "text/html": [
       "<div>\n",
       "<style scoped>\n",
       "    .dataframe tbody tr th:only-of-type {\n",
       "        vertical-align: middle;\n",
       "    }\n",
       "\n",
       "    .dataframe tbody tr th {\n",
       "        vertical-align: top;\n",
       "    }\n",
       "\n",
       "    .dataframe thead th {\n",
       "        text-align: right;\n",
       "    }\n",
       "</style>\n",
       "<table border=\"1\" class=\"dataframe\">\n",
       "  <thead>\n",
       "    <tr style=\"text-align: right;\">\n",
       "      <th></th>\n",
       "      <th>0</th>\n",
       "      <th>1</th>\n",
       "      <th>2</th>\n",
       "      <th>3</th>\n",
       "      <th>4</th>\n",
       "      <th>5</th>\n",
       "      <th>6</th>\n",
       "      <th>7</th>\n",
       "      <th>8</th>\n",
       "      <th>9</th>\n",
       "      <th>10</th>\n",
       "      <th>11</th>\n",
       "      <th>12</th>\n",
       "      <th>13</th>\n",
       "      <th>14</th>\n",
       "      <th>15</th>\n",
       "      <th>16</th>\n",
       "      <th>17</th>\n",
       "      <th>18</th>\n",
       "      <th>19</th>\n",
       "      <th>20</th>\n",
       "      <th>21</th>\n",
       "      <th>22</th>\n",
       "      <th>23</th>\n",
       "      <th>24</th>\n",
       "      <th>25</th>\n",
       "      <th>26</th>\n",
       "      <th>27</th>\n",
       "      <th>28</th>\n",
       "      <th>29</th>\n",
       "      <th>30</th>\n",
       "      <th>31</th>\n",
       "      <th>32</th>\n",
       "      <th>33</th>\n",
       "      <th>34</th>\n",
       "      <th>35</th>\n",
       "      <th>36</th>\n",
       "      <th>37</th>\n",
       "      <th>38</th>\n",
       "      <th>39</th>\n",
       "      <th>...</th>\n",
       "      <th>3485</th>\n",
       "      <th>3486</th>\n",
       "      <th>3487</th>\n",
       "      <th>3488</th>\n",
       "      <th>3489</th>\n",
       "      <th>3490</th>\n",
       "      <th>3491</th>\n",
       "      <th>3492</th>\n",
       "      <th>3493</th>\n",
       "      <th>3494</th>\n",
       "      <th>3495</th>\n",
       "      <th>3496</th>\n",
       "      <th>3497</th>\n",
       "      <th>3498</th>\n",
       "      <th>3499</th>\n",
       "      <th>3500</th>\n",
       "      <th>3501</th>\n",
       "      <th>3502</th>\n",
       "      <th>3503</th>\n",
       "      <th>3504</th>\n",
       "      <th>3505</th>\n",
       "      <th>3506</th>\n",
       "      <th>3507</th>\n",
       "      <th>3508</th>\n",
       "      <th>3509</th>\n",
       "      <th>3510</th>\n",
       "      <th>3511</th>\n",
       "      <th>3512</th>\n",
       "      <th>3513</th>\n",
       "      <th>3514</th>\n",
       "      <th>3515</th>\n",
       "      <th>3516</th>\n",
       "      <th>3517</th>\n",
       "      <th>3518</th>\n",
       "      <th>3519</th>\n",
       "      <th>3520</th>\n",
       "      <th>3521</th>\n",
       "      <th>3522</th>\n",
       "      <th>3523</th>\n",
       "      <th>3524</th>\n",
       "    </tr>\n",
       "  </thead>\n",
       "  <tbody>\n",
       "    <tr>\n",
       "      <th>0</th>\n",
       "      <td>-0.002145</td>\n",
       "      <td>0.000946</td>\n",
       "      <td>0.020413</td>\n",
       "      <td>0.036037</td>\n",
       "      <td>-0.037212</td>\n",
       "      <td>-0.028467</td>\n",
       "      <td>0.025835</td>\n",
       "      <td>0.035892</td>\n",
       "      <td>-0.020062</td>\n",
       "      <td>-0.015053</td>\n",
       "      <td>0.029522</td>\n",
       "      <td>-0.006134</td>\n",
       "      <td>-0.018146</td>\n",
       "      <td>0.026216</td>\n",
       "      <td>-0.019441</td>\n",
       "      <td>-0.007264</td>\n",
       "      <td>0.011506</td>\n",
       "      <td>0.003967</td>\n",
       "      <td>-0.033141</td>\n",
       "      <td>-0.037795</td>\n",
       "      <td>0.029247</td>\n",
       "      <td>0.020281</td>\n",
       "      <td>0.027031</td>\n",
       "      <td>0.003051</td>\n",
       "      <td>0.025404</td>\n",
       "      <td>-0.013621</td>\n",
       "      <td>-0.003786</td>\n",
       "      <td>0.023074</td>\n",
       "      <td>-0.030087</td>\n",
       "      <td>-0.015744</td>\n",
       "      <td>-0.030046</td>\n",
       "      <td>-0.003720</td>\n",
       "      <td>0.038152</td>\n",
       "      <td>-0.029277</td>\n",
       "      <td>-0.009335</td>\n",
       "      <td>-0.007751</td>\n",
       "      <td>0.032310</td>\n",
       "      <td>-0.023724</td>\n",
       "      <td>0.000181</td>\n",
       "      <td>-0.019015</td>\n",
       "      <td>...</td>\n",
       "      <td>0.0</td>\n",
       "      <td>0.0</td>\n",
       "      <td>0.0</td>\n",
       "      <td>0.0</td>\n",
       "      <td>0.0</td>\n",
       "      <td>0.0</td>\n",
       "      <td>0.0</td>\n",
       "      <td>0.0</td>\n",
       "      <td>0.0</td>\n",
       "      <td>0.0</td>\n",
       "      <td>0.0</td>\n",
       "      <td>0.0</td>\n",
       "      <td>0.0</td>\n",
       "      <td>0.0</td>\n",
       "      <td>0.0</td>\n",
       "      <td>0.0</td>\n",
       "      <td>0.0</td>\n",
       "      <td>0.0</td>\n",
       "      <td>0.0</td>\n",
       "      <td>0.0</td>\n",
       "      <td>0.0</td>\n",
       "      <td>0.0</td>\n",
       "      <td>0.0</td>\n",
       "      <td>0.0</td>\n",
       "      <td>0.0</td>\n",
       "      <td>0.0</td>\n",
       "      <td>0.0</td>\n",
       "      <td>0.0</td>\n",
       "      <td>0.0</td>\n",
       "      <td>0.0</td>\n",
       "      <td>0.0</td>\n",
       "      <td>0.0</td>\n",
       "      <td>0.0</td>\n",
       "      <td>0.0</td>\n",
       "      <td>0.0</td>\n",
       "      <td>0.0</td>\n",
       "      <td>0.0</td>\n",
       "      <td>0.0</td>\n",
       "      <td>0.0</td>\n",
       "      <td>0.0</td>\n",
       "    </tr>\n",
       "    <tr>\n",
       "      <th>1</th>\n",
       "      <td>-0.002145</td>\n",
       "      <td>0.000946</td>\n",
       "      <td>0.020413</td>\n",
       "      <td>0.036037</td>\n",
       "      <td>-0.037212</td>\n",
       "      <td>-0.028467</td>\n",
       "      <td>0.025835</td>\n",
       "      <td>0.035892</td>\n",
       "      <td>-0.020062</td>\n",
       "      <td>-0.015053</td>\n",
       "      <td>0.029522</td>\n",
       "      <td>-0.006134</td>\n",
       "      <td>-0.018146</td>\n",
       "      <td>0.026216</td>\n",
       "      <td>-0.019441</td>\n",
       "      <td>-0.007264</td>\n",
       "      <td>0.011506</td>\n",
       "      <td>0.003967</td>\n",
       "      <td>-0.033141</td>\n",
       "      <td>-0.037795</td>\n",
       "      <td>0.029247</td>\n",
       "      <td>0.020281</td>\n",
       "      <td>0.027031</td>\n",
       "      <td>0.003051</td>\n",
       "      <td>0.025404</td>\n",
       "      <td>-0.013621</td>\n",
       "      <td>-0.003786</td>\n",
       "      <td>0.023074</td>\n",
       "      <td>-0.030087</td>\n",
       "      <td>-0.015744</td>\n",
       "      <td>-0.030046</td>\n",
       "      <td>-0.003720</td>\n",
       "      <td>0.038152</td>\n",
       "      <td>-0.029277</td>\n",
       "      <td>-0.009335</td>\n",
       "      <td>-0.007751</td>\n",
       "      <td>0.032310</td>\n",
       "      <td>-0.023724</td>\n",
       "      <td>0.000181</td>\n",
       "      <td>-0.019015</td>\n",
       "      <td>...</td>\n",
       "      <td>0.0</td>\n",
       "      <td>0.0</td>\n",
       "      <td>0.0</td>\n",
       "      <td>0.0</td>\n",
       "      <td>0.0</td>\n",
       "      <td>0.0</td>\n",
       "      <td>0.0</td>\n",
       "      <td>0.0</td>\n",
       "      <td>0.0</td>\n",
       "      <td>0.0</td>\n",
       "      <td>0.0</td>\n",
       "      <td>0.0</td>\n",
       "      <td>0.0</td>\n",
       "      <td>0.0</td>\n",
       "      <td>0.0</td>\n",
       "      <td>0.0</td>\n",
       "      <td>0.0</td>\n",
       "      <td>0.0</td>\n",
       "      <td>0.0</td>\n",
       "      <td>0.0</td>\n",
       "      <td>0.0</td>\n",
       "      <td>0.0</td>\n",
       "      <td>0.0</td>\n",
       "      <td>0.0</td>\n",
       "      <td>0.0</td>\n",
       "      <td>0.0</td>\n",
       "      <td>0.0</td>\n",
       "      <td>0.0</td>\n",
       "      <td>0.0</td>\n",
       "      <td>0.0</td>\n",
       "      <td>0.0</td>\n",
       "      <td>0.0</td>\n",
       "      <td>0.0</td>\n",
       "      <td>0.0</td>\n",
       "      <td>0.0</td>\n",
       "      <td>0.0</td>\n",
       "      <td>0.0</td>\n",
       "      <td>0.0</td>\n",
       "      <td>0.0</td>\n",
       "      <td>0.0</td>\n",
       "    </tr>\n",
       "    <tr>\n",
       "      <th>2</th>\n",
       "      <td>-0.002142</td>\n",
       "      <td>0.000953</td>\n",
       "      <td>0.020416</td>\n",
       "      <td>0.036037</td>\n",
       "      <td>-0.037219</td>\n",
       "      <td>-0.028467</td>\n",
       "      <td>0.025838</td>\n",
       "      <td>0.035897</td>\n",
       "      <td>-0.020057</td>\n",
       "      <td>-0.015059</td>\n",
       "      <td>0.029527</td>\n",
       "      <td>-0.006131</td>\n",
       "      <td>-0.018147</td>\n",
       "      <td>0.026216</td>\n",
       "      <td>-0.019436</td>\n",
       "      <td>-0.007264</td>\n",
       "      <td>0.011508</td>\n",
       "      <td>0.003969</td>\n",
       "      <td>-0.033141</td>\n",
       "      <td>-0.037792</td>\n",
       "      <td>0.029252</td>\n",
       "      <td>0.020275</td>\n",
       "      <td>0.027030</td>\n",
       "      <td>0.003056</td>\n",
       "      <td>0.025408</td>\n",
       "      <td>-0.013627</td>\n",
       "      <td>-0.003787</td>\n",
       "      <td>0.023077</td>\n",
       "      <td>-0.030080</td>\n",
       "      <td>-0.015747</td>\n",
       "      <td>-0.030054</td>\n",
       "      <td>-0.003716</td>\n",
       "      <td>0.038160</td>\n",
       "      <td>-0.029282</td>\n",
       "      <td>-0.009338</td>\n",
       "      <td>-0.007749</td>\n",
       "      <td>0.032307</td>\n",
       "      <td>-0.023731</td>\n",
       "      <td>0.000186</td>\n",
       "      <td>-0.019018</td>\n",
       "      <td>...</td>\n",
       "      <td>0.0</td>\n",
       "      <td>0.0</td>\n",
       "      <td>0.0</td>\n",
       "      <td>0.0</td>\n",
       "      <td>0.0</td>\n",
       "      <td>0.0</td>\n",
       "      <td>0.0</td>\n",
       "      <td>0.0</td>\n",
       "      <td>0.0</td>\n",
       "      <td>0.0</td>\n",
       "      <td>0.0</td>\n",
       "      <td>0.0</td>\n",
       "      <td>0.0</td>\n",
       "      <td>0.0</td>\n",
       "      <td>0.0</td>\n",
       "      <td>0.0</td>\n",
       "      <td>0.0</td>\n",
       "      <td>0.0</td>\n",
       "      <td>0.0</td>\n",
       "      <td>0.0</td>\n",
       "      <td>0.0</td>\n",
       "      <td>0.0</td>\n",
       "      <td>0.0</td>\n",
       "      <td>0.0</td>\n",
       "      <td>0.0</td>\n",
       "      <td>0.0</td>\n",
       "      <td>0.0</td>\n",
       "      <td>0.0</td>\n",
       "      <td>0.0</td>\n",
       "      <td>0.0</td>\n",
       "      <td>0.0</td>\n",
       "      <td>0.0</td>\n",
       "      <td>0.0</td>\n",
       "      <td>0.0</td>\n",
       "      <td>0.0</td>\n",
       "      <td>0.0</td>\n",
       "      <td>0.0</td>\n",
       "      <td>0.0</td>\n",
       "      <td>0.0</td>\n",
       "      <td>0.0</td>\n",
       "    </tr>\n",
       "    <tr>\n",
       "      <th>3</th>\n",
       "      <td>-0.002149</td>\n",
       "      <td>0.000949</td>\n",
       "      <td>0.020408</td>\n",
       "      <td>0.036037</td>\n",
       "      <td>-0.037204</td>\n",
       "      <td>-0.028466</td>\n",
       "      <td>0.025836</td>\n",
       "      <td>0.035890</td>\n",
       "      <td>-0.020067</td>\n",
       "      <td>-0.015046</td>\n",
       "      <td>0.029519</td>\n",
       "      <td>-0.006135</td>\n",
       "      <td>-0.018144</td>\n",
       "      <td>0.026213</td>\n",
       "      <td>-0.019438</td>\n",
       "      <td>-0.007266</td>\n",
       "      <td>0.011508</td>\n",
       "      <td>0.003975</td>\n",
       "      <td>-0.033146</td>\n",
       "      <td>-0.037797</td>\n",
       "      <td>0.029246</td>\n",
       "      <td>0.020283</td>\n",
       "      <td>0.027028</td>\n",
       "      <td>0.003043</td>\n",
       "      <td>0.025409</td>\n",
       "      <td>-0.013600</td>\n",
       "      <td>-0.003776</td>\n",
       "      <td>0.023079</td>\n",
       "      <td>-0.030090</td>\n",
       "      <td>-0.015742</td>\n",
       "      <td>-0.030030</td>\n",
       "      <td>-0.003719</td>\n",
       "      <td>0.038148</td>\n",
       "      <td>-0.029280</td>\n",
       "      <td>-0.009318</td>\n",
       "      <td>-0.007776</td>\n",
       "      <td>0.032312</td>\n",
       "      <td>-0.023747</td>\n",
       "      <td>0.000183</td>\n",
       "      <td>-0.019003</td>\n",
       "      <td>...</td>\n",
       "      <td>0.0</td>\n",
       "      <td>0.0</td>\n",
       "      <td>0.0</td>\n",
       "      <td>0.0</td>\n",
       "      <td>0.0</td>\n",
       "      <td>0.0</td>\n",
       "      <td>0.0</td>\n",
       "      <td>0.0</td>\n",
       "      <td>0.0</td>\n",
       "      <td>0.0</td>\n",
       "      <td>0.0</td>\n",
       "      <td>0.0</td>\n",
       "      <td>0.0</td>\n",
       "      <td>0.0</td>\n",
       "      <td>0.0</td>\n",
       "      <td>0.0</td>\n",
       "      <td>0.0</td>\n",
       "      <td>0.0</td>\n",
       "      <td>0.0</td>\n",
       "      <td>0.0</td>\n",
       "      <td>0.0</td>\n",
       "      <td>0.0</td>\n",
       "      <td>0.0</td>\n",
       "      <td>0.0</td>\n",
       "      <td>0.0</td>\n",
       "      <td>0.0</td>\n",
       "      <td>0.0</td>\n",
       "      <td>0.0</td>\n",
       "      <td>0.0</td>\n",
       "      <td>0.0</td>\n",
       "      <td>0.0</td>\n",
       "      <td>0.0</td>\n",
       "      <td>0.0</td>\n",
       "      <td>0.0</td>\n",
       "      <td>0.0</td>\n",
       "      <td>0.0</td>\n",
       "      <td>0.0</td>\n",
       "      <td>0.0</td>\n",
       "      <td>0.0</td>\n",
       "      <td>0.0</td>\n",
       "    </tr>\n",
       "    <tr>\n",
       "      <th>4</th>\n",
       "      <td>-0.002165</td>\n",
       "      <td>0.000933</td>\n",
       "      <td>0.020422</td>\n",
       "      <td>0.036041</td>\n",
       "      <td>-0.037203</td>\n",
       "      <td>-0.028482</td>\n",
       "      <td>0.025853</td>\n",
       "      <td>0.035888</td>\n",
       "      <td>-0.020088</td>\n",
       "      <td>-0.015040</td>\n",
       "      <td>0.029531</td>\n",
       "      <td>-0.006126</td>\n",
       "      <td>-0.018143</td>\n",
       "      <td>0.026210</td>\n",
       "      <td>-0.019459</td>\n",
       "      <td>-0.007242</td>\n",
       "      <td>0.011517</td>\n",
       "      <td>0.003954</td>\n",
       "      <td>-0.033157</td>\n",
       "      <td>-0.037776</td>\n",
       "      <td>0.029259</td>\n",
       "      <td>0.020307</td>\n",
       "      <td>0.027043</td>\n",
       "      <td>0.003033</td>\n",
       "      <td>0.025412</td>\n",
       "      <td>-0.013616</td>\n",
       "      <td>-0.003779</td>\n",
       "      <td>0.023067</td>\n",
       "      <td>-0.030102</td>\n",
       "      <td>-0.015748</td>\n",
       "      <td>-0.030044</td>\n",
       "      <td>-0.003722</td>\n",
       "      <td>0.038158</td>\n",
       "      <td>-0.029272</td>\n",
       "      <td>-0.009337</td>\n",
       "      <td>-0.007754</td>\n",
       "      <td>0.032319</td>\n",
       "      <td>-0.023721</td>\n",
       "      <td>0.000181</td>\n",
       "      <td>-0.019005</td>\n",
       "      <td>...</td>\n",
       "      <td>0.0</td>\n",
       "      <td>0.0</td>\n",
       "      <td>0.0</td>\n",
       "      <td>0.0</td>\n",
       "      <td>0.0</td>\n",
       "      <td>0.0</td>\n",
       "      <td>0.0</td>\n",
       "      <td>0.0</td>\n",
       "      <td>0.0</td>\n",
       "      <td>0.0</td>\n",
       "      <td>0.0</td>\n",
       "      <td>0.0</td>\n",
       "      <td>0.0</td>\n",
       "      <td>0.0</td>\n",
       "      <td>0.0</td>\n",
       "      <td>0.0</td>\n",
       "      <td>0.0</td>\n",
       "      <td>0.0</td>\n",
       "      <td>0.0</td>\n",
       "      <td>0.0</td>\n",
       "      <td>0.0</td>\n",
       "      <td>0.0</td>\n",
       "      <td>0.0</td>\n",
       "      <td>0.0</td>\n",
       "      <td>0.0</td>\n",
       "      <td>0.0</td>\n",
       "      <td>0.0</td>\n",
       "      <td>0.0</td>\n",
       "      <td>0.0</td>\n",
       "      <td>0.0</td>\n",
       "      <td>0.0</td>\n",
       "      <td>0.0</td>\n",
       "      <td>0.0</td>\n",
       "      <td>0.0</td>\n",
       "      <td>0.0</td>\n",
       "      <td>0.0</td>\n",
       "      <td>0.0</td>\n",
       "      <td>0.0</td>\n",
       "      <td>0.0</td>\n",
       "      <td>0.0</td>\n",
       "    </tr>\n",
       "    <tr>\n",
       "      <th>...</th>\n",
       "      <td>...</td>\n",
       "      <td>...</td>\n",
       "      <td>...</td>\n",
       "      <td>...</td>\n",
       "      <td>...</td>\n",
       "      <td>...</td>\n",
       "      <td>...</td>\n",
       "      <td>...</td>\n",
       "      <td>...</td>\n",
       "      <td>...</td>\n",
       "      <td>...</td>\n",
       "      <td>...</td>\n",
       "      <td>...</td>\n",
       "      <td>...</td>\n",
       "      <td>...</td>\n",
       "      <td>...</td>\n",
       "      <td>...</td>\n",
       "      <td>...</td>\n",
       "      <td>...</td>\n",
       "      <td>...</td>\n",
       "      <td>...</td>\n",
       "      <td>...</td>\n",
       "      <td>...</td>\n",
       "      <td>...</td>\n",
       "      <td>...</td>\n",
       "      <td>...</td>\n",
       "      <td>...</td>\n",
       "      <td>...</td>\n",
       "      <td>...</td>\n",
       "      <td>...</td>\n",
       "      <td>...</td>\n",
       "      <td>...</td>\n",
       "      <td>...</td>\n",
       "      <td>...</td>\n",
       "      <td>...</td>\n",
       "      <td>...</td>\n",
       "      <td>...</td>\n",
       "      <td>...</td>\n",
       "      <td>...</td>\n",
       "      <td>...</td>\n",
       "      <td>...</td>\n",
       "      <td>...</td>\n",
       "      <td>...</td>\n",
       "      <td>...</td>\n",
       "      <td>...</td>\n",
       "      <td>...</td>\n",
       "      <td>...</td>\n",
       "      <td>...</td>\n",
       "      <td>...</td>\n",
       "      <td>...</td>\n",
       "      <td>...</td>\n",
       "      <td>...</td>\n",
       "      <td>...</td>\n",
       "      <td>...</td>\n",
       "      <td>...</td>\n",
       "      <td>...</td>\n",
       "      <td>...</td>\n",
       "      <td>...</td>\n",
       "      <td>...</td>\n",
       "      <td>...</td>\n",
       "      <td>...</td>\n",
       "      <td>...</td>\n",
       "      <td>...</td>\n",
       "      <td>...</td>\n",
       "      <td>...</td>\n",
       "      <td>...</td>\n",
       "      <td>...</td>\n",
       "      <td>...</td>\n",
       "      <td>...</td>\n",
       "      <td>...</td>\n",
       "      <td>...</td>\n",
       "      <td>...</td>\n",
       "      <td>...</td>\n",
       "      <td>...</td>\n",
       "      <td>...</td>\n",
       "      <td>...</td>\n",
       "      <td>...</td>\n",
       "      <td>...</td>\n",
       "      <td>...</td>\n",
       "      <td>...</td>\n",
       "      <td>...</td>\n",
       "    </tr>\n",
       "    <tr>\n",
       "      <th>41187</th>\n",
       "      <td>-0.002158</td>\n",
       "      <td>0.000951</td>\n",
       "      <td>0.020411</td>\n",
       "      <td>0.036031</td>\n",
       "      <td>-0.037231</td>\n",
       "      <td>-0.028484</td>\n",
       "      <td>0.025856</td>\n",
       "      <td>0.035924</td>\n",
       "      <td>-0.020056</td>\n",
       "      <td>-0.015072</td>\n",
       "      <td>0.029528</td>\n",
       "      <td>-0.006118</td>\n",
       "      <td>-0.018159</td>\n",
       "      <td>0.026218</td>\n",
       "      <td>-0.019434</td>\n",
       "      <td>-0.007264</td>\n",
       "      <td>0.011502</td>\n",
       "      <td>0.003975</td>\n",
       "      <td>-0.033154</td>\n",
       "      <td>-0.037800</td>\n",
       "      <td>0.029275</td>\n",
       "      <td>0.020278</td>\n",
       "      <td>0.027033</td>\n",
       "      <td>0.003056</td>\n",
       "      <td>0.025412</td>\n",
       "      <td>-0.013624</td>\n",
       "      <td>-0.003778</td>\n",
       "      <td>0.023075</td>\n",
       "      <td>-0.030091</td>\n",
       "      <td>-0.015745</td>\n",
       "      <td>-0.030046</td>\n",
       "      <td>-0.003719</td>\n",
       "      <td>0.038159</td>\n",
       "      <td>-0.029273</td>\n",
       "      <td>-0.009343</td>\n",
       "      <td>-0.007744</td>\n",
       "      <td>0.032314</td>\n",
       "      <td>-0.023719</td>\n",
       "      <td>0.000178</td>\n",
       "      <td>-0.019008</td>\n",
       "      <td>...</td>\n",
       "      <td>0.0</td>\n",
       "      <td>0.0</td>\n",
       "      <td>0.0</td>\n",
       "      <td>0.0</td>\n",
       "      <td>0.0</td>\n",
       "      <td>0.0</td>\n",
       "      <td>0.0</td>\n",
       "      <td>0.0</td>\n",
       "      <td>0.0</td>\n",
       "      <td>0.0</td>\n",
       "      <td>0.0</td>\n",
       "      <td>0.0</td>\n",
       "      <td>0.0</td>\n",
       "      <td>0.0</td>\n",
       "      <td>0.0</td>\n",
       "      <td>0.0</td>\n",
       "      <td>0.0</td>\n",
       "      <td>0.0</td>\n",
       "      <td>0.0</td>\n",
       "      <td>0.0</td>\n",
       "      <td>0.0</td>\n",
       "      <td>0.0</td>\n",
       "      <td>0.0</td>\n",
       "      <td>0.0</td>\n",
       "      <td>0.0</td>\n",
       "      <td>0.0</td>\n",
       "      <td>0.0</td>\n",
       "      <td>0.0</td>\n",
       "      <td>0.0</td>\n",
       "      <td>0.0</td>\n",
       "      <td>0.0</td>\n",
       "      <td>0.0</td>\n",
       "      <td>0.0</td>\n",
       "      <td>0.0</td>\n",
       "      <td>0.0</td>\n",
       "      <td>0.0</td>\n",
       "      <td>0.0</td>\n",
       "      <td>0.0</td>\n",
       "      <td>0.0</td>\n",
       "      <td>0.0</td>\n",
       "    </tr>\n",
       "    <tr>\n",
       "      <th>41188</th>\n",
       "      <td>-0.002139</td>\n",
       "      <td>0.000918</td>\n",
       "      <td>0.020456</td>\n",
       "      <td>0.036054</td>\n",
       "      <td>-0.037223</td>\n",
       "      <td>-0.028476</td>\n",
       "      <td>0.025872</td>\n",
       "      <td>0.035939</td>\n",
       "      <td>-0.020127</td>\n",
       "      <td>-0.015043</td>\n",
       "      <td>0.029512</td>\n",
       "      <td>-0.006106</td>\n",
       "      <td>-0.018159</td>\n",
       "      <td>0.026216</td>\n",
       "      <td>-0.019441</td>\n",
       "      <td>-0.007275</td>\n",
       "      <td>0.011545</td>\n",
       "      <td>0.003926</td>\n",
       "      <td>-0.033179</td>\n",
       "      <td>-0.037824</td>\n",
       "      <td>0.029257</td>\n",
       "      <td>0.020280</td>\n",
       "      <td>0.027092</td>\n",
       "      <td>0.003051</td>\n",
       "      <td>0.025436</td>\n",
       "      <td>-0.013624</td>\n",
       "      <td>-0.003762</td>\n",
       "      <td>0.023090</td>\n",
       "      <td>-0.030103</td>\n",
       "      <td>-0.015739</td>\n",
       "      <td>-0.030044</td>\n",
       "      <td>-0.003736</td>\n",
       "      <td>0.038157</td>\n",
       "      <td>-0.029308</td>\n",
       "      <td>-0.009342</td>\n",
       "      <td>-0.007766</td>\n",
       "      <td>0.032314</td>\n",
       "      <td>-0.023727</td>\n",
       "      <td>0.000192</td>\n",
       "      <td>-0.019010</td>\n",
       "      <td>...</td>\n",
       "      <td>0.0</td>\n",
       "      <td>0.0</td>\n",
       "      <td>0.0</td>\n",
       "      <td>0.0</td>\n",
       "      <td>0.0</td>\n",
       "      <td>0.0</td>\n",
       "      <td>0.0</td>\n",
       "      <td>0.0</td>\n",
       "      <td>0.0</td>\n",
       "      <td>0.0</td>\n",
       "      <td>0.0</td>\n",
       "      <td>0.0</td>\n",
       "      <td>0.0</td>\n",
       "      <td>0.0</td>\n",
       "      <td>0.0</td>\n",
       "      <td>0.0</td>\n",
       "      <td>0.0</td>\n",
       "      <td>0.0</td>\n",
       "      <td>0.0</td>\n",
       "      <td>0.0</td>\n",
       "      <td>0.0</td>\n",
       "      <td>0.0</td>\n",
       "      <td>0.0</td>\n",
       "      <td>0.0</td>\n",
       "      <td>0.0</td>\n",
       "      <td>0.0</td>\n",
       "      <td>0.0</td>\n",
       "      <td>0.0</td>\n",
       "      <td>0.0</td>\n",
       "      <td>0.0</td>\n",
       "      <td>0.0</td>\n",
       "      <td>0.0</td>\n",
       "      <td>0.0</td>\n",
       "      <td>0.0</td>\n",
       "      <td>0.0</td>\n",
       "      <td>0.0</td>\n",
       "      <td>0.0</td>\n",
       "      <td>0.0</td>\n",
       "      <td>0.0</td>\n",
       "      <td>0.0</td>\n",
       "    </tr>\n",
       "    <tr>\n",
       "      <th>41189</th>\n",
       "      <td>-0.002136</td>\n",
       "      <td>0.000900</td>\n",
       "      <td>0.020445</td>\n",
       "      <td>0.036070</td>\n",
       "      <td>-0.037269</td>\n",
       "      <td>-0.028502</td>\n",
       "      <td>0.025876</td>\n",
       "      <td>0.035948</td>\n",
       "      <td>-0.020131</td>\n",
       "      <td>-0.015090</td>\n",
       "      <td>0.029564</td>\n",
       "      <td>-0.006159</td>\n",
       "      <td>-0.018149</td>\n",
       "      <td>0.026256</td>\n",
       "      <td>-0.019437</td>\n",
       "      <td>-0.007200</td>\n",
       "      <td>0.011547</td>\n",
       "      <td>0.003965</td>\n",
       "      <td>-0.033194</td>\n",
       "      <td>-0.037851</td>\n",
       "      <td>0.029293</td>\n",
       "      <td>0.020299</td>\n",
       "      <td>0.027109</td>\n",
       "      <td>0.003051</td>\n",
       "      <td>0.025429</td>\n",
       "      <td>-0.013631</td>\n",
       "      <td>-0.003776</td>\n",
       "      <td>0.023107</td>\n",
       "      <td>-0.030116</td>\n",
       "      <td>-0.015730</td>\n",
       "      <td>-0.030047</td>\n",
       "      <td>-0.003733</td>\n",
       "      <td>0.038180</td>\n",
       "      <td>-0.029293</td>\n",
       "      <td>-0.009337</td>\n",
       "      <td>-0.007734</td>\n",
       "      <td>0.032333</td>\n",
       "      <td>-0.023717</td>\n",
       "      <td>0.000190</td>\n",
       "      <td>-0.018989</td>\n",
       "      <td>...</td>\n",
       "      <td>0.0</td>\n",
       "      <td>0.0</td>\n",
       "      <td>0.0</td>\n",
       "      <td>0.0</td>\n",
       "      <td>0.0</td>\n",
       "      <td>0.0</td>\n",
       "      <td>0.0</td>\n",
       "      <td>0.0</td>\n",
       "      <td>0.0</td>\n",
       "      <td>0.0</td>\n",
       "      <td>0.0</td>\n",
       "      <td>0.0</td>\n",
       "      <td>0.0</td>\n",
       "      <td>0.0</td>\n",
       "      <td>0.0</td>\n",
       "      <td>0.0</td>\n",
       "      <td>0.0</td>\n",
       "      <td>0.0</td>\n",
       "      <td>0.0</td>\n",
       "      <td>0.0</td>\n",
       "      <td>0.0</td>\n",
       "      <td>0.0</td>\n",
       "      <td>0.0</td>\n",
       "      <td>0.0</td>\n",
       "      <td>0.0</td>\n",
       "      <td>0.0</td>\n",
       "      <td>0.0</td>\n",
       "      <td>0.0</td>\n",
       "      <td>0.0</td>\n",
       "      <td>0.0</td>\n",
       "      <td>0.0</td>\n",
       "      <td>0.0</td>\n",
       "      <td>0.0</td>\n",
       "      <td>0.0</td>\n",
       "      <td>0.0</td>\n",
       "      <td>0.0</td>\n",
       "      <td>0.0</td>\n",
       "      <td>0.0</td>\n",
       "      <td>0.0</td>\n",
       "      <td>0.0</td>\n",
       "    </tr>\n",
       "    <tr>\n",
       "      <th>41190</th>\n",
       "      <td>-0.002139</td>\n",
       "      <td>0.000902</td>\n",
       "      <td>0.020464</td>\n",
       "      <td>0.036171</td>\n",
       "      <td>-0.037298</td>\n",
       "      <td>-0.028556</td>\n",
       "      <td>0.025898</td>\n",
       "      <td>0.035992</td>\n",
       "      <td>-0.020257</td>\n",
       "      <td>-0.015056</td>\n",
       "      <td>0.029612</td>\n",
       "      <td>-0.006112</td>\n",
       "      <td>-0.018263</td>\n",
       "      <td>0.026224</td>\n",
       "      <td>-0.019599</td>\n",
       "      <td>-0.007105</td>\n",
       "      <td>0.011579</td>\n",
       "      <td>0.003973</td>\n",
       "      <td>-0.033199</td>\n",
       "      <td>-0.037912</td>\n",
       "      <td>0.029403</td>\n",
       "      <td>0.020346</td>\n",
       "      <td>0.027149</td>\n",
       "      <td>0.003003</td>\n",
       "      <td>0.025605</td>\n",
       "      <td>-0.013616</td>\n",
       "      <td>-0.003875</td>\n",
       "      <td>0.023244</td>\n",
       "      <td>-0.030251</td>\n",
       "      <td>-0.015860</td>\n",
       "      <td>-0.030168</td>\n",
       "      <td>-0.003691</td>\n",
       "      <td>0.038381</td>\n",
       "      <td>-0.029458</td>\n",
       "      <td>-0.009424</td>\n",
       "      <td>-0.007795</td>\n",
       "      <td>0.032484</td>\n",
       "      <td>-0.023849</td>\n",
       "      <td>0.000168</td>\n",
       "      <td>-0.019146</td>\n",
       "      <td>...</td>\n",
       "      <td>0.0</td>\n",
       "      <td>0.0</td>\n",
       "      <td>0.0</td>\n",
       "      <td>0.0</td>\n",
       "      <td>0.0</td>\n",
       "      <td>0.0</td>\n",
       "      <td>0.0</td>\n",
       "      <td>0.0</td>\n",
       "      <td>0.0</td>\n",
       "      <td>0.0</td>\n",
       "      <td>0.0</td>\n",
       "      <td>0.0</td>\n",
       "      <td>0.0</td>\n",
       "      <td>0.0</td>\n",
       "      <td>0.0</td>\n",
       "      <td>0.0</td>\n",
       "      <td>0.0</td>\n",
       "      <td>0.0</td>\n",
       "      <td>0.0</td>\n",
       "      <td>0.0</td>\n",
       "      <td>0.0</td>\n",
       "      <td>0.0</td>\n",
       "      <td>0.0</td>\n",
       "      <td>0.0</td>\n",
       "      <td>0.0</td>\n",
       "      <td>0.0</td>\n",
       "      <td>0.0</td>\n",
       "      <td>0.0</td>\n",
       "      <td>0.0</td>\n",
       "      <td>0.0</td>\n",
       "      <td>0.0</td>\n",
       "      <td>0.0</td>\n",
       "      <td>0.0</td>\n",
       "      <td>0.0</td>\n",
       "      <td>0.0</td>\n",
       "      <td>0.0</td>\n",
       "      <td>0.0</td>\n",
       "      <td>0.0</td>\n",
       "      <td>0.0</td>\n",
       "      <td>0.0</td>\n",
       "    </tr>\n",
       "    <tr>\n",
       "      <th>41191</th>\n",
       "      <td>-0.002172</td>\n",
       "      <td>0.000941</td>\n",
       "      <td>0.020468</td>\n",
       "      <td>0.036126</td>\n",
       "      <td>-0.037326</td>\n",
       "      <td>-0.028506</td>\n",
       "      <td>0.025935</td>\n",
       "      <td>0.036025</td>\n",
       "      <td>-0.020084</td>\n",
       "      <td>-0.015115</td>\n",
       "      <td>0.029619</td>\n",
       "      <td>-0.006128</td>\n",
       "      <td>-0.018232</td>\n",
       "      <td>0.026260</td>\n",
       "      <td>-0.019455</td>\n",
       "      <td>-0.007238</td>\n",
       "      <td>0.011592</td>\n",
       "      <td>0.004012</td>\n",
       "      <td>-0.033287</td>\n",
       "      <td>-0.037833</td>\n",
       "      <td>0.029365</td>\n",
       "      <td>0.020289</td>\n",
       "      <td>0.027109</td>\n",
       "      <td>0.003039</td>\n",
       "      <td>0.025498</td>\n",
       "      <td>-0.013632</td>\n",
       "      <td>-0.003777</td>\n",
       "      <td>0.023082</td>\n",
       "      <td>-0.030090</td>\n",
       "      <td>-0.015779</td>\n",
       "      <td>-0.030096</td>\n",
       "      <td>-0.003734</td>\n",
       "      <td>0.038166</td>\n",
       "      <td>-0.029283</td>\n",
       "      <td>-0.009361</td>\n",
       "      <td>-0.007742</td>\n",
       "      <td>0.032356</td>\n",
       "      <td>-0.023717</td>\n",
       "      <td>0.000180</td>\n",
       "      <td>-0.019033</td>\n",
       "      <td>...</td>\n",
       "      <td>0.0</td>\n",
       "      <td>0.0</td>\n",
       "      <td>0.0</td>\n",
       "      <td>0.0</td>\n",
       "      <td>0.0</td>\n",
       "      <td>0.0</td>\n",
       "      <td>0.0</td>\n",
       "      <td>0.0</td>\n",
       "      <td>0.0</td>\n",
       "      <td>0.0</td>\n",
       "      <td>0.0</td>\n",
       "      <td>0.0</td>\n",
       "      <td>0.0</td>\n",
       "      <td>0.0</td>\n",
       "      <td>0.0</td>\n",
       "      <td>0.0</td>\n",
       "      <td>0.0</td>\n",
       "      <td>0.0</td>\n",
       "      <td>0.0</td>\n",
       "      <td>0.0</td>\n",
       "      <td>0.0</td>\n",
       "      <td>0.0</td>\n",
       "      <td>0.0</td>\n",
       "      <td>0.0</td>\n",
       "      <td>0.0</td>\n",
       "      <td>0.0</td>\n",
       "      <td>0.0</td>\n",
       "      <td>0.0</td>\n",
       "      <td>0.0</td>\n",
       "      <td>0.0</td>\n",
       "      <td>0.0</td>\n",
       "      <td>0.0</td>\n",
       "      <td>0.0</td>\n",
       "      <td>0.0</td>\n",
       "      <td>0.0</td>\n",
       "      <td>0.0</td>\n",
       "      <td>0.0</td>\n",
       "      <td>0.0</td>\n",
       "      <td>0.0</td>\n",
       "      <td>0.0</td>\n",
       "    </tr>\n",
       "  </tbody>\n",
       "</table>\n",
       "<p>41192 rows × 3525 columns</p>\n",
       "</div>"
      ],
      "text/plain": [
       "           0         1         2         3     ...  3521  3522  3523  3524\n",
       "0     -0.002145  0.000946  0.020413  0.036037  ...   0.0   0.0   0.0   0.0\n",
       "1     -0.002145  0.000946  0.020413  0.036037  ...   0.0   0.0   0.0   0.0\n",
       "2     -0.002142  0.000953  0.020416  0.036037  ...   0.0   0.0   0.0   0.0\n",
       "3     -0.002149  0.000949  0.020408  0.036037  ...   0.0   0.0   0.0   0.0\n",
       "4     -0.002165  0.000933  0.020422  0.036041  ...   0.0   0.0   0.0   0.0\n",
       "...         ...       ...       ...       ...  ...   ...   ...   ...   ...\n",
       "41187 -0.002158  0.000951  0.020411  0.036031  ...   0.0   0.0   0.0   0.0\n",
       "41188 -0.002139  0.000918  0.020456  0.036054  ...   0.0   0.0   0.0   0.0\n",
       "41189 -0.002136  0.000900  0.020445  0.036070  ...   0.0   0.0   0.0   0.0\n",
       "41190 -0.002139  0.000902  0.020464  0.036171  ...   0.0   0.0   0.0   0.0\n",
       "41191 -0.002172  0.000941  0.020468  0.036126  ...   0.0   0.0   0.0   0.0\n",
       "\n",
       "[41192 rows x 3525 columns]"
      ]
     },
     "execution_count": 22,
     "metadata": {},
     "output_type": "execute_result"
    }
   ],
   "source": [
    "tmp = pd.DataFrame(data['New_embeddings'].values.tolist(), index = data['New_embeddings'].index)\n",
    "tmp"
   ]
  },
  {
   "cell_type": "markdown",
   "id": "3b12b533-7917-4e0c-b901-88920f02d24e",
   "metadata": {},
   "source": [
    "# Обучение моделей для предсказания параметра 'Area'\n",
    " "
   ]
  },
  {
   "cell_type": "markdown",
   "id": "1bf02ad1-a1df-404e-b821-0017b7f5e2b9",
   "metadata": {},
   "source": [
    "## Подготовим данные"
   ]
  },
  {
   "cell_type": "markdown",
   "id": "0b5bce28-76cc-48a0-ac0a-d51323520e51",
   "metadata": {},
   "source": [
    "Далее, разделим данные на X - матрица объекты-признаки и y - указания учителя "
   ]
  },
  {
   "cell_type": "code",
   "execution_count": 23,
   "id": "03103afd-8d9e-48b5-b2a1-c04693164e51",
   "metadata": {
    "execution": {
     "iopub.execute_input": "2024-03-22T10:14:39.386886Z",
     "iopub.status.busy": "2024-03-22T10:14:39.386338Z",
     "iopub.status.idle": "2024-03-22T10:14:39.395083Z",
     "shell.execute_reply": "2024-03-22T10:14:39.394568Z",
     "shell.execute_reply.started": "2024-03-22T10:14:39.386858Z"
    },
    "tags": []
   },
   "outputs": [],
   "source": [
    "# Данные, для которых будем проводить нормализацию\n",
    "X = tmp\n",
    "#Целевые параметры. Разделим их, для возможных экспериментов с ними в будущем\n",
    "y = data['Area']"
   ]
  },
  {
   "cell_type": "markdown",
   "id": "359d0b6c-a5d3-48ca-8a48-2dc867935e59",
   "metadata": {},
   "source": [
    "Разделим данные на тренировочные и тестовые"
   ]
  },
  {
   "cell_type": "code",
   "execution_count": 24,
   "id": "98723ec8-3c9a-401b-ba10-d6b75900295a",
   "metadata": {
    "execution": {
     "iopub.execute_input": "2024-03-22T10:14:39.396057Z",
     "iopub.status.busy": "2024-03-22T10:14:39.395771Z",
     "iopub.status.idle": "2024-03-22T10:14:39.821532Z",
     "shell.execute_reply": "2024-03-22T10:14:39.820876Z",
     "shell.execute_reply.started": "2024-03-22T10:14:39.396038Z"
    },
    "tags": []
   },
   "outputs": [],
   "source": [
    "X_train, X_test, y_train, y_test = train_test_split(X, y, test_size=0.20, random_state=42)"
   ]
  },
  {
   "cell_type": "markdown",
   "id": "02c48b10-59cf-48a5-afde-ba3c6ec5a223",
   "metadata": {},
   "source": [
    "Создадим DataFrame в котором будем хранить информацию о результатах для каждой модели"
   ]
  },
  {
   "cell_type": "code",
   "execution_count": 25,
   "id": "9ed0b152-8aea-48bc-a87a-eddcfae2b425",
   "metadata": {
    "execution": {
     "iopub.execute_input": "2024-03-22T10:14:39.822675Z",
     "iopub.status.busy": "2024-03-22T10:14:39.822314Z",
     "iopub.status.idle": "2024-03-22T10:14:39.832961Z",
     "shell.execute_reply": "2024-03-22T10:14:39.832159Z",
     "shell.execute_reply.started": "2024-03-22T10:14:39.822655Z"
    },
    "tags": []
   },
   "outputs": [],
   "source": [
    "results_df_area = pd.DataFrame(columns=['Model', 'Parameters', 'RMSE', 'MSE', 'MAE', 'R²'])"
   ]
  },
  {
   "cell_type": "markdown",
   "id": "4f13bdfb-f46b-4c2b-96ae-b636b5f5be9f",
   "metadata": {},
   "source": [
    "## CatBoost"
   ]
  },
  {
   "cell_type": "code",
   "execution_count": 26,
   "id": "1eda5554-7a3b-4c13-917c-8aeae3d3c167",
   "metadata": {
    "execution": {
     "iopub.execute_input": "2024-03-22T10:14:39.834230Z",
     "iopub.status.busy": "2024-03-22T10:14:39.833734Z",
     "iopub.status.idle": "2024-03-22T10:22:53.655173Z",
     "shell.execute_reply": "2024-03-22T10:22:53.654076Z",
     "shell.execute_reply.started": "2024-03-22T10:14:39.834210Z"
    },
    "scrolled": true,
    "tags": []
   },
   "outputs": [
    {
     "name": "stderr",
     "output_type": "stream",
     "text": [
      "[I 2024-03-22 10:14:39,838] A new study created in memory with name: no-name-a11b0fe0-df92-4e23-b6ca-2ca556ae71e4\n",
      "[I 2024-03-22 10:14:56,069] Trial 0 finished with value: 227.83265394710628 and parameters: {'iterations': 418, 'learning_rate': 0.10512938563009457, 'depth': 5, 'l2_leaf_reg': 9.900780313518519}. Best is trial 0 with value: 227.83265394710628.\n"
     ]
    },
    {
     "name": "stdout",
     "output_type": "stream",
     "text": [
      "RMSE: 15.0941, MSE: 227.8327, MAE: 11.2731, R²: 0.9837\n"
     ]
    },
    {
     "name": "stderr",
     "output_type": "stream",
     "text": [
      "[I 2024-03-22 10:15:29,222] Trial 1 finished with value: 234.4993296314637 and parameters: {'iterations': 883, 'learning_rate': 0.19721929189741744, 'depth': 5, 'l2_leaf_reg': 2.413890738799251}. Best is trial 0 with value: 227.83265394710628.\n"
     ]
    },
    {
     "name": "stdout",
     "output_type": "stream",
     "text": [
      "RMSE: 15.3134, MSE: 234.4993, MAE: 11.3616, R²: 0.9832\n"
     ]
    },
    {
     "name": "stderr",
     "output_type": "stream",
     "text": [
      "[I 2024-03-22 10:16:20,069] Trial 2 finished with value: 225.86674610095892 and parameters: {'iterations': 380, 'learning_rate': 0.11176531368846049, 'depth': 8, 'l2_leaf_reg': 0.11833561960365871}. Best is trial 2 with value: 225.86674610095892.\n"
     ]
    },
    {
     "name": "stdout",
     "output_type": "stream",
     "text": [
      "RMSE: 15.0289, MSE: 225.8667, MAE: 11.1819, R²: 0.9838\n"
     ]
    },
    {
     "name": "stderr",
     "output_type": "stream",
     "text": [
      "[I 2024-03-22 10:17:25,503] Trial 3 finished with value: 231.6811335024717 and parameters: {'iterations': 820, 'learning_rate': 0.14857752682605588, 'depth': 7, 'l2_leaf_reg': 6.24859055343385}. Best is trial 2 with value: 225.86674610095892.\n"
     ]
    },
    {
     "name": "stdout",
     "output_type": "stream",
     "text": [
      "RMSE: 15.2211, MSE: 231.6811, MAE: 11.2947, R²: 0.9834\n"
     ]
    },
    {
     "name": "stderr",
     "output_type": "stream",
     "text": [
      "[I 2024-03-22 10:17:35,716] Trial 4 finished with value: 228.2625317682006 and parameters: {'iterations': 348, 'learning_rate': 0.10511443301684446, 'depth': 4, 'l2_leaf_reg': 0.35327478182712496}. Best is trial 2 with value: 225.86674610095892.\n"
     ]
    },
    {
     "name": "stdout",
     "output_type": "stream",
     "text": [
      "RMSE: 15.1084, MSE: 228.2625, MAE: 11.3084, R²: 0.9836\n"
     ]
    },
    {
     "name": "stderr",
     "output_type": "stream",
     "text": [
      "[I 2024-03-22 10:21:59,979] Trial 5 finished with value: 220.5279203409598 and parameters: {'iterations': 674, 'learning_rate': 0.05619528311878566, 'depth': 10, 'l2_leaf_reg': 2.3185667858930996}. Best is trial 5 with value: 220.5279203409598.\n"
     ]
    },
    {
     "name": "stdout",
     "output_type": "stream",
     "text": [
      "RMSE: 14.8502, MSE: 220.5279, MAE: 11.0496, R²: 0.9842\n"
     ]
    },
    {
     "name": "stderr",
     "output_type": "stream",
     "text": [
      "[I 2024-03-22 10:22:13,855] Trial 6 finished with value: 224.4697882563571 and parameters: {'iterations': 255, 'learning_rate': 0.08313642690218215, 'depth': 6, 'l2_leaf_reg': 7.103037888175459}. Best is trial 5 with value: 220.5279203409598.\n"
     ]
    },
    {
     "name": "stdout",
     "output_type": "stream",
     "text": [
      "RMSE: 14.9823, MSE: 224.4698, MAE: 11.2093, R²: 0.9839\n"
     ]
    },
    {
     "name": "stderr",
     "output_type": "stream",
     "text": [
      "[I 2024-03-22 10:22:30,958] Trial 7 finished with value: 231.91470064219877 and parameters: {'iterations': 547, 'learning_rate': 0.010676138775695862, 'depth': 4, 'l2_leaf_reg': 0.17184540170923931}. Best is trial 5 with value: 220.5279203409598.\n"
     ]
    },
    {
     "name": "stdout",
     "output_type": "stream",
     "text": [
      "RMSE: 15.2287, MSE: 231.9147, MAE: 11.4283, R²: 0.9834\n"
     ]
    },
    {
     "name": "stderr",
     "output_type": "stream",
     "text": [
      "[I 2024-03-22 10:22:35,251] Trial 8 finished with value: 288.2115921946684 and parameters: {'iterations': 124, 'learning_rate': 0.027740006895405848, 'depth': 4, 'l2_leaf_reg': 7.543652398098988}. Best is trial 5 with value: 220.5279203409598.\n"
     ]
    },
    {
     "name": "stdout",
     "output_type": "stream",
     "text": [
      "RMSE: 16.9768, MSE: 288.2116, MAE: 12.8529, R²: 0.9793\n"
     ]
    },
    {
     "name": "stderr",
     "output_type": "stream",
     "text": [
      "[I 2024-03-22 10:22:53,645] Trial 9 finished with value: 227.35271939676326 and parameters: {'iterations': 650, 'learning_rate': 0.10885288169859156, 'depth': 4, 'l2_leaf_reg': 0.35169001340669154}. Best is trial 5 with value: 220.5279203409598.\n"
     ]
    },
    {
     "name": "stdout",
     "output_type": "stream",
     "text": [
      "RMSE: 15.0782, MSE: 227.3527, MAE: 11.2519, R²: 0.9837\n",
      "Лучшие параметры: {'iterations': 674, 'learning_rate': 0.05619528311878566, 'depth': 10, 'l2_leaf_reg': 2.3185667858930996}\n"
     ]
    }
   ],
   "source": [
    "# Функция, которую будем оптимизировать\n",
    "def objective(trial):\n",
    "    # Определение параметров для оптимизации\n",
    "    params = {\n",
    "        'iterations': trial.suggest_int('iterations', 100, 1000),\n",
    "        'learning_rate': trial.suggest_float('learning_rate', 0.01, 0.3, log=True),\n",
    "        'depth': trial.suggest_int('depth', 4, 10),\n",
    "        'l2_leaf_reg': trial.suggest_float('l2_leaf_reg', 0.1, 10.0, log=True),\n",
    "    }\n",
    "\n",
    "    # Создание модели CatBoostRegressor с параметрами, подобранными Optuna\n",
    "    model = CatBoostRegressor(**params, loss_function='RMSE', verbose=False)\n",
    "\n",
    "    # Обучение модели\n",
    "    model.fit(X_train, y_train, eval_set=(X_test, y_test))\n",
    "\n",
    "    # Предсказание на тестовом наборе\n",
    "    y_pred = model.predict(X_test)\n",
    "\n",
    "    # Оценка качества модели (MSE, MAE, R²)\n",
    "    mse = mean_squared_error(y_test, y_pred)\n",
    "    rmse = np.sqrt(mse)\n",
    "    mae = mean_absolute_error(y_test, y_pred)\n",
    "    r2 = r2_score(y_test, y_pred)\n",
    "    \n",
    "    # Вывод метрик\n",
    "    print(f'RMSE: {rmse:.4f}, MSE: {mse:.4f}, MAE: {mae:.4f}, R²: {r2:.4f}')\n",
    "\n",
    "    return mse\n",
    "\n",
    "# Создание объекта study для оптимизации\n",
    "study = optuna.create_study(direction='minimize')\n",
    "\n",
    "# Запуск оптимизации\n",
    "study.optimize(objective, n_trials=10)\n",
    "\n",
    "# Получение лучших параметров\n",
    "best_params = study.best_params\n",
    "print(\"Лучшие параметры:\", best_params)"
   ]
  },
  {
   "cell_type": "code",
   "execution_count": 27,
   "id": "d7dd2260-f21d-4f11-b637-693376a3863d",
   "metadata": {
    "execution": {
     "iopub.execute_input": "2024-03-22T10:22:53.657320Z",
     "iopub.status.busy": "2024-03-22T10:22:53.656725Z",
     "iopub.status.idle": "2024-03-22T10:27:42.825150Z",
     "shell.execute_reply": "2024-03-22T10:27:42.824430Z",
     "shell.execute_reply.started": "2024-03-22T10:22:53.657287Z"
    },
    "tags": []
   },
   "outputs": [
    {
     "name": "stdout",
     "output_type": "stream",
     "text": [
      "Тестовые данные: RMSE: 10.1210, MSE: 102.4355, MAE: 7.7853, R²: 0.9927\n"
     ]
    }
   ],
   "source": [
    "# Создание модели с лучшими параметрами\n",
    "best_model_cb = CatBoostRegressor(**best_params, loss_function='RMSE', verbose=False)\n",
    "\n",
    "# Обучение модели на всех данных\n",
    "best_model_cb.fit(X, y)\n",
    "\n",
    "# Предсказание на тестовом наборе\n",
    "y_pred_test = best_model_cb.predict(X_test)\n",
    "\n",
    "# Оценка качества модели на тестовых данных (MSE, RMSE, MAE, R²)\n",
    "mse_test = mean_squared_error(y_test, y_pred_test)\n",
    "rmse_test = np.sqrt(mse_test)\n",
    "mae_test = mean_absolute_error(y_test, y_pred_test)\n",
    "r2_test = r2_score(y_test, y_pred_test)\n",
    "\n",
    "results_df_area.loc[len(results_df_area)] = ['CatBoost', best_params, rmse_test, mse_test, mae_test, r2_test]\n",
    "\n",
    "# Вывод метрик на тестовых данных\n",
    "print(f'Тестовые данные: RMSE: {rmse_test:.4f}, MSE: {mse_test:.4f}, MAE: {mae_test:.4f}, R²: {r2_test:.4f}')"
   ]
  },
  {
   "cell_type": "markdown",
   "id": "72f207e9-2b22-4c1c-80fe-3ca3660edcb7",
   "metadata": {},
   "source": [
    "Коэффициент детерминации (R²) рассчитывается по следующей формуле: R^2 = 1 - SS(res)/SS(tot), где\n",
    "SS(res) - сумма квадратов остатков (остаточная сумма квадратов), которая представляет собой сумму квадратов разностей между фактическими значениями и предсказанными значениями.\n",
    "SS(tot) - общая сумма квадратов, которая представляет собой сумму квадратов разностей между фактическими значениями и средним значением фактических значений."
   ]
  },
  {
   "cell_type": "markdown",
   "id": "caa9f25c-bfc6-4397-935a-9e217a5c6bdc",
   "metadata": {},
   "source": [
    "## Случайный лес"
   ]
  },
  {
   "cell_type": "code",
   "execution_count": 28,
   "id": "edd75fd8-bed1-49b9-99db-2800c4ad5508",
   "metadata": {
    "execution": {
     "iopub.execute_input": "2024-03-22T10:27:42.826939Z",
     "iopub.status.busy": "2024-03-22T10:27:42.826351Z",
     "iopub.status.idle": "2024-03-22T10:31:18.007724Z",
     "shell.execute_reply": "2024-03-22T10:31:18.007114Z",
     "shell.execute_reply.started": "2024-03-22T10:27:42.826909Z"
    },
    "scrolled": true,
    "tags": []
   },
   "outputs": [
    {
     "name": "stderr",
     "output_type": "stream",
     "text": [
      "[I 2024-03-22 10:27:42,832] A new study created in memory with name: no-name-4f6fe2c5-e83e-4035-8cdb-793d45225972\n",
      "[I 2024-03-22 10:27:52,066] Trial 0 finished with value: 269.8852885716937 and parameters: {'n_estimators': 359, 'max_depth': 7, 'min_samples_split': 17, 'min_samples_leaf': 10, 'max_features': 'log2'}. Best is trial 0 with value: 269.8852885716937.\n"
     ]
    },
    {
     "name": "stdout",
     "output_type": "stream",
     "text": [
      "RMSE: 16.4282, MSE: 269.8853, MAE: 12.3336, R²: 0.9807\n"
     ]
    },
    {
     "name": "stderr",
     "output_type": "stream",
     "text": [
      "[I 2024-03-22 10:28:00,011] Trial 1 finished with value: 259.87955363770357 and parameters: {'n_estimators': 271, 'max_depth': 8, 'min_samples_split': 13, 'min_samples_leaf': 7, 'max_features': 'log2'}. Best is trial 1 with value: 259.87955363770357.\n"
     ]
    },
    {
     "name": "stdout",
     "output_type": "stream",
     "text": [
      "RMSE: 16.1208, MSE: 259.8796, MAE: 12.0861, R²: 0.9814\n"
     ]
    },
    {
     "name": "stderr",
     "output_type": "stream",
     "text": [
      "[I 2024-03-22 10:28:21,102] Trial 2 finished with value: 247.2584643247486 and parameters: {'n_estimators': 180, 'max_depth': 7, 'min_samples_split': 13, 'min_samples_leaf': 9, 'max_features': 'sqrt'}. Best is trial 2 with value: 247.2584643247486.\n"
     ]
    },
    {
     "name": "stdout",
     "output_type": "stream",
     "text": [
      "RMSE: 15.7245, MSE: 247.2585, MAE: 11.7548, R²: 0.9823\n"
     ]
    },
    {
     "name": "stderr",
     "output_type": "stream",
     "text": [
      "[I 2024-03-22 10:28:32,506] Trial 3 finished with value: 365.03458292986966 and parameters: {'n_estimators': 965, 'max_depth': 3, 'min_samples_split': 9, 'min_samples_leaf': 8, 'max_features': 'log2'}. Best is trial 2 with value: 247.2584643247486.\n"
     ]
    },
    {
     "name": "stdout",
     "output_type": "stream",
     "text": [
      "RMSE: 19.1059, MSE: 365.0346, MAE: 14.8621, R²: 0.9738\n"
     ]
    },
    {
     "name": "stderr",
     "output_type": "stream",
     "text": [
      "[I 2024-03-22 10:29:09,965] Trial 4 finished with value: 247.16064717638187 and parameters: {'n_estimators': 322, 'max_depth': 7, 'min_samples_split': 11, 'min_samples_leaf': 9, 'max_features': 'sqrt'}. Best is trial 4 with value: 247.16064717638187.\n"
     ]
    },
    {
     "name": "stdout",
     "output_type": "stream",
     "text": [
      "RMSE: 15.7213, MSE: 247.1606, MAE: 11.7527, R²: 0.9823\n"
     ]
    },
    {
     "name": "stderr",
     "output_type": "stream",
     "text": [
      "[I 2024-03-22 10:30:12,308] Trial 5 finished with value: 247.0451155356149 and parameters: {'n_estimators': 537, 'max_depth': 7, 'min_samples_split': 3, 'min_samples_leaf': 10, 'max_features': 'sqrt'}. Best is trial 5 with value: 247.0451155356149.\n"
     ]
    },
    {
     "name": "stdout",
     "output_type": "stream",
     "text": [
      "RMSE: 15.7177, MSE: 247.0451, MAE: 11.7486, R²: 0.9823\n"
     ]
    },
    {
     "name": "stderr",
     "output_type": "stream",
     "text": [
      "[I 2024-03-22 10:30:24,970] Trial 6 finished with value: 312.9380557116607 and parameters: {'n_estimators': 836, 'max_depth': 4, 'min_samples_split': 4, 'min_samples_leaf': 8, 'max_features': 'log2'}. Best is trial 5 with value: 247.0451155356149.\n"
     ]
    },
    {
     "name": "stdout",
     "output_type": "stream",
     "text": [
      "RMSE: 17.6901, MSE: 312.9381, MAE: 13.5377, R²: 0.9776\n"
     ]
    },
    {
     "name": "stderr",
     "output_type": "stream",
     "text": [
      "[I 2024-03-22 10:30:48,444] Trial 7 finished with value: 245.51187210398643 and parameters: {'n_estimators': 668, 'max_depth': 10, 'min_samples_split': 13, 'min_samples_leaf': 7, 'max_features': 'log2'}. Best is trial 7 with value: 245.51187210398643.\n"
     ]
    },
    {
     "name": "stdout",
     "output_type": "stream",
     "text": [
      "RMSE: 15.6688, MSE: 245.5119, MAE: 11.7191, R²: 0.9824\n"
     ]
    },
    {
     "name": "stderr",
     "output_type": "stream",
     "text": [
      "[I 2024-03-22 10:31:03,066] Trial 8 finished with value: 290.5884300054827 and parameters: {'n_estimators': 174, 'max_depth': 5, 'min_samples_split': 12, 'min_samples_leaf': 6, 'max_features': 'sqrt'}. Best is trial 7 with value: 245.51187210398643.\n"
     ]
    },
    {
     "name": "stdout",
     "output_type": "stream",
     "text": [
      "RMSE: 17.0467, MSE: 290.5884, MAE: 12.8208, R²: 0.9792\n"
     ]
    },
    {
     "name": "stderr",
     "output_type": "stream",
     "text": [
      "[I 2024-03-22 10:31:17,999] Trial 9 finished with value: 265.0377201090495 and parameters: {'n_estimators': 148, 'max_depth': 6, 'min_samples_split': 4, 'min_samples_leaf': 2, 'max_features': 'sqrt'}. Best is trial 7 with value: 245.51187210398643.\n"
     ]
    },
    {
     "name": "stdout",
     "output_type": "stream",
     "text": [
      "RMSE: 16.2800, MSE: 265.0377, MAE: 12.1934, R²: 0.9810\n",
      "Лучшие параметры: {'n_estimators': 668, 'max_depth': 10, 'min_samples_split': 13, 'min_samples_leaf': 7, 'max_features': 'log2'}\n"
     ]
    }
   ],
   "source": [
    "# Функция, которую будем оптимизировать\n",
    "def objective(trial):\n",
    "    # Определение параметров для оптимизации\n",
    "    params = {\n",
    "        'n_estimators': trial.suggest_int('n_estimators', 100, 1000),\n",
    "        'max_depth': trial.suggest_int('max_depth', 3, 10),\n",
    "        'min_samples_split': trial.suggest_int('min_samples_split', 2, 20),\n",
    "        'min_samples_leaf': trial.suggest_int('min_samples_leaf', 1, 10),\n",
    "        'max_features': trial.suggest_categorical('max_features', ['sqrt', 'log2']),\n",
    "    }\n",
    "\n",
    "    # Создание модели RandomForestRegressor с параметрами, подобранными Optuna\n",
    "    model = RandomForestRegressor(**params, random_state=42)\n",
    "\n",
    "    # Обучение модели\n",
    "    model.fit(X_train, y_train)\n",
    "\n",
    "    # Предсказание на тестовом наборе\n",
    "    y_pred = model.predict(X_test)\n",
    "\n",
    "    # Оценка качества модели (MSE, MAE, R²)\n",
    "    mse = mean_squared_error(y_test, y_pred)\n",
    "    rmse = np.sqrt(mse)\n",
    "    mae = mean_absolute_error(y_test, y_pred)\n",
    "    r2 = r2_score(y_test, y_pred)\n",
    "    \n",
    "    # Вывод метрик\n",
    "    print(f'RMSE: {rmse:.4f}, MSE: {mse:.4f}, MAE: {mae:.4f}, R²: {r2:.4f}')\n",
    "\n",
    "    return mse\n",
    "\n",
    "# Создание объекта study для оптимизации\n",
    "study = optuna.create_study(direction='minimize')\n",
    "\n",
    "# Запуск оптимизации\n",
    "study.optimize(objective, n_trials=10)\n",
    "\n",
    "# Получение лучших параметров\n",
    "best_params = study.best_params\n",
    "print(\"Лучшие параметры:\", best_params)"
   ]
  },
  {
   "cell_type": "code",
   "execution_count": 29,
   "id": "79f30c0b-274f-4363-a161-ff6aea7e6bdb",
   "metadata": {
    "execution": {
     "iopub.execute_input": "2024-03-22T10:31:18.009127Z",
     "iopub.status.busy": "2024-03-22T10:31:18.008550Z",
     "iopub.status.idle": "2024-03-22T10:31:47.457728Z",
     "shell.execute_reply": "2024-03-22T10:31:47.457053Z",
     "shell.execute_reply.started": "2024-03-22T10:31:18.009100Z"
    },
    "tags": []
   },
   "outputs": [
    {
     "name": "stdout",
     "output_type": "stream",
     "text": [
      "Тестовые данные: RMSE: 14.7786, MSE: 218.4067, MAE: 11.1211, R²: 0.9843\n"
     ]
    }
   ],
   "source": [
    "# Создание модели с лучшими параметрами\n",
    "best_model_rf = RandomForestRegressor(**best_params, random_state=42)\n",
    "\n",
    "# Обучение модели на всех данных\n",
    "best_model_rf.fit(X, y)\n",
    "\n",
    "# Предсказание на тестовом наборе\n",
    "y_pred_test = best_model_rf.predict(X_test)\n",
    "\n",
    "# Оценка качества модели на тестовых данных (MSE, RMSE, MAE, R²)\n",
    "mse_test = mean_squared_error(y_test, y_pred_test)\n",
    "rmse_test = np.sqrt(mse_test)\n",
    "mae_test = mean_absolute_error(y_test, y_pred_test)\n",
    "r2_test = r2_score(y_test, y_pred_test)\n",
    "\n",
    "results_df_area.loc[len(results_df_area)] = ['RandomForestRegressor', best_params, rmse_test, mse_test, mae_test, r2_test]\n",
    "\n",
    "# Вывод метрик на тестовых данных\n",
    "print(f'Тестовые данные: RMSE: {rmse_test:.4f}, MSE: {mse_test:.4f}, MAE: {mae_test:.4f}, R²: {r2_test:.4f}')"
   ]
  },
  {
   "cell_type": "markdown",
   "id": "f70e2074-699b-45d1-ab97-2129fd9624bd",
   "metadata": {},
   "source": [
    "## Lightbm"
   ]
  },
  {
   "cell_type": "code",
   "execution_count": 30,
   "id": "e4d47c15-a4da-42a8-8338-e5a09c6e4e7f",
   "metadata": {
    "execution": {
     "iopub.execute_input": "2024-03-22T10:31:47.459096Z",
     "iopub.status.busy": "2024-03-22T10:31:47.458547Z",
     "iopub.status.idle": "2024-03-22T10:33:27.683211Z",
     "shell.execute_reply": "2024-03-22T10:33:27.682497Z",
     "shell.execute_reply.started": "2024-03-22T10:31:47.459074Z"
    },
    "scrolled": true,
    "tags": []
   },
   "outputs": [
    {
     "name": "stderr",
     "output_type": "stream",
     "text": [
      "[I 2024-03-22 10:31:47,462] A new study created in memory with name: no-name-f3a62e93-53ee-46cd-928d-93c8817567af\n",
      "[I 2024-03-22 10:31:58,784] Trial 0 finished with value: 238.76043278726522 and parameters: {'num_leaves': 198, 'learning_rate': 0.27022807041464103, 'max_depth': 7, 'min_child_samples': 5, 'subsample': 0.9295979202810403, 'colsample_bytree': 0.7070543559414493}. Best is trial 0 with value: 238.76043278726522.\n"
     ]
    },
    {
     "name": "stdout",
     "output_type": "stream",
     "text": [
      "RMSE: 15.4519, MSE: 238.7604, MAE: 11.4769, R²: 0.9829\n"
     ]
    },
    {
     "name": "stderr",
     "output_type": "stream",
     "text": [
      "[I 2024-03-22 10:32:06,757] Trial 1 finished with value: 225.0102175797678 and parameters: {'num_leaves': 19, 'learning_rate': 0.1215602559711876, 'max_depth': 10, 'min_child_samples': 15, 'subsample': 0.2550911330836899, 'colsample_bytree': 0.9183350504895703}. Best is trial 1 with value: 225.0102175797678.\n"
     ]
    },
    {
     "name": "stdout",
     "output_type": "stream",
     "text": [
      "RMSE: 15.0003, MSE: 225.0102, MAE: 11.2063, R²: 0.9839\n"
     ]
    },
    {
     "name": "stderr",
     "output_type": "stream",
     "text": [
      "[I 2024-03-22 10:32:21,908] Trial 2 finished with value: 1128.4407659058486 and parameters: {'num_leaves': 241, 'learning_rate': 0.013548032806232353, 'max_depth': 8, 'min_child_samples': 4, 'subsample': 0.8443427856412004, 'colsample_bytree': 0.5382061800358253}. Best is trial 1 with value: 225.0102175797678.\n"
     ]
    },
    {
     "name": "stdout",
     "output_type": "stream",
     "text": [
      "RMSE: 33.5923, MSE: 1128.4408, MAE: 25.1097, R²: 0.9191\n"
     ]
    },
    {
     "name": "stderr",
     "output_type": "stream",
     "text": [
      "[I 2024-03-22 10:32:31,156] Trial 3 finished with value: 2102.231659525115 and parameters: {'num_leaves': 49, 'learning_rate': 0.01001232293113618, 'max_depth': 5, 'min_child_samples': 7, 'subsample': 0.9247230537614671, 'colsample_bytree': 0.9403676388173672}. Best is trial 1 with value: 225.0102175797678.\n"
     ]
    },
    {
     "name": "stdout",
     "output_type": "stream",
     "text": [
      "RMSE: 45.8501, MSE: 2102.2317, MAE: 34.4317, R²: 0.8493\n"
     ]
    },
    {
     "name": "stderr",
     "output_type": "stream",
     "text": [
      "[I 2024-03-22 10:32:37,534] Trial 4 finished with value: 221.06574228015847 and parameters: {'num_leaves': 227, 'learning_rate': 0.06598713053730527, 'max_depth': 6, 'min_child_samples': 10, 'subsample': 0.11707329877299978, 'colsample_bytree': 0.38961657288317997}. Best is trial 4 with value: 221.06574228015847.\n"
     ]
    },
    {
     "name": "stdout",
     "output_type": "stream",
     "text": [
      "RMSE: 14.8683, MSE: 221.0657, MAE: 11.0825, R²: 0.9842\n"
     ]
    },
    {
     "name": "stderr",
     "output_type": "stream",
     "text": [
      "[I 2024-03-22 10:32:47,209] Trial 5 finished with value: 225.38846936460382 and parameters: {'num_leaves': 78, 'learning_rate': 0.13562079373679659, 'max_depth': 7, 'min_child_samples': 18, 'subsample': 0.4784882616291626, 'colsample_bytree': 0.6792741434624356}. Best is trial 4 with value: 221.06574228015847.\n"
     ]
    },
    {
     "name": "stdout",
     "output_type": "stream",
     "text": [
      "RMSE: 15.0129, MSE: 225.3885, MAE: 11.2076, R²: 0.9838\n"
     ]
    },
    {
     "name": "stderr",
     "output_type": "stream",
     "text": [
      "[I 2024-03-22 10:32:56,020] Trial 6 finished with value: 233.79999315562762 and parameters: {'num_leaves': 79, 'learning_rate': 0.20001648323161128, 'max_depth': 7, 'min_child_samples': 3, 'subsample': 0.5933758313888283, 'colsample_bytree': 0.5833882225773022}. Best is trial 4 with value: 221.06574228015847.\n"
     ]
    },
    {
     "name": "stdout",
     "output_type": "stream",
     "text": [
      "RMSE: 15.2905, MSE: 233.8000, MAE: 11.3568, R²: 0.9832\n"
     ]
    },
    {
     "name": "stderr",
     "output_type": "stream",
     "text": [
      "[I 2024-03-22 10:33:03,131] Trial 7 finished with value: 232.07164422063167 and parameters: {'num_leaves': 17, 'learning_rate': 0.24402492930054248, 'max_depth': 8, 'min_child_samples': 17, 'subsample': 0.5123095767994097, 'colsample_bytree': 0.9998310089090349}. Best is trial 4 with value: 221.06574228015847.\n"
     ]
    },
    {
     "name": "stdout",
     "output_type": "stream",
     "text": [
      "RMSE: 15.2339, MSE: 232.0716, MAE: 11.3257, R²: 0.9834\n"
     ]
    },
    {
     "name": "stderr",
     "output_type": "stream",
     "text": [
      "[I 2024-03-22 10:33:15,973] Trial 8 finished with value: 827.9314478492013 and parameters: {'num_leaves': 51, 'learning_rate': 0.015684034976938818, 'max_depth': 6, 'min_child_samples': 19, 'subsample': 0.8648081772435069, 'colsample_bytree': 0.9099991736301587}. Best is trial 4 with value: 221.06574228015847.\n"
     ]
    },
    {
     "name": "stdout",
     "output_type": "stream",
     "text": [
      "RMSE: 28.7738, MSE: 827.9314, MAE: 21.5283, R²: 0.9406\n"
     ]
    },
    {
     "name": "stderr",
     "output_type": "stream",
     "text": [
      "[I 2024-03-22 10:33:27,673] Trial 9 finished with value: 283.2248040391989 and parameters: {'num_leaves': 232, 'learning_rate': 0.027388709330161184, 'max_depth': 6, 'min_child_samples': 9, 'subsample': 0.5626973836365899, 'colsample_bytree': 0.8271581330698013}. Best is trial 4 with value: 221.06574228015847.\n"
     ]
    },
    {
     "name": "stdout",
     "output_type": "stream",
     "text": [
      "RMSE: 16.8293, MSE: 283.2248, MAE: 12.5388, R²: 0.9797\n",
      "Лучшие параметры: {'num_leaves': 227, 'learning_rate': 0.06598713053730527, 'max_depth': 6, 'min_child_samples': 10, 'subsample': 0.11707329877299978, 'colsample_bytree': 0.38961657288317997}\n"
     ]
    }
   ],
   "source": [
    "# Функция, которую будем оптимизировать\n",
    "def objective(trial):\n",
    "    # Определение параметров для оптимизации\n",
    "    params = {\n",
    "        'objective': 'regression',\n",
    "        'metric': 'l2',\n",
    "        'num_leaves': trial.suggest_int('num_leaves', 2, 256),\n",
    "        'learning_rate': trial.suggest_float('learning_rate', 0.01, 0.3, log=True),\n",
    "        'max_depth': trial.suggest_int('max_depth', 3, 10),\n",
    "        'min_child_samples': trial.suggest_int('min_child_samples', 1, 20),\n",
    "        'subsample': trial.suggest_float('subsample', 0.1, 1.0),\n",
    "        'colsample_bytree': trial.suggest_float('colsample_bytree', 0.1, 1.0),\n",
    "    }\n",
    "\n",
    "    # Создание модели LightGBM с параметрами, подобранными Optuna\n",
    "    model = lgb.LGBMRegressor(**params, random_state=42)\n",
    "\n",
    "    # Обучение модели\n",
    "    model.fit(X_train, y_train)\n",
    "\n",
    "    # Предсказание на тестовом наборе\n",
    "    y_pred = model.predict(X_test)\n",
    "\n",
    "    # Оценка качества модели (MSE, MAE, R²)\n",
    "    mse = mean_squared_error(y_test, y_pred)\n",
    "    rmse = np.sqrt(mse)\n",
    "    mae = mean_absolute_error(y_test, y_pred)\n",
    "    r2 = r2_score(y_test, y_pred)\n",
    "    \n",
    "    # Вывод метрик\n",
    "    print(f'RMSE: {rmse:.4f}, MSE: {mse:.4f}, MAE: {mae:.4f}, R²: {r2:.4f}')\n",
    "\n",
    "    return mse\n",
    "\n",
    "# Создание объекта study для оптимизации\n",
    "study = optuna.create_study(direction='minimize')\n",
    "\n",
    "# Запуск оптимизации\n",
    "study.optimize(objective, n_trials=10)\n",
    "\n",
    "# Получение лучших параметров\n",
    "best_params = study.best_params\n",
    "print(\"Лучшие параметры:\", best_params)"
   ]
  },
  {
   "cell_type": "code",
   "execution_count": 31,
   "id": "71dc6920-1c8d-436b-a19b-fa77414afdac",
   "metadata": {
    "execution": {
     "iopub.execute_input": "2024-03-22T10:33:27.684932Z",
     "iopub.status.busy": "2024-03-22T10:33:27.684430Z",
     "iopub.status.idle": "2024-03-22T10:33:35.589428Z",
     "shell.execute_reply": "2024-03-22T10:33:35.588707Z",
     "shell.execute_reply.started": "2024-03-22T10:33:27.684902Z"
    },
    "tags": []
   },
   "outputs": [
    {
     "name": "stdout",
     "output_type": "stream",
     "text": [
      "Тестовые данные: RMSE: 12.8145, MSE: 164.2101, MAE: 9.7753, R²: 0.9882\n"
     ]
    }
   ],
   "source": [
    "# Создание модели с лучшими параметрами\n",
    "best_model_LGBM = lgb.LGBMRegressor(**best_params, random_state=42)\n",
    "\n",
    "# Обучение модели на всех данных\n",
    "best_model_LGBM.fit(X, y)\n",
    "\n",
    "# Предсказание на тестовом наборе\n",
    "y_pred_test = best_model_LGBM.predict(X_test)\n",
    "\n",
    "# Оценка качества модели на тестовых данных (MSE, RMSE, MAE, R²)\n",
    "mse_test = mean_squared_error(y_test, y_pred_test)\n",
    "rmse_test = np.sqrt(mse_test)\n",
    "mae_test = mean_absolute_error(y_test, y_pred_test)\n",
    "r2_test = r2_score(y_test, y_pred_test)\n",
    "\n",
    "results_df_area.loc[len(results_df_area)] = ['LGBMRegressor', best_params, rmse_test, mse_test, mae_test, r2_test]\n",
    "\n",
    "# Вывод метрик на тестовых данных\n",
    "print(f'Тестовые данные: RMSE: {rmse_test:.4f}, MSE: {mse_test:.4f}, MAE: {mae_test:.4f}, R²: {r2_test:.4f}')"
   ]
  },
  {
   "cell_type": "markdown",
   "id": "d5365344-1d31-456a-9d1e-388399e7dd28",
   "metadata": {},
   "source": [
    "## Нейронная сеть"
   ]
  },
  {
   "cell_type": "code",
   "execution_count": null,
   "id": "385c3ac1-9a1f-4c0a-8094-dd436c89225d",
   "metadata": {
    "execution": {
     "iopub.execute_input": "2024-03-22T10:33:35.591165Z",
     "iopub.status.busy": "2024-03-22T10:33:35.590552Z",
     "iopub.status.idle": "2024-03-22T10:55:05.980434Z"
    },
    "tags": []
   },
   "outputs": [
    {
     "name": "stderr",
     "output_type": "stream",
     "text": [
      "[I 2024-03-22 10:33:35,596] A new study created in memory with name: no-name-e35ef435-b835-4632-a339-de70ab0704a8\n",
      "2024-03-22 10:33:35.715421: E tensorflow/compiler/xla/stream_executor/cuda/cuda_driver.cc:266] failed call to cuInit: CUDA_ERROR_NO_DEVICE: no CUDA-capable device is detected\n"
     ]
    },
    {
     "name": "stdout",
     "output_type": "stream",
     "text": [
      "258/258 [==============================] - 1s 1ms/step\n"
     ]
    },
    {
     "name": "stderr",
     "output_type": "stream",
     "text": [
      "[I 2024-03-22 10:35:32,840] Trial 0 finished with value: 357.1737183456558 and parameters: {'num_layers': 3, 'n_units_layer0': 105, 'n_units_layer1': 355, 'n_units_layer2': 168, 'learning_rate': 0.0003650059281596848}. Best is trial 0 with value: 357.1737183456558.\n"
     ]
    },
    {
     "name": "stdout",
     "output_type": "stream",
     "text": [
      "RMSE: 18.8990, MSE: 357.1737, MAE: 13.9607, R²: 0.9744\n",
      "258/258 [==============================] - 0s 2ms/step\n"
     ]
    },
    {
     "name": "stderr",
     "output_type": "stream",
     "text": [
      "[I 2024-03-22 10:38:07,015] Trial 1 finished with value: 374.181202226502 and parameters: {'num_layers': 3, 'n_units_layer0': 237, 'n_units_layer1': 485, 'n_units_layer2': 67, 'learning_rate': 7.334613365829634e-05}. Best is trial 0 with value: 357.1737183456558.\n"
     ]
    },
    {
     "name": "stdout",
     "output_type": "stream",
     "text": [
      "RMSE: 19.3438, MSE: 374.1812, MAE: 14.3503, R²: 0.9732\n",
      "258/258 [==============================] - 0s 2ms/step\n"
     ]
    },
    {
     "name": "stderr",
     "output_type": "stream",
     "text": [
      "[I 2024-03-22 10:40:51,641] Trial 2 finished with value: 322.61258253458027 and parameters: {'num_layers': 5, 'n_units_layer0': 319, 'n_units_layer1': 271, 'n_units_layer2': 389, 'n_units_layer3': 216, 'n_units_layer4': 58, 'learning_rate': 1.2159741514614173e-05}. Best is trial 2 with value: 322.61258253458027.\n"
     ]
    },
    {
     "name": "stdout",
     "output_type": "stream",
     "text": [
      "RMSE: 17.9614, MSE: 322.6126, MAE: 13.5773, R²: 0.9769\n",
      "258/258 [==============================] - 0s 2ms/step\n"
     ]
    },
    {
     "name": "stderr",
     "output_type": "stream",
     "text": [
      "[I 2024-03-22 10:43:42,028] Trial 3 finished with value: 417.93490359016056 and parameters: {'num_layers': 5, 'n_units_layer0': 334, 'n_units_layer1': 92, 'n_units_layer2': 269, 'n_units_layer3': 291, 'n_units_layer4': 479, 'learning_rate': 0.03268508150490041}. Best is trial 2 with value: 322.61258253458027.\n"
     ]
    },
    {
     "name": "stdout",
     "output_type": "stream",
     "text": [
      "RMSE: 20.4435, MSE: 417.9349, MAE: 15.3108, R²: 0.9700\n",
      "258/258 [==============================] - 0s 1ms/step\n"
     ]
    },
    {
     "name": "stderr",
     "output_type": "stream",
     "text": [
      "[I 2024-03-22 10:45:59,255] Trial 4 finished with value: 378.6468975616926 and parameters: {'num_layers': 4, 'n_units_layer0': 280, 'n_units_layer1': 511, 'n_units_layer2': 4, 'n_units_layer3': 3, 'learning_rate': 0.0004900339222538403}. Best is trial 2 with value: 322.61258253458027.\n"
     ]
    },
    {
     "name": "stdout",
     "output_type": "stream",
     "text": [
      "RMSE: 19.4589, MSE: 378.6469, MAE: 14.3769, R²: 0.9729\n",
      "258/258 [==============================] - 0s 1ms/step\n"
     ]
    },
    {
     "name": "stderr",
     "output_type": "stream",
     "text": [
      "[I 2024-03-22 10:47:58,218] Trial 5 finished with value: 323.9862061829642 and parameters: {'num_layers': 2, 'n_units_layer0': 154, 'n_units_layer1': 352, 'learning_rate': 0.004004843595604566}. Best is trial 2 with value: 322.61258253458027.\n"
     ]
    },
    {
     "name": "stdout",
     "output_type": "stream",
     "text": [
      "RMSE: 17.9996, MSE: 323.9862, MAE: 13.6629, R²: 0.9768\n",
      "258/258 [==============================] - 0s 1ms/step\n"
     ]
    },
    {
     "name": "stderr",
     "output_type": "stream",
     "text": [
      "[I 2024-03-22 10:49:48,378] Trial 6 finished with value: 319.3688410093157 and parameters: {'num_layers': 1, 'n_units_layer0': 351, 'learning_rate': 0.009015803458072524}. Best is trial 6 with value: 319.3688410093157.\n"
     ]
    },
    {
     "name": "stdout",
     "output_type": "stream",
     "text": [
      "RMSE: 17.8709, MSE: 319.3688, MAE: 13.4715, R²: 0.9771\n",
      "258/258 [==============================] - 0s 1ms/step\n"
     ]
    },
    {
     "name": "stderr",
     "output_type": "stream",
     "text": [
      "[I 2024-03-22 10:51:39,855] Trial 7 finished with value: 384.2288565646409 and parameters: {'num_layers': 2, 'n_units_layer0': 133, 'n_units_layer1': 225, 'learning_rate': 5.366310979549639e-05}. Best is trial 6 with value: 319.3688410093157.\n"
     ]
    },
    {
     "name": "stdout",
     "output_type": "stream",
     "text": [
      "RMSE: 19.6018, MSE: 384.2289, MAE: 14.2493, R²: 0.9725\n",
      "258/258 [==============================] - 0s 1ms/step\n"
     ]
    },
    {
     "name": "stderr",
     "output_type": "stream",
     "text": [
      "[I 2024-03-22 10:53:30,168] Trial 8 finished with value: 327.9120982688521 and parameters: {'num_layers': 1, 'n_units_layer0': 334, 'learning_rate': 0.0017738503870265102}. Best is trial 6 with value: 319.3688410093157.\n"
     ]
    },
    {
     "name": "stdout",
     "output_type": "stream",
     "text": [
      "RMSE: 18.1083, MSE: 327.9121, MAE: 13.5467, R²: 0.9765\n",
      "258/258 [==============================] - 0s 1ms/step\n"
     ]
    },
    {
     "name": "stderr",
     "output_type": "stream",
     "text": [
      "[I 2024-03-22 10:55:05,954] Trial 9 finished with value: 359.4700744432019 and parameters: {'num_layers': 2, 'n_units_layer0': 83, 'n_units_layer1': 202, 'learning_rate': 6.061747905832458e-05}. Best is trial 6 with value: 319.3688410093157.\n"
     ]
    },
    {
     "name": "stdout",
     "output_type": "stream",
     "text": [
      "RMSE: 18.9597, MSE: 359.4701, MAE: 14.0359, R²: 0.9742\n",
      "Лучшие параметры: {'num_layers': 1, 'n_units_layer0': 351, 'learning_rate': 0.009015803458072524}\n"
     ]
    }
   ],
   "source": [
    "# Функция, которую будем оптимизировать\n",
    "def objective(trial):\n",
    "    # Определение параметров для оптимизации\n",
    "    num_layers = trial.suggest_int('num_layers', 1, 5)\n",
    "    num_units = [trial.suggest_int(f'n_units_layer{i}', 2, 512) for i in range(num_layers)]\n",
    "    learning_rate = trial.suggest_float('learning_rate', 1e-5, 1e-1, log=True)\n",
    "\n",
    "    # Создание модели нейронной сети\n",
    "    model = tf.keras.Sequential()\n",
    "    for i in range(num_layers):\n",
    "        if i == 0:\n",
    "            model.add(tf.keras.layers.Dense(num_units[i], activation='relu', input_shape=(X_train.shape[1],)))\n",
    "        else:\n",
    "            model.add(tf.keras.layers.Dense(num_units[i], activation='relu'))\n",
    "    model.add(tf.keras.layers.Dense(1))  # Выходной слой без активации для регрессии\n",
    "\n",
    "    # Компиляция модели с оптимизатором, функцией потерь и метрикой\n",
    "    model.compile(optimizer=tf.keras.optimizers.legacy.Adam(learning_rate=best_params['learning_rate']),\n",
    "                   loss='mean_squared_error')\n",
    "\n",
    "    # Обучение модели\n",
    "    model.fit(X_train, y_train, epochs=50, batch_size=32, verbose=0)  # Можно настраивать параметры обучения здесь\n",
    "\n",
    "    # Предсказание на тестовом наборе\n",
    "    y_pred = model.predict(X_test).flatten()\n",
    "\n",
    "    # Оценка качества модели (MSE, MAE, R²)\n",
    "    mse = mean_squared_error(y_test, y_pred)\n",
    "    rmse = np.sqrt(mse)\n",
    "    mae = mean_absolute_error(y_test, y_pred)\n",
    "    r2 = r2_score(y_test, y_pred)\n",
    "\n",
    "    # Вывод метрик\n",
    "    print(f'RMSE: {rmse:.4f}, MSE: {mse:.4f}, MAE: {mae:.4f}, R²: {r2:.4f}')\n",
    "\n",
    "    return mse\n",
    "\n",
    "# Создание объекта study для оптимизации\n",
    "study = optuna.create_study(direction='minimize')\n",
    "\n",
    "# Запуск оптимизации\n",
    "study.optimize(objective, n_trials=10)\n",
    "\n",
    "# Получение лучших параметров\n",
    "best_params = study.best_params\n",
    "print(\"Лучшие параметры:\", best_params)"
   ]
  },
  {
   "cell_type": "code",
   "execution_count": null,
   "id": "cc94aa8d-bda0-4512-ae2a-b26682ce825f",
   "metadata": {
    "execution": {
     "iopub.execute_input": "2024-03-22T10:55:05.982908Z",
     "iopub.status.busy": "2024-03-22T10:55:05.982326Z",
     "iopub.status.idle": "2024-03-22T10:57:24.091059Z"
    },
    "tags": []
   },
   "outputs": [
    {
     "name": "stdout",
     "output_type": "stream",
     "text": [
      "258/258 [==============================] - 0s 1ms/step\n",
      "Тестовые данные: RMSE: 17.4324, MSE: 303.8900, MAE: 13.0887, R²: 0.9782\n"
     ]
    }
   ],
   "source": [
    "# Создание модели с лучшими параметрами\n",
    "best_model_nn = tf.keras.Sequential()\n",
    "for i in range(best_params['num_layers']):\n",
    "    if i == 0:\n",
    "        best_model_nn.add(tf.keras.layers.Dense(best_params[f'n_units_layer{i}'], activation='relu', input_shape=(X.shape[1],)))\n",
    "    else:\n",
    "        best_model_nn.add(tf.keras.layers.Dense(best_params[f'n_units_layer{i}'], activation='relu'))\n",
    "best_model_nn.add(tf.keras.layers.Dense(1))  # Выходной слой без активации для регрессии\n",
    "\n",
    "# Компиляция модели с оптимальными гиперпараметрами\n",
    "best_model_nn.compile(optimizer=tf.keras.optimizers.legacy.Adam(learning_rate=best_params['learning_rate']),\n",
    "                   loss='mean_squared_error')\n",
    "\n",
    "# Обучение модели на всех данных\n",
    "best_model_nn.fit(X, y, epochs=50, batch_size=32, verbose=0)  # Можно настраивать параметры обучения здесь\n",
    "\n",
    "# Предсказание на тестовом наборе\n",
    "y_pred_test = best_model_nn.predict(X_test).flatten()\n",
    "\n",
    "# Оценка качества модели на тестовых данных (MSE, RMSE, MAE, R²)\n",
    "mse_test = mean_squared_error(y_test, y_pred_test)\n",
    "rmse_test = np.sqrt(mse_test)\n",
    "mae_test = mean_absolute_error(y_test, y_pred_test)\n",
    "r2_test = r2_score(y_test, y_pred_test)\n",
    "\n",
    "results_df_area.loc[len(results_df_area)] = ['NeuralNetwork', best_params, rmse_test, mse_test, mae_test, r2_test]\n",
    "\n",
    "# Вывод метрик на тестовых данных\n",
    "print(f'Тестовые данные: RMSE: {rmse_test:.4f}, MSE: {mse_test:.4f}, MAE: {mae_test:.4f}, R²: {r2_test:.4f}')"
   ]
  },
  {
   "cell_type": "markdown",
   "id": "b1bee58d-b4c5-42be-9035-02737132e63f",
   "metadata": {},
   "source": [
    "## Изучение итогов обучения моделей для предсказания площади. Выбор наилучшей модели. Импорт модели."
   ]
  },
  {
   "cell_type": "code",
   "execution_count": null,
   "id": "32b3f4fd-e954-4c4f-9aa5-2bf88576709b",
   "metadata": {
    "execution": {
     "iopub.execute_input": "2024-03-22T10:57:24.092794Z",
     "iopub.status.busy": "2024-03-22T10:57:24.092347Z",
     "iopub.status.idle": "2024-03-22T10:57:24.116937Z"
    },
    "tags": []
   },
   "outputs": [
    {
     "data": {
      "text/html": [
       "<div>\n",
       "<style scoped>\n",
       "    .dataframe tbody tr th:only-of-type {\n",
       "        vertical-align: middle;\n",
       "    }\n",
       "\n",
       "    .dataframe tbody tr th {\n",
       "        vertical-align: top;\n",
       "    }\n",
       "\n",
       "    .dataframe thead th {\n",
       "        text-align: right;\n",
       "    }\n",
       "</style>\n",
       "<table border=\"1\" class=\"dataframe\">\n",
       "  <thead>\n",
       "    <tr style=\"text-align: right;\">\n",
       "      <th></th>\n",
       "      <th>Model</th>\n",
       "      <th>Parameters</th>\n",
       "      <th>RMSE</th>\n",
       "      <th>MSE</th>\n",
       "      <th>MAE</th>\n",
       "      <th>R²</th>\n",
       "    </tr>\n",
       "  </thead>\n",
       "  <tbody>\n",
       "    <tr>\n",
       "      <th>0</th>\n",
       "      <td>CatBoost</td>\n",
       "      <td>{'iterations': 674, 'learning_rate': 0.0561952...</td>\n",
       "      <td>10.121042</td>\n",
       "      <td>102.435498</td>\n",
       "      <td>7.785288</td>\n",
       "      <td>0.992657</td>\n",
       "    </tr>\n",
       "    <tr>\n",
       "      <th>1</th>\n",
       "      <td>RandomForestRegressor</td>\n",
       "      <td>{'n_estimators': 668, 'max_depth': 10, 'min_sa...</td>\n",
       "      <td>14.778590</td>\n",
       "      <td>218.406723</td>\n",
       "      <td>11.121083</td>\n",
       "      <td>0.984344</td>\n",
       "    </tr>\n",
       "    <tr>\n",
       "      <th>2</th>\n",
       "      <td>LGBMRegressor</td>\n",
       "      <td>{'num_leaves': 227, 'learning_rate': 0.0659871...</td>\n",
       "      <td>12.814450</td>\n",
       "      <td>164.210129</td>\n",
       "      <td>9.775327</td>\n",
       "      <td>0.988229</td>\n",
       "    </tr>\n",
       "    <tr>\n",
       "      <th>3</th>\n",
       "      <td>NeuralNetwork</td>\n",
       "      <td>{'num_layers': 1, 'n_units_layer0': 351, 'lear...</td>\n",
       "      <td>17.432440</td>\n",
       "      <td>303.889973</td>\n",
       "      <td>13.088670</td>\n",
       "      <td>0.978216</td>\n",
       "    </tr>\n",
       "  </tbody>\n",
       "</table>\n",
       "</div>"
      ],
      "text/plain": [
       "                   Model  ...        R²\n",
       "0               CatBoost  ...  0.992657\n",
       "1  RandomForestRegressor  ...  0.984344\n",
       "2          LGBMRegressor  ...  0.988229\n",
       "3          NeuralNetwork  ...  0.978216\n",
       "\n",
       "[4 rows x 6 columns]"
      ]
     },
     "execution_count": 34,
     "metadata": {},
     "output_type": "execute_result"
    }
   ],
   "source": [
    "results_df_area"
   ]
  },
  {
   "cell_type": "markdown",
   "id": "604afd41-6a88-4ab7-9be0-1af75bf8411e",
   "metadata": {},
   "source": [
    "Отсортируем таблицу по метрике MAE, вычислив название самой подходящей модели"
   ]
  },
  {
   "cell_type": "code",
   "execution_count": null,
   "id": "adb09398-6f2a-4840-bbc3-4a15d27429e9",
   "metadata": {
    "execution": {
     "iopub.execute_input": "2024-03-22T10:57:24.118089Z",
     "iopub.status.busy": "2024-03-22T10:57:24.117668Z",
     "iopub.status.idle": "2024-03-22T10:57:24.137609Z"
    },
    "tags": []
   },
   "outputs": [
    {
     "data": {
      "text/html": [
       "<div>\n",
       "<style scoped>\n",
       "    .dataframe tbody tr th:only-of-type {\n",
       "        vertical-align: middle;\n",
       "    }\n",
       "\n",
       "    .dataframe tbody tr th {\n",
       "        vertical-align: top;\n",
       "    }\n",
       "\n",
       "    .dataframe thead th {\n",
       "        text-align: right;\n",
       "    }\n",
       "</style>\n",
       "<table border=\"1\" class=\"dataframe\">\n",
       "  <thead>\n",
       "    <tr style=\"text-align: right;\">\n",
       "      <th></th>\n",
       "      <th>Model</th>\n",
       "      <th>Parameters</th>\n",
       "      <th>RMSE</th>\n",
       "      <th>MSE</th>\n",
       "      <th>MAE</th>\n",
       "      <th>R²</th>\n",
       "    </tr>\n",
       "  </thead>\n",
       "  <tbody>\n",
       "    <tr>\n",
       "      <th>0</th>\n",
       "      <td>CatBoost</td>\n",
       "      <td>{'iterations': 674, 'learning_rate': 0.0561952...</td>\n",
       "      <td>10.121042</td>\n",
       "      <td>102.435498</td>\n",
       "      <td>7.785288</td>\n",
       "      <td>0.992657</td>\n",
       "    </tr>\n",
       "    <tr>\n",
       "      <th>1</th>\n",
       "      <td>LGBMRegressor</td>\n",
       "      <td>{'num_leaves': 227, 'learning_rate': 0.0659871...</td>\n",
       "      <td>12.814450</td>\n",
       "      <td>164.210129</td>\n",
       "      <td>9.775327</td>\n",
       "      <td>0.988229</td>\n",
       "    </tr>\n",
       "    <tr>\n",
       "      <th>2</th>\n",
       "      <td>RandomForestRegressor</td>\n",
       "      <td>{'n_estimators': 668, 'max_depth': 10, 'min_sa...</td>\n",
       "      <td>14.778590</td>\n",
       "      <td>218.406723</td>\n",
       "      <td>11.121083</td>\n",
       "      <td>0.984344</td>\n",
       "    </tr>\n",
       "    <tr>\n",
       "      <th>3</th>\n",
       "      <td>NeuralNetwork</td>\n",
       "      <td>{'num_layers': 1, 'n_units_layer0': 351, 'lear...</td>\n",
       "      <td>17.432440</td>\n",
       "      <td>303.889973</td>\n",
       "      <td>13.088670</td>\n",
       "      <td>0.978216</td>\n",
       "    </tr>\n",
       "  </tbody>\n",
       "</table>\n",
       "</div>"
      ],
      "text/plain": [
       "                   Model  ...        R²\n",
       "0               CatBoost  ...  0.992657\n",
       "1          LGBMRegressor  ...  0.988229\n",
       "2  RandomForestRegressor  ...  0.984344\n",
       "3          NeuralNetwork  ...  0.978216\n",
       "\n",
       "[4 rows x 6 columns]"
      ]
     },
     "execution_count": 35,
     "metadata": {},
     "output_type": "execute_result"
    }
   ],
   "source": [
    "results_df_area.sort_values(by = 'MAE', inplace = True)\n",
    "results_df_area.reset_index(drop=True, inplace = True)\n",
    "results_df_area"
   ]
  },
  {
   "cell_type": "code",
   "execution_count": null,
   "id": "31e1eb56-b5c9-40ae-8322-d6a1a6478e12",
   "metadata": {
    "execution": {
     "iopub.execute_input": "2024-03-22T10:57:24.138711Z",
     "iopub.status.busy": "2024-03-22T10:57:24.138343Z",
     "iopub.status.idle": "2024-03-22T10:57:24.147146Z"
    },
    "tags": []
   },
   "outputs": [
    {
     "data": {
      "text/plain": [
       "'CatBoost'"
      ]
     },
     "execution_count": 36,
     "metadata": {},
     "output_type": "execute_result"
    }
   ],
   "source": [
    "model_name = results_df_area['Model'][0]\n",
    "model_name"
   ]
  },
  {
   "cell_type": "code",
   "execution_count": null,
   "id": "c7759d8c-b402-48dd-83a8-176f1a27fcc8",
   "metadata": {
    "execution": {
     "iopub.execute_input": "2024-03-22T10:57:24.151451Z",
     "iopub.status.busy": "2024-03-22T10:57:24.151071Z",
     "iopub.status.idle": "2024-03-22T10:57:24.285285Z"
    },
    "tags": []
   },
   "outputs": [],
   "source": [
    "# Сохраняем модель в файл trained_model_area.pkl\n",
    "if model_name == 'LGBMRegressor':\n",
    "    joblib.dump(best_model_LGBM, 'trained_model_area.pkl')\n",
    "elif model_name == 'CatBoost':\n",
    "    joblib.dump(best_model_cb, 'trained_model_area.pkl')\n",
    "elif model_name == 'RandomForest':\n",
    "    joblib.dump(best_model_rf, 'trained_model_area.pkl')\n",
    "else:\n",
    "    joblib.dump(best_model_nn, 'trained_model_area.pkl')"
   ]
  },
  {
   "cell_type": "markdown",
   "id": "5780e6e5-1e18-41d1-a85f-adb1e10720a5",
   "metadata": {},
   "source": [
    "# Обучение моделей для предсказания параметра 'Delay'"
   ]
  },
  {
   "cell_type": "markdown",
   "id": "6e5ab83a-739b-494e-8df4-faa7a824ba0d",
   "metadata": {},
   "source": [
    "## Подготовим данные"
   ]
  },
  {
   "cell_type": "markdown",
   "id": "652365fe-09e1-4332-838e-a8c75dd7d38d",
   "metadata": {},
   "source": [
    "Далее, разделим данные на X - матрица объекты-признаки и y - указания учителя  "
   ]
  },
  {
   "cell_type": "code",
   "execution_count": 48,
   "id": "3af69d33-f2f5-434c-9a6f-562bc5ea1082",
   "metadata": {
    "execution": {
     "iopub.execute_input": "2024-03-22T11:25:17.748958Z",
     "iopub.status.busy": "2024-03-22T11:25:17.748313Z",
     "iopub.status.idle": "2024-03-22T11:25:17.763360Z",
     "shell.execute_reply": "2024-03-22T11:25:17.762757Z",
     "shell.execute_reply.started": "2024-03-22T11:25:17.748924Z"
    },
    "tags": []
   },
   "outputs": [],
   "source": [
    "X1 = tmp\n",
    "y1 = data['Delay']"
   ]
  },
  {
   "cell_type": "markdown",
   "id": "2f26fa00-71b9-4b6f-a10a-08acb23f472b",
   "metadata": {},
   "source": [
    "Разделим данные на тренировочные и тестовые"
   ]
  },
  {
   "cell_type": "code",
   "execution_count": 49,
   "id": "ed671a85-b4b2-4fad-8878-7d9a9d1c419d",
   "metadata": {
    "execution": {
     "iopub.execute_input": "2024-03-22T11:25:19.877206Z",
     "iopub.status.busy": "2024-03-22T11:25:19.876601Z",
     "iopub.status.idle": "2024-03-22T11:25:20.512097Z",
     "shell.execute_reply": "2024-03-22T11:25:20.511399Z",
     "shell.execute_reply.started": "2024-03-22T11:25:19.877178Z"
    },
    "tags": []
   },
   "outputs": [],
   "source": [
    "X1_train, X1_test, y1_train, y1_test = train_test_split(X1, y1, test_size=0.20, random_state=42)"
   ]
  },
  {
   "cell_type": "markdown",
   "id": "0f05f878-fce3-4775-89ea-daba6f2829cc",
   "metadata": {},
   "source": [
    "Создадим DataFrame в котором будем хранить информацию о результатах для каждой модели"
   ]
  },
  {
   "cell_type": "code",
   "execution_count": 50,
   "id": "924ddef9-d727-41c8-a823-cd627c577e09",
   "metadata": {
    "execution": {
     "iopub.execute_input": "2024-03-22T11:25:20.616014Z",
     "iopub.status.busy": "2024-03-22T11:25:20.615453Z",
     "iopub.status.idle": "2024-03-22T11:25:20.626722Z",
     "shell.execute_reply": "2024-03-22T11:25:20.626133Z",
     "shell.execute_reply.started": "2024-03-22T11:25:20.615986Z"
    },
    "tags": []
   },
   "outputs": [],
   "source": [
    "results_df_delay = pd.DataFrame(columns=['Model', 'Parameters', 'RMSE', 'MSE', 'MAE', 'R²'])"
   ]
  },
  {
   "cell_type": "markdown",
   "id": "f6f5e337-a54b-4efc-a06d-4cb3986363b4",
   "metadata": {
    "jp-MarkdownHeadingCollapsed": true
   },
   "source": [
    "### Выбор, настройка и обучение моделей"
   ]
  },
  {
   "cell_type": "markdown",
   "id": "aa26486b-5470-420f-b19a-ad28b1c45c3f",
   "metadata": {},
   "source": [
    "## CatBoost"
   ]
  },
  {
   "cell_type": "code",
   "execution_count": 51,
   "id": "1c534d76-4132-4525-8433-3f6885509999",
   "metadata": {
    "execution": {
     "iopub.execute_input": "2024-03-22T11:25:22.820881Z",
     "iopub.status.busy": "2024-03-22T11:25:22.820172Z",
     "iopub.status.idle": "2024-03-22T11:38:36.184988Z",
     "shell.execute_reply": "2024-03-22T11:38:36.184068Z",
     "shell.execute_reply.started": "2024-03-22T11:25:22.820851Z"
    },
    "tags": []
   },
   "outputs": [
    {
     "name": "stderr",
     "output_type": "stream",
     "text": [
      "[I 2024-03-22 11:25:22,825] A new study created in memory with name: no-name-b4326f15-3c5f-4357-89d2-f18e0326ebfa\n",
      "[I 2024-03-22 11:25:43,207] Trial 0 finished with value: 4810.5120362597 and parameters: {'iterations': 138, 'learning_rate': 0.02722734509998199, 'depth': 8, 'l2_leaf_reg': 2.8896701208014024}. Best is trial 0 with value: 4810.5120362597.\n"
     ]
    },
    {
     "name": "stdout",
     "output_type": "stream",
     "text": [
      "RMSE: 69.3579, MSE: 4810.5120, MAE: 53.7692, R²: 0.8624\n"
     ]
    },
    {
     "name": "stderr",
     "output_type": "stream",
     "text": [
      "[I 2024-03-22 11:26:09,542] Trial 1 finished with value: 4826.531681956305 and parameters: {'iterations': 893, 'learning_rate': 0.22755186524144488, 'depth': 4, 'l2_leaf_reg': 0.3171078775731618}. Best is trial 0 with value: 4810.5120362597.\n"
     ]
    },
    {
     "name": "stdout",
     "output_type": "stream",
     "text": [
      "RMSE: 69.4732, MSE: 4826.5317, MAE: 53.7164, R²: 0.8619\n"
     ]
    },
    {
     "name": "stderr",
     "output_type": "stream",
     "text": [
      "[I 2024-03-22 11:26:27,121] Trial 2 finished with value: 4755.834102852572 and parameters: {'iterations': 529, 'learning_rate': 0.014538090616375137, 'depth': 4, 'l2_leaf_reg': 0.26051983738252105}. Best is trial 2 with value: 4755.834102852572.\n"
     ]
    },
    {
     "name": "stdout",
     "output_type": "stream",
     "text": [
      "RMSE: 68.9626, MSE: 4755.8341, MAE: 53.4263, R²: 0.8639\n"
     ]
    },
    {
     "name": "stderr",
     "output_type": "stream",
     "text": [
      "[I 2024-03-22 11:28:14,498] Trial 3 finished with value: 4654.763504759869 and parameters: {'iterations': 789, 'learning_rate': 0.013233265484731882, 'depth': 8, 'l2_leaf_reg': 1.8989850225829255}. Best is trial 3 with value: 4654.763504759869.\n"
     ]
    },
    {
     "name": "stdout",
     "output_type": "stream",
     "text": [
      "RMSE: 68.2258, MSE: 4654.7635, MAE: 52.6846, R²: 0.8668\n"
     ]
    },
    {
     "name": "stderr",
     "output_type": "stream",
     "text": [
      "[I 2024-03-22 11:28:49,288] Trial 4 finished with value: 4841.39470794458 and parameters: {'iterations': 143, 'learning_rate': 0.23065569305243644, 'depth': 9, 'l2_leaf_reg': 1.0053937502536001}. Best is trial 3 with value: 4654.763504759869.\n"
     ]
    },
    {
     "name": "stdout",
     "output_type": "stream",
     "text": [
      "RMSE: 69.5801, MSE: 4841.3947, MAE: 53.7230, R²: 0.8615\n"
     ]
    },
    {
     "name": "stderr",
     "output_type": "stream",
     "text": [
      "[I 2024-03-22 11:32:50,854] Trial 5 finished with value: 4630.1693762978975 and parameters: {'iterations': 614, 'learning_rate': 0.02063449842342885, 'depth': 10, 'l2_leaf_reg': 0.2184136902888949}. Best is trial 5 with value: 4630.1693762978975.\n"
     ]
    },
    {
     "name": "stdout",
     "output_type": "stream",
     "text": [
      "RMSE: 68.0453, MSE: 4630.1694, MAE: 52.4556, R²: 0.8675\n"
     ]
    },
    {
     "name": "stderr",
     "output_type": "stream",
     "text": [
      "[I 2024-03-22 11:33:18,752] Trial 6 finished with value: 4687.624520701429 and parameters: {'iterations': 697, 'learning_rate': 0.02502173745958072, 'depth': 5, 'l2_leaf_reg': 1.1306472797041025}. Best is trial 5 with value: 4630.1693762978975.\n"
     ]
    },
    {
     "name": "stdout",
     "output_type": "stream",
     "text": [
      "RMSE: 68.4662, MSE: 4687.6245, MAE: 52.8947, R²: 0.8659\n"
     ]
    },
    {
     "name": "stderr",
     "output_type": "stream",
     "text": [
      "[I 2024-03-22 11:33:39,206] Trial 7 finished with value: 4737.1469771168295 and parameters: {'iterations': 377, 'learning_rate': 0.1543762571299677, 'depth': 6, 'l2_leaf_reg': 4.794323094863063}. Best is trial 5 with value: 4630.1693762978975.\n"
     ]
    },
    {
     "name": "stdout",
     "output_type": "stream",
     "text": [
      "RMSE: 68.8269, MSE: 4737.1470, MAE: 53.1476, R²: 0.8645\n"
     ]
    },
    {
     "name": "stderr",
     "output_type": "stream",
     "text": [
      "[I 2024-03-22 11:34:52,329] Trial 8 finished with value: 4651.454906374738 and parameters: {'iterations': 890, 'learning_rate': 0.018436226786036368, 'depth': 7, 'l2_leaf_reg': 0.48891761066576506}. Best is trial 5 with value: 4630.1693762978975.\n"
     ]
    },
    {
     "name": "stdout",
     "output_type": "stream",
     "text": [
      "RMSE: 68.2016, MSE: 4651.4549, MAE: 52.6154, R²: 0.8669\n"
     ]
    },
    {
     "name": "stderr",
     "output_type": "stream",
     "text": [
      "[I 2024-03-22 11:38:36,175] Trial 9 finished with value: 4658.812476838294 and parameters: {'iterations': 571, 'learning_rate': 0.053377402882101285, 'depth': 10, 'l2_leaf_reg': 0.2384773409724871}. Best is trial 5 with value: 4630.1693762978975.\n"
     ]
    },
    {
     "name": "stdout",
     "output_type": "stream",
     "text": [
      "RMSE: 68.2555, MSE: 4658.8125, MAE: 52.7082, R²: 0.8667\n",
      "Лучшие параметры: {'iterations': 614, 'learning_rate': 0.02063449842342885, 'depth': 10, 'l2_leaf_reg': 0.2184136902888949}\n"
     ]
    }
   ],
   "source": [
    "# Функция, которую будем оптимизировать\n",
    "def objective(trial):\n",
    "    # Определение параметров для оптимизации\n",
    "    params = {\n",
    "        'iterations': trial.suggest_int('iterations', 100, 1000),\n",
    "        'learning_rate': trial.suggest_float('learning_rate', 0.01, 0.3, log=True),\n",
    "        'depth': trial.suggest_int('depth', 4, 10),\n",
    "        'l2_leaf_reg': trial.suggest_float('l2_leaf_reg', 0.1, 10.0, log=True),\n",
    "    }\n",
    "\n",
    "    # Создание модели CatBoostRegressor с параметрами, подобранными Optuna\n",
    "    model = CatBoostRegressor(**params, loss_function='RMSE', verbose=False)\n",
    "\n",
    "    # Обучение модели\n",
    "    model.fit(X1_train, y1_train, eval_set=(X1_test, y1_test))\n",
    "\n",
    "    # Предсказание на тестовом наборе\n",
    "    y1_pred = model.predict(X1_test)\n",
    "\n",
    "    # Оценка качества модели (MSE, MAE, R²)\n",
    "    mse = mean_squared_error(y1_test, y1_pred)\n",
    "    rmse = np.sqrt(mse)\n",
    "    mae = mean_absolute_error(y1_test, y1_pred)\n",
    "    r2 = r2_score(y1_test, y1_pred)\n",
    "    \n",
    "    # Вывод метрик\n",
    "    print(f'RMSE: {rmse:.4f}, MSE: {mse:.4f}, MAE: {mae:.4f}, R²: {r2:.4f}')\n",
    "\n",
    "    return mse\n",
    "\n",
    "# Создание объекта study для оптимизации\n",
    "study = optuna.create_study(direction='minimize')\n",
    "\n",
    "# Запуск оптимизации\n",
    "study.optimize(objective, n_trials=10)\n",
    "\n",
    "# Получение лучших параметров\n",
    "best_params = study.best_params\n",
    "print(\"Лучшие параметры:\", best_params)"
   ]
  },
  {
   "cell_type": "code",
   "execution_count": 52,
   "id": "cda51b6c-09fa-48fc-8fa9-32657f7412d3",
   "metadata": {
    "execution": {
     "iopub.execute_input": "2024-03-22T11:38:36.187113Z",
     "iopub.status.busy": "2024-03-22T11:38:36.186513Z",
     "iopub.status.idle": "2024-03-22T11:43:00.157542Z",
     "shell.execute_reply": "2024-03-22T11:43:00.156582Z",
     "shell.execute_reply.started": "2024-03-22T11:38:36.187082Z"
    },
    "tags": []
   },
   "outputs": [
    {
     "name": "stdout",
     "output_type": "stream",
     "text": [
      "Тестовые данные: RMSE: 58.0974, MSE: 3375.3105, MAE: 45.0150, R²: 0.9034\n"
     ]
    }
   ],
   "source": [
    "# Создание модели с лучшими параметрами\n",
    "best_model_cb1 = CatBoostRegressor(**best_params, loss_function='RMSE', verbose=False)\n",
    "\n",
    "# Обучение модели на всех данных\n",
    "best_model_cb1.fit(X1, y1)\n",
    "\n",
    "# Предсказание на тестовом наборе\n",
    "y1_pred_test = best_model_cb1.predict(X1_test)\n",
    "\n",
    "# Оценка качества модели на тестовых данных (MSE, RMSE, MAE, R²)\n",
    "mse_test = mean_squared_error(y1_test, y1_pred_test)\n",
    "rmse_test = np.sqrt(mse_test)\n",
    "mae_test = mean_absolute_error(y1_test, y1_pred_test)\n",
    "r2_test = r2_score(y1_test, y1_pred_test)\n",
    "\n",
    "results_df_delay.loc[len(results_df_delay)] = ['CatBoost', best_params, rmse_test, mse_test, mae_test, r2_test]\n",
    "\n",
    "# Вывод метрик на тестовых данных\n",
    "print(f'Тестовые данные: RMSE: {rmse_test:.4f}, MSE: {mse_test:.4f}, MAE: {mae_test:.4f}, R²: {r2_test:.4f}')"
   ]
  },
  {
   "cell_type": "markdown",
   "id": "1aa2bce1-f350-4b00-a71b-f2c4212288bf",
   "metadata": {},
   "source": [
    "## Random Forest"
   ]
  },
  {
   "cell_type": "code",
   "execution_count": 53,
   "id": "52d6012c-faca-4e01-a98d-671f3602d6af",
   "metadata": {
    "execution": {
     "iopub.execute_input": "2024-03-22T11:43:00.159946Z",
     "iopub.status.busy": "2024-03-22T11:43:00.159454Z",
     "iopub.status.idle": "2024-03-22T11:49:08.589534Z",
     "shell.execute_reply": "2024-03-22T11:49:08.588756Z",
     "shell.execute_reply.started": "2024-03-22T11:43:00.159917Z"
    },
    "tags": []
   },
   "outputs": [
    {
     "name": "stderr",
     "output_type": "stream",
     "text": [
      "[I 2024-03-22 11:43:00,166] A new study created in memory with name: no-name-9afdbfb9-bac8-4000-9eeb-a337445234aa\n",
      "[I 2024-03-22 11:43:08,213] Trial 0 finished with value: 6378.693294286285 and parameters: {'n_estimators': 418, 'max_depth': 5, 'min_samples_split': 19, 'min_samples_leaf': 8, 'max_features': 'log2'}. Best is trial 0 with value: 6378.693294286285.\n"
     ]
    },
    {
     "name": "stdout",
     "output_type": "stream",
     "text": [
      "RMSE: 79.8667, MSE: 6378.6933, MAE: 63.0437, R²: 0.8175\n"
     ]
    },
    {
     "name": "stderr",
     "output_type": "stream",
     "text": [
      "[I 2024-03-22 11:44:47,614] Trial 1 finished with value: 5004.422876735048 and parameters: {'n_estimators': 723, 'max_depth': 8, 'min_samples_split': 13, 'min_samples_leaf': 2, 'max_features': 'sqrt'}. Best is trial 1 with value: 5004.422876735048.\n"
     ]
    },
    {
     "name": "stdout",
     "output_type": "stream",
     "text": [
      "RMSE: 70.7419, MSE: 5004.4229, MAE: 55.1233, R²: 0.8568\n"
     ]
    },
    {
     "name": "stderr",
     "output_type": "stream",
     "text": [
      "[I 2024-03-22 11:45:09,775] Trial 2 finished with value: 5166.0754177095705 and parameters: {'n_estimators': 185, 'max_depth': 7, 'min_samples_split': 7, 'min_samples_leaf': 1, 'max_features': 'sqrt'}. Best is trial 1 with value: 5004.422876735048.\n"
     ]
    },
    {
     "name": "stdout",
     "output_type": "stream",
     "text": [
      "RMSE: 71.8754, MSE: 5166.0754, MAE: 56.1602, R²: 0.8522\n"
     ]
    },
    {
     "name": "stderr",
     "output_type": "stream",
     "text": [
      "[I 2024-03-22 11:45:12,081] Trial 3 finished with value: 7115.81174655242 and parameters: {'n_estimators': 172, 'max_depth': 3, 'min_samples_split': 9, 'min_samples_leaf': 7, 'max_features': 'log2'}. Best is trial 1 with value: 5004.422876735048.\n"
     ]
    },
    {
     "name": "stdout",
     "output_type": "stream",
     "text": [
      "RMSE: 84.3553, MSE: 7115.8117, MAE: 66.7929, R²: 0.7964\n"
     ]
    },
    {
     "name": "stderr",
     "output_type": "stream",
     "text": [
      "[I 2024-03-22 11:45:31,234] Trial 4 finished with value: 5790.541971165831 and parameters: {'n_estimators': 765, 'max_depth': 7, 'min_samples_split': 15, 'min_samples_leaf': 9, 'max_features': 'log2'}. Best is trial 1 with value: 5004.422876735048.\n"
     ]
    },
    {
     "name": "stdout",
     "output_type": "stream",
     "text": [
      "RMSE: 76.0956, MSE: 5790.5420, MAE: 59.8601, R²: 0.8343\n"
     ]
    },
    {
     "name": "stderr",
     "output_type": "stream",
     "text": [
      "[I 2024-03-22 11:46:47,250] Trial 5 finished with value: 5153.429167306556 and parameters: {'n_estimators': 645, 'max_depth': 7, 'min_samples_split': 18, 'min_samples_leaf': 7, 'max_features': 'sqrt'}. Best is trial 1 with value: 5004.422876735048.\n"
     ]
    },
    {
     "name": "stdout",
     "output_type": "stream",
     "text": [
      "RMSE: 71.7874, MSE: 5153.4292, MAE: 56.0893, R²: 0.8526\n"
     ]
    },
    {
     "name": "stderr",
     "output_type": "stream",
     "text": [
      "[I 2024-03-22 11:47:00,678] Trial 6 finished with value: 5421.811248553637 and parameters: {'n_estimators': 427, 'max_depth': 9, 'min_samples_split': 11, 'min_samples_leaf': 10, 'max_features': 'log2'}. Best is trial 1 with value: 5004.422876735048.\n"
     ]
    },
    {
     "name": "stdout",
     "output_type": "stream",
     "text": [
      "RMSE: 73.6329, MSE: 5421.8112, MAE: 57.7181, R²: 0.8449\n"
     ]
    },
    {
     "name": "stderr",
     "output_type": "stream",
     "text": [
      "[I 2024-03-22 11:47:26,671] Trial 7 finished with value: 5588.748647908642 and parameters: {'n_estimators': 928, 'max_depth': 8, 'min_samples_split': 18, 'min_samples_leaf': 9, 'max_features': 'log2'}. Best is trial 1 with value: 5004.422876735048.\n"
     ]
    },
    {
     "name": "stdout",
     "output_type": "stream",
     "text": [
      "RMSE: 74.7579, MSE: 5588.7486, MAE: 58.7038, R²: 0.8401\n"
     ]
    },
    {
     "name": "stderr",
     "output_type": "stream",
     "text": [
      "[I 2024-03-22 11:48:18,709] Trial 8 finished with value: 5733.24164286484 and parameters: {'n_estimators': 619, 'max_depth': 5, 'min_samples_split': 9, 'min_samples_leaf': 1, 'max_features': 'sqrt'}. Best is trial 1 with value: 5004.422876735048.\n"
     ]
    },
    {
     "name": "stdout",
     "output_type": "stream",
     "text": [
      "RMSE: 75.7182, MSE: 5733.2416, MAE: 59.5953, R²: 0.8360\n"
     ]
    },
    {
     "name": "stderr",
     "output_type": "stream",
     "text": [
      "[I 2024-03-22 11:49:08,579] Trial 9 finished with value: 4814.512845471563 and parameters: {'n_estimators': 301, 'max_depth': 10, 'min_samples_split': 3, 'min_samples_leaf': 9, 'max_features': 'sqrt'}. Best is trial 9 with value: 4814.512845471563.\n"
     ]
    },
    {
     "name": "stdout",
     "output_type": "stream",
     "text": [
      "RMSE: 69.3867, MSE: 4814.5128, MAE: 53.8805, R²: 0.8623\n",
      "Лучшие параметры: {'n_estimators': 301, 'max_depth': 10, 'min_samples_split': 3, 'min_samples_leaf': 9, 'max_features': 'sqrt'}\n"
     ]
    }
   ],
   "source": [
    "# Функция, которую будем оптимизировать\n",
    "def objective(trial):\n",
    "    # Определение параметров для оптимизации\n",
    "    params = {\n",
    "        'n_estimators': trial.suggest_int('n_estimators', 100, 1000),\n",
    "        'max_depth': trial.suggest_int('max_depth', 3, 10),\n",
    "        'min_samples_split': trial.suggest_int('min_samples_split', 2, 20),\n",
    "        'min_samples_leaf': trial.suggest_int('min_samples_leaf', 1, 10),\n",
    "        'max_features': trial.suggest_categorical('max_features', ['sqrt', 'log2']),\n",
    "    }\n",
    "\n",
    "    # Создание модели RandomForestRegressor с параметрами, подобранными Optuna\n",
    "    model = RandomForestRegressor(**params, random_state=42)\n",
    "\n",
    "    # Обучение модели\n",
    "    model.fit(X1_train, y1_train)\n",
    "\n",
    "    # Предсказание на тестовом наборе\n",
    "    y1_pred = model.predict(X1_test)\n",
    "\n",
    "    # Оценка качества модели (MSE, MAE, R²)\n",
    "    mse = mean_squared_error(y1_test, y1_pred)\n",
    "    rmse = np.sqrt(mse)\n",
    "    mae = mean_absolute_error(y1_test, y1_pred)\n",
    "    r2 = r2_score(y1_test, y1_pred)\n",
    "    \n",
    "    # Вывод метрик\n",
    "    print(f'RMSE: {rmse:.4f}, MSE: {mse:.4f}, MAE: {mae:.4f}, R²: {r2:.4f}')\n",
    "\n",
    "    return mse\n",
    "\n",
    "# Создание объекта study для оптимизации\n",
    "study = optuna.create_study(direction='minimize')\n",
    "\n",
    "# Запуск оптимизации\n",
    "study.optimize(objective, n_trials=10)\n",
    "\n",
    "# Получение лучших параметров\n",
    "best_params = study.best_params\n",
    "print(\"Лучшие параметры:\", best_params)"
   ]
  },
  {
   "cell_type": "code",
   "execution_count": 54,
   "id": "1cb895d5-8428-430b-bd26-af01d0bb3a7b",
   "metadata": {
    "execution": {
     "iopub.execute_input": "2024-03-22T11:49:08.591644Z",
     "iopub.status.busy": "2024-03-22T11:49:08.591170Z",
     "iopub.status.idle": "2024-03-22T11:50:11.152480Z",
     "shell.execute_reply": "2024-03-22T11:50:11.151751Z",
     "shell.execute_reply.started": "2024-03-22T11:49:08.591615Z"
    },
    "tags": []
   },
   "outputs": [
    {
     "name": "stdout",
     "output_type": "stream",
     "text": [
      "Тестовые данные: RMSE: 62.7107, MSE: 3932.6257, MAE: 48.7348, R²: 0.8875\n"
     ]
    }
   ],
   "source": [
    "# Создание модели с лучшими параметрами\n",
    "best_model_rf1 = RandomForestRegressor(**best_params, random_state=42)\n",
    "\n",
    "# Обучение модели на всех данных\n",
    "best_model_rf1.fit(X1, y1)\n",
    "\n",
    "# Предсказание на тестовом наборе\n",
    "y1_pred_test = best_model_rf1.predict(X1_test)\n",
    "\n",
    "# Оценка качества модели на тестовых данных (MSE, RMSE, MAE, R²)\n",
    "mse_test = mean_squared_error(y1_test, y1_pred_test)\n",
    "rmse_test = np.sqrt(mse_test)\n",
    "mae_test = mean_absolute_error(y1_test, y1_pred_test)\n",
    "r2_test = r2_score(y1_test, y1_pred_test)\n",
    "\n",
    "results_df_delay.loc[len(results_df_delay)] = ['RandomForestRegressor', best_params, rmse_test, mse_test, mae_test, r2_test]\n",
    "\n",
    "# Вывод метрик на тестовых данных\n",
    "print(f'Тестовые данные: RMSE: {rmse_test:.4f}, MSE: {mse_test:.4f}, MAE: {mae_test:.4f}, R²: {r2_test:.4f}')"
   ]
  },
  {
   "cell_type": "markdown",
   "id": "fd93c728-c591-4242-8633-d9bbfa51fa63",
   "metadata": {},
   "source": [
    "## LightBM"
   ]
  },
  {
   "cell_type": "code",
   "execution_count": 55,
   "id": "79c1236f-fb9d-4f8e-92a3-b7e00252d18b",
   "metadata": {
    "execution": {
     "iopub.execute_input": "2024-03-22T11:50:11.153984Z",
     "iopub.status.busy": "2024-03-22T11:50:11.153464Z",
     "iopub.status.idle": "2024-03-22T11:52:27.671003Z",
     "shell.execute_reply": "2024-03-22T11:52:27.670406Z",
     "shell.execute_reply.started": "2024-03-22T11:50:11.153962Z"
    },
    "tags": []
   },
   "outputs": [
    {
     "name": "stderr",
     "output_type": "stream",
     "text": [
      "[I 2024-03-22 11:50:11,160] A new study created in memory with name: no-name-21abe477-ce68-460c-9550-a1b768ea99ee\n",
      "[I 2024-03-22 11:50:30,870] Trial 0 finished with value: 7441.883036663756 and parameters: {'num_leaves': 141, 'learning_rate': 0.01224961097097855, 'max_depth': 8, 'min_child_samples': 11, 'subsample': 0.8925552745793308, 'colsample_bytree': 0.7017310677522343}. Best is trial 0 with value: 7441.883036663756.\n"
     ]
    },
    {
     "name": "stdout",
     "output_type": "stream",
     "text": [
      "RMSE: 86.2663, MSE: 7441.8830, MAE: 68.5598, R²: 0.7871\n"
     ]
    },
    {
     "name": "stderr",
     "output_type": "stream",
     "text": [
      "[I 2024-03-22 11:50:46,112] Trial 1 finished with value: 4800.567072852143 and parameters: {'num_leaves': 93, 'learning_rate': 0.11114166798763898, 'max_depth': 10, 'min_child_samples': 10, 'subsample': 0.45229664208503273, 'colsample_bytree': 0.8999467691742036}. Best is trial 1 with value: 4800.567072852143.\n"
     ]
    },
    {
     "name": "stdout",
     "output_type": "stream",
     "text": [
      "RMSE: 69.2861, MSE: 4800.5671, MAE: 53.4028, R²: 0.8627\n"
     ]
    },
    {
     "name": "stderr",
     "output_type": "stream",
     "text": [
      "[I 2024-03-22 11:50:50,423] Trial 2 finished with value: 4749.945462336286 and parameters: {'num_leaves': 204, 'learning_rate': 0.09037281718113019, 'max_depth': 4, 'min_child_samples': 20, 'subsample': 0.6168498133000762, 'colsample_bytree': 0.33657617903265125}. Best is trial 2 with value: 4749.945462336286.\n"
     ]
    },
    {
     "name": "stdout",
     "output_type": "stream",
     "text": [
      "RMSE: 68.9198, MSE: 4749.9455, MAE: 53.2781, R²: 0.8641\n"
     ]
    },
    {
     "name": "stderr",
     "output_type": "stream",
     "text": [
      "[I 2024-03-22 11:51:05,241] Trial 3 finished with value: 4738.629566130952 and parameters: {'num_leaves': 204, 'learning_rate': 0.0720532790944763, 'max_depth': 8, 'min_child_samples': 11, 'subsample': 0.8903285508333894, 'colsample_bytree': 0.6411314411379624}. Best is trial 3 with value: 4738.629566130952.\n"
     ]
    },
    {
     "name": "stdout",
     "output_type": "stream",
     "text": [
      "RMSE: 68.8377, MSE: 4738.6296, MAE: 53.0666, R²: 0.8644\n"
     ]
    },
    {
     "name": "stderr",
     "output_type": "stream",
     "text": [
      "[I 2024-03-22 11:51:13,151] Trial 4 finished with value: 4906.196753577834 and parameters: {'num_leaves': 176, 'learning_rate': 0.026496792388065085, 'max_depth': 6, 'min_child_samples': 9, 'subsample': 0.9060413861962756, 'colsample_bytree': 0.4978467064980122}. Best is trial 3 with value: 4738.629566130952.\n"
     ]
    },
    {
     "name": "stdout",
     "output_type": "stream",
     "text": [
      "RMSE: 70.0442, MSE: 4906.1968, MAE: 54.4621, R²: 0.8596\n",
      "RMSE: 72.2217, MSE: 5215.9717, MAE: 56.3623, R²: 0.8508\n"
     ]
    },
    {
     "name": "stderr",
     "output_type": "stream",
     "text": [
      "[I 2024-03-22 11:51:38,094] Trial 5 finished with value: 5215.9717433162305 and parameters: {'num_leaves': 150, 'learning_rate': 0.020811489533352132, 'max_depth': 10, 'min_child_samples': 9, 'subsample': 0.5087395854229935, 'colsample_bytree': 0.9034187585038963}. Best is trial 3 with value: 4738.629566130952.\n",
      "[I 2024-03-22 11:51:55,600] Trial 6 finished with value: 4860.177139091556 and parameters: {'num_leaves': 200, 'learning_rate': 0.12043320924388244, 'max_depth': 10, 'min_child_samples': 5, 'subsample': 0.48205902366350006, 'colsample_bytree': 0.5728251771699249}. Best is trial 3 with value: 4738.629566130952.\n"
     ]
    },
    {
     "name": "stdout",
     "output_type": "stream",
     "text": [
      "RMSE: 69.7150, MSE: 4860.1771, MAE: 53.7087, R²: 0.8610\n"
     ]
    },
    {
     "name": "stderr",
     "output_type": "stream",
     "text": [
      "[I 2024-03-22 11:52:00,214] Trial 7 finished with value: 6529.906524243031 and parameters: {'num_leaves': 146, 'learning_rate': 0.016261504506241056, 'max_depth': 4, 'min_child_samples': 8, 'subsample': 0.5868526805103236, 'colsample_bytree': 0.27624652567367936}. Best is trial 3 with value: 4738.629566130952.\n"
     ]
    },
    {
     "name": "stdout",
     "output_type": "stream",
     "text": [
      "RMSE: 80.8078, MSE: 6529.9065, MAE: 64.2485, R²: 0.8132\n"
     ]
    },
    {
     "name": "stderr",
     "output_type": "stream",
     "text": [
      "[I 2024-03-22 11:52:09,767] Trial 8 finished with value: 4751.102385467962 and parameters: {'num_leaves': 78, 'learning_rate': 0.07887236056095197, 'max_depth': 9, 'min_child_samples': 1, 'subsample': 0.4212269316103264, 'colsample_bytree': 0.4306856095897794}. Best is trial 3 with value: 4738.629566130952.\n"
     ]
    },
    {
     "name": "stdout",
     "output_type": "stream",
     "text": [
      "RMSE: 68.9282, MSE: 4751.1024, MAE: 53.2132, R²: 0.8641\n"
     ]
    },
    {
     "name": "stderr",
     "output_type": "stream",
     "text": [
      "[I 2024-03-22 11:52:27,662] Trial 9 finished with value: 4901.487710568981 and parameters: {'num_leaves': 238, 'learning_rate': 0.13436524725588397, 'max_depth': 9, 'min_child_samples': 14, 'subsample': 0.19245481030098227, 'colsample_bytree': 0.7473439231427749}. Best is trial 3 with value: 4738.629566130952.\n"
     ]
    },
    {
     "name": "stdout",
     "output_type": "stream",
     "text": [
      "RMSE: 70.0106, MSE: 4901.4877, MAE: 54.1042, R²: 0.8598\n",
      "Лучшие параметры: {'num_leaves': 204, 'learning_rate': 0.0720532790944763, 'max_depth': 8, 'min_child_samples': 11, 'subsample': 0.8903285508333894, 'colsample_bytree': 0.6411314411379624}\n"
     ]
    }
   ],
   "source": [
    "# Функция, которую будем оптимизировать\n",
    "def objective(trial):\n",
    "    # Определение параметров для оптимизации\n",
    "    params = {\n",
    "        'objective': 'regression',\n",
    "        'metric': 'l2',\n",
    "        'num_leaves': trial.suggest_int('num_leaves', 2, 256),\n",
    "        'learning_rate': trial.suggest_float('learning_rate', 0.01, 0.3, log=True),\n",
    "        'max_depth': trial.suggest_int('max_depth', 3, 10),\n",
    "        'min_child_samples': trial.suggest_int('min_child_samples', 1, 20),\n",
    "        'subsample': trial.suggest_float('subsample', 0.1, 1.0),\n",
    "        'colsample_bytree': trial.suggest_float('colsample_bytree', 0.1, 1.0),\n",
    "    }\n",
    "\n",
    "    # Создание модели LightGBM с параметрами, подобранными Optuna\n",
    "    model = lgb.LGBMRegressor(**params, random_state=42)\n",
    "\n",
    "    # Обучение модели\n",
    "    model.fit(X1_train, y1_train)\n",
    "\n",
    "    # Предсказание на тестовом наборе\n",
    "    y1_pred = model.predict(X1_test)\n",
    "\n",
    "    # Оценка качества модели (MSE, MAE, R²)\n",
    "    mse = mean_squared_error(y1_test, y1_pred)\n",
    "    rmse = np.sqrt(mse)\n",
    "    mae = mean_absolute_error(y1_test, y1_pred)\n",
    "    r2 = r2_score(y1_test, y1_pred)\n",
    "    \n",
    "    # Вывод метрик\n",
    "    print(f'RMSE: {rmse:.4f}, MSE: {mse:.4f}, MAE: {mae:.4f}, R²: {r2:.4f}')\n",
    "\n",
    "    return mse\n",
    "\n",
    "# Создание объекта study для оптимизации\n",
    "study = optuna.create_study(direction='minimize')\n",
    "\n",
    "# Запуск оптимизации\n",
    "study.optimize(objective, n_trials=10)\n",
    "\n",
    "# Получение лучших параметров\n",
    "best_params = study.best_params\n",
    "print(\"Лучшие параметры:\", best_params)"
   ]
  },
  {
   "cell_type": "code",
   "execution_count": 56,
   "id": "5337e32c-3254-4e8f-8e50-85d3c552a4df",
   "metadata": {
    "execution": {
     "iopub.execute_input": "2024-03-22T11:52:27.672275Z",
     "iopub.status.busy": "2024-03-22T11:52:27.671833Z",
     "iopub.status.idle": "2024-03-22T11:52:45.419510Z",
     "shell.execute_reply": "2024-03-22T11:52:45.418786Z",
     "shell.execute_reply.started": "2024-03-22T11:52:27.672252Z"
    },
    "tags": []
   },
   "outputs": [
    {
     "name": "stdout",
     "output_type": "stream",
     "text": [
      "Тестовые данные: RMSE: 50.3862, MSE: 2538.7714, MAE: 38.9239, R²: 0.9274\n"
     ]
    }
   ],
   "source": [
    "# Создание модели с лучшими параметрами\n",
    "best_model_LGBM1 = lgb.LGBMRegressor(**best_params, random_state=42)\n",
    "\n",
    "# Обучение модели на всех данных\n",
    "best_model_LGBM1.fit(X1, y1)\n",
    "\n",
    "# Предсказание на тестовом наборе\n",
    "y1_pred_test = best_model_LGBM1.predict(X1_test)\n",
    "\n",
    "# Оценка качества модели на тестовых данных (MSE, RMSE, MAE, R²)\n",
    "mse_test = mean_squared_error(y1_test, y1_pred_test)\n",
    "rmse_test = np.sqrt(mse_test)\n",
    "mae_test = mean_absolute_error(y1_test, y1_pred_test)\n",
    "r2_test = r2_score(y1_test, y1_pred_test)\n",
    "\n",
    "results_df_delay.loc[len(results_df_delay)] = ['LGBMRegressor', best_params, rmse_test, mse_test, mae_test, r2_test]\n",
    "\n",
    "# Вывод метрик на тестовых данных\n",
    "print(f'Тестовые данные: RMSE: {rmse_test:.4f}, MSE: {mse_test:.4f}, MAE: {mae_test:.4f}, R²: {r2_test:.4f}')"
   ]
  },
  {
   "cell_type": "markdown",
   "id": "a2f3020c-d14f-400e-8006-451f98819ecf",
   "metadata": {},
   "source": [
    "## Нейронная сеть"
   ]
  },
  {
   "cell_type": "code",
   "execution_count": 57,
   "id": "e0ace29f-05ec-4705-8480-72598860eb70",
   "metadata": {
    "execution": {
     "iopub.execute_input": "2024-03-22T11:52:45.420834Z",
     "iopub.status.busy": "2024-03-22T11:52:45.420428Z",
     "iopub.status.idle": "2024-03-22T11:55:23.751161Z",
     "shell.execute_reply": "2024-03-22T11:55:23.750469Z",
     "shell.execute_reply.started": "2024-03-22T11:52:45.420812Z"
    },
    "tags": []
   },
   "outputs": [
    {
     "name": "stderr",
     "output_type": "stream",
     "text": [
      "[I 2024-03-22 11:52:45,425] A new study created in memory with name: no-name-4b4d9d7e-4f96-4c8f-ab02-647695695875\n"
     ]
    },
    {
     "name": "stdout",
     "output_type": "stream",
     "text": [
      "258/258 [==============================] - 0s 1ms/step\n"
     ]
    },
    {
     "name": "stderr",
     "output_type": "stream",
     "text": [
      "[I 2024-03-22 11:55:23,737] Trial 0 finished with value: 10044.268435669159 and parameters: {'num_layers': 5, 'n_units_layer0': 155, 'n_units_layer1': 402, 'n_units_layer2': 131, 'n_units_layer3': 218, 'n_units_layer4': 323, 'learning_rate': 0.0001092840545183288}. Best is trial 0 with value: 10044.268435669159.\n"
     ]
    },
    {
     "name": "stdout",
     "output_type": "stream",
     "text": [
      "RMSE: 100.2211, MSE: 10044.2684, MAE: 80.3236, R²: 0.7127\n",
      "Лучшие параметры: {'num_layers': 5, 'n_units_layer0': 155, 'n_units_layer1': 402, 'n_units_layer2': 131, 'n_units_layer3': 218, 'n_units_layer4': 323, 'learning_rate': 0.0001092840545183288}\n"
     ]
    }
   ],
   "source": [
    "# Функция, которую будем оптимизировать\n",
    "def objective(trial):\n",
    "    # Определение параметров для оптимизации\n",
    "    num_layers = trial.suggest_int('num_layers', 1, 5)\n",
    "    num_units = [trial.suggest_int(f'n_units_layer{i}', 2, 512) for i in range(num_layers)]\n",
    "    learning_rate = trial.suggest_float('learning_rate', 1e-5, 1e-1, log=True)\n",
    "\n",
    "    # Создание модели нейронной сети\n",
    "    model = tf.keras.Sequential()\n",
    "    for i in range(num_layers):\n",
    "        if i == 0:\n",
    "            model.add(tf.keras.layers.Dense(num_units[i], activation='relu', input_shape=(X_train.shape[1],)))\n",
    "        else:\n",
    "            model.add(tf.keras.layers.Dense(num_units[i], activation='relu'))\n",
    "    model.add(tf.keras.layers.Dense(1))  # Выходной слой без активации для регрессии\n",
    "\n",
    "    # Компиляция модели с оптимизатором, функцией потерь и метрикой\n",
    "    model.compile(optimizer=tf.keras.optimizers.legacy.Adam(learning_rate=best_params['learning_rate']),\n",
    "                   loss='mean_squared_error')\n",
    "\n",
    "    # Обучение модели\n",
    "    model.fit(X1_train, y1_train, epochs=50, batch_size=32, verbose=0)  # Можно настраивать параметры обучения здесь\n",
    "\n",
    "    # Предсказание на тестовом наборе\n",
    "    y1_pred = model.predict(X1_test).flatten()\n",
    "\n",
    "    # Оценка качества модели (MSE, MAE, R²)\n",
    "    mse = mean_squared_error(y1_test, y1_pred)\n",
    "    rmse = np.sqrt(mse)\n",
    "    mae = mean_absolute_error(y1_test, y1_pred)\n",
    "    r2 = r2_score(y1_test, y1_pred)\n",
    "\n",
    "    # Вывод метрик\n",
    "    print(f'RMSE: {rmse:.4f}, MSE: {mse:.4f}, MAE: {mae:.4f}, R²: {r2:.4f}')\n",
    "\n",
    "    return mse\n",
    "\n",
    "# Создание объекта study для оптимизации\n",
    "study = optuna.create_study(direction='minimize')\n",
    "\n",
    "# Запуск оптимизации\n",
    "study.optimize(objective, n_trials=1)\n",
    "\n",
    "# Получение лучших параметров\n",
    "best_params = study.best_params\n",
    "print(\"Лучшие параметры:\", best_params)"
   ]
  },
  {
   "cell_type": "code",
   "execution_count": 58,
   "id": "25d7d1fb-10d1-45a6-b147-355ffb9bf4a3",
   "metadata": {
    "execution": {
     "iopub.execute_input": "2024-03-22T11:55:23.753793Z",
     "iopub.status.busy": "2024-03-22T11:55:23.753255Z",
     "iopub.status.idle": "2024-03-22T11:58:38.944525Z",
     "shell.execute_reply": "2024-03-22T11:58:38.943781Z",
     "shell.execute_reply.started": "2024-03-22T11:55:23.753766Z"
    },
    "tags": []
   },
   "outputs": [
    {
     "name": "stdout",
     "output_type": "stream",
     "text": [
      "258/258 [==============================] - 0s 1ms/step\n",
      "Тестовые данные: RMSE: 84.5575, MSE: 7149.9666, MAE: 66.3703, R²: 0.7955\n"
     ]
    }
   ],
   "source": [
    "# Создание модели с лучшими параметрами\n",
    "best_model_nn1 = tf.keras.Sequential()\n",
    "for i in range(best_params['num_layers']):\n",
    "    if i == 0:\n",
    "        best_model_nn1.add(tf.keras.layers.Dense(best_params[f'n_units_layer{i}'], activation='relu', input_shape=(X.shape[1],)))\n",
    "    else:\n",
    "        best_model_nn1.add(tf.keras.layers.Dense(best_params[f'n_units_layer{i}'], activation='relu'))\n",
    "best_model_nn1.add(tf.keras.layers.Dense(1))  # Выходной слой без активации для регрессии\n",
    "\n",
    "# Компиляция модели с оптимальными гиперпараметрами\n",
    "best_model_nn1.compile(optimizer=tf.keras.optimizers.legacy.Adam(learning_rate=best_params['learning_rate']),\n",
    "                   loss='mean_squared_error')\n",
    "\n",
    "# Обучение модели на всех данных\n",
    "best_model_nn1.fit(X1, y1, epochs=50, batch_size=32, verbose=0)  # Можно настраивать параметры обучения здесь\n",
    "\n",
    "# Предсказание на тестовом наборе\n",
    "y1_pred_test = best_model_nn1.predict(X1_test).flatten()\n",
    "\n",
    "# Оценка качества модели на тестовых данных (MSE, RMSE, MAE, R²)\n",
    "mse_test = mean_squared_error(y1_test, y1_pred_test)\n",
    "rmse_test = np.sqrt(mse_test)\n",
    "mae_test = mean_absolute_error(y1_test, y1_pred_test)\n",
    "r2_test = r2_score(y1_test, y1_pred_test)\n",
    "\n",
    "results_df_delay.loc[len(results_df_delay)] = ['NeuralNetwork', best_params, rmse_test, mse_test, mae_test, r2_test]\n",
    "\n",
    "# Вывод метрик на тестовых данных\n",
    "print(f'Тестовые данные: RMSE: {rmse_test:.4f}, MSE: {mse_test:.4f}, MAE: {mae_test:.4f}, R²: {r2_test:.4f}')"
   ]
  },
  {
   "cell_type": "markdown",
   "id": "8f64de58-d465-4dfb-9638-71e4766a6be5",
   "metadata": {},
   "source": [
    "## Изучение итогов обучения моделей для предсказания площади. Выбор наилучшей модели. Импорт модели."
   ]
  },
  {
   "cell_type": "code",
   "execution_count": 59,
   "id": "de1287e1-e3df-421a-9e61-2e9368735539",
   "metadata": {
    "execution": {
     "iopub.execute_input": "2024-03-22T11:58:38.946296Z",
     "iopub.status.busy": "2024-03-22T11:58:38.945861Z",
     "iopub.status.idle": "2024-03-22T11:58:38.964062Z",
     "shell.execute_reply": "2024-03-22T11:58:38.963509Z",
     "shell.execute_reply.started": "2024-03-22T11:58:38.946270Z"
    },
    "tags": []
   },
   "outputs": [
    {
     "data": {
      "text/html": [
       "<div>\n",
       "<style scoped>\n",
       "    .dataframe tbody tr th:only-of-type {\n",
       "        vertical-align: middle;\n",
       "    }\n",
       "\n",
       "    .dataframe tbody tr th {\n",
       "        vertical-align: top;\n",
       "    }\n",
       "\n",
       "    .dataframe thead th {\n",
       "        text-align: right;\n",
       "    }\n",
       "</style>\n",
       "<table border=\"1\" class=\"dataframe\">\n",
       "  <thead>\n",
       "    <tr style=\"text-align: right;\">\n",
       "      <th></th>\n",
       "      <th>Model</th>\n",
       "      <th>Parameters</th>\n",
       "      <th>RMSE</th>\n",
       "      <th>MSE</th>\n",
       "      <th>MAE</th>\n",
       "      <th>R²</th>\n",
       "    </tr>\n",
       "  </thead>\n",
       "  <tbody>\n",
       "    <tr>\n",
       "      <th>0</th>\n",
       "      <td>CatBoost</td>\n",
       "      <td>{'iterations': 614, 'learning_rate': 0.0206344...</td>\n",
       "      <td>58.097422</td>\n",
       "      <td>3375.310493</td>\n",
       "      <td>45.015025</td>\n",
       "      <td>0.903439</td>\n",
       "    </tr>\n",
       "    <tr>\n",
       "      <th>1</th>\n",
       "      <td>RandomForestRegressor</td>\n",
       "      <td>{'n_estimators': 301, 'max_depth': 10, 'min_sa...</td>\n",
       "      <td>62.710651</td>\n",
       "      <td>3932.625692</td>\n",
       "      <td>48.734826</td>\n",
       "      <td>0.887495</td>\n",
       "    </tr>\n",
       "    <tr>\n",
       "      <th>2</th>\n",
       "      <td>LGBMRegressor</td>\n",
       "      <td>{'num_leaves': 204, 'learning_rate': 0.0720532...</td>\n",
       "      <td>50.386223</td>\n",
       "      <td>2538.771420</td>\n",
       "      <td>38.923931</td>\n",
       "      <td>0.927371</td>\n",
       "    </tr>\n",
       "    <tr>\n",
       "      <th>3</th>\n",
       "      <td>NeuralNetwork</td>\n",
       "      <td>{'num_layers': 5, 'n_units_layer0': 155, 'n_un...</td>\n",
       "      <td>84.557475</td>\n",
       "      <td>7149.966630</td>\n",
       "      <td>66.370287</td>\n",
       "      <td>0.795453</td>\n",
       "    </tr>\n",
       "  </tbody>\n",
       "</table>\n",
       "</div>"
      ],
      "text/plain": [
       "                   Model  ...        R²\n",
       "0               CatBoost  ...  0.903439\n",
       "1  RandomForestRegressor  ...  0.887495\n",
       "2          LGBMRegressor  ...  0.927371\n",
       "3          NeuralNetwork  ...  0.795453\n",
       "\n",
       "[4 rows x 6 columns]"
      ]
     },
     "execution_count": 59,
     "metadata": {},
     "output_type": "execute_result"
    }
   ],
   "source": [
    "results_df_delay"
   ]
  },
  {
   "cell_type": "code",
   "execution_count": 60,
   "id": "1a924b7a-0c09-40f4-b92c-0459f8e08ec6",
   "metadata": {
    "execution": {
     "iopub.execute_input": "2024-03-22T11:58:38.965138Z",
     "iopub.status.busy": "2024-03-22T11:58:38.964787Z",
     "iopub.status.idle": "2024-03-22T11:58:38.973261Z",
     "shell.execute_reply": "2024-03-22T11:58:38.972734Z",
     "shell.execute_reply.started": "2024-03-22T11:58:38.965119Z"
    },
    "tags": []
   },
   "outputs": [],
   "source": [
    "results_df_delay.sort_values(by = 'MAE', inplace = True)\n",
    "results_df_delay.reset_index(drop=True, inplace = True)"
   ]
  },
  {
   "cell_type": "code",
   "execution_count": 61,
   "id": "e93b44f2-cfda-42e5-b984-3127db69b791",
   "metadata": {
    "execution": {
     "iopub.execute_input": "2024-03-22T11:58:38.974165Z",
     "iopub.status.busy": "2024-03-22T11:58:38.973869Z",
     "iopub.status.idle": "2024-03-22T11:58:38.983538Z",
     "shell.execute_reply": "2024-03-22T11:58:38.982996Z",
     "shell.execute_reply.started": "2024-03-22T11:58:38.974146Z"
    },
    "tags": []
   },
   "outputs": [
    {
     "data": {
      "text/plain": [
       "'LGBMRegressor'"
      ]
     },
     "execution_count": 61,
     "metadata": {},
     "output_type": "execute_result"
    }
   ],
   "source": [
    "model_name = results_df_delay['Model'][0]\n",
    "model_name"
   ]
  },
  {
   "cell_type": "code",
   "execution_count": null,
   "id": "d74fa03a-b3af-4abd-9831-ae0e2390434e",
   "metadata": {
    "tags": []
   },
   "outputs": [],
   "source": [
    "# Сохраняем модель в файл trained_model_area.pkl\n",
    "if model_name == 'LGBMRegressor':\n",
    "    joblib.dump(best_model_LGBM, 'trained_model_delay.pkl')\n",
    "elif model_name == 'CatBoost':\n",
    "    joblib.dump(best_model_cb, 'trained_model_delay.pkl')\n",
    "elif model_name == 'RandomForest':\n",
    "    joblib.dump(best_model_rf, 'trained_model_delay.pkl')\n",
    "else:\n",
    "    joblib.dump(best_model_nn, 'trained_model_delay.pkl')"
   ]
  }
 ],
 "metadata": {
  "kernelspec": {
   "display_name": "DataSphere Kernel",
   "language": "python",
   "name": "python3"
  },
  "language_info": {
   "codemirror_mode": {
    "name": "ipython",
    "version": 3
   },
   "file_extension": ".py",
   "mimetype": "text/x-python",
   "name": "python",
   "nbconvert_exporter": "python",
   "pygments_lexer": "ipython3",
   "version": "3.7.7"
  }
 },
 "nbformat": 4,
 "nbformat_minor": 5
}
