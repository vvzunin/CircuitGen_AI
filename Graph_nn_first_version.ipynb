{
  "cells": [
    {
      "cell_type": "markdown",
      "id": "6d8687dc-d366-43b5-b6a4-f00e70d65985",
      "metadata": {
        "id": "6d8687dc-d366-43b5-b6a4-f00e70d65985"
      },
      "source": [
        "# Реализация графовой нейронной сети для предсказания площади и задержи схем"
      ]
    },
    {
      "cell_type": "markdown",
      "source": [
        "## Подключаем все необходимые библиотеки"
      ],
      "metadata": {
        "id": "ExkDqET8h-aO"
      },
      "id": "ExkDqET8h-aO"
    },
    {
      "cell_type": "code",
      "execution_count": 2,
      "id": "09277823-b730-4529-8dea-f991e04fc159",
      "metadata": {
        "id": "09277823-b730-4529-8dea-f991e04fc159"
      },
      "outputs": [],
      "source": [
        "#Библиотеки\n",
        "import pandas as pd\n",
        "import networkx as nx\n",
        "import os\n",
        "import torch\n",
        "import torch.nn as nn\n",
        "import torch.optim as optim\n",
        "import numpy as np\n",
        "from sklearn.model_selection import train_test_split"
      ]
    },
    {
      "cell_type": "markdown",
      "id": "e7188c7b-96e9-4851-9cc6-243aa1e30173",
      "metadata": {
        "id": "e7188c7b-96e9-4851-9cc6-243aa1e30173"
      },
      "source": [
        "## Считываем и исследуем данные"
      ]
    },
    {
      "cell_type": "code",
      "source": [
        "from google.colab import drive\n",
        "drive.mount('/content/drive', force_remount=True)"
      ],
      "metadata": {
        "id": "wUUm84_vQT4c",
        "colab": {
          "base_uri": "https://localhost:8080/"
        },
        "outputId": "1e9547cb-a5d4-4d7f-a7d4-0ad483876e69"
      },
      "id": "wUUm84_vQT4c",
      "execution_count": 3,
      "outputs": [
        {
          "output_type": "stream",
          "name": "stdout",
          "text": [
            "Mounted at /content/drive\n"
          ]
        }
      ]
    },
    {
      "cell_type": "markdown",
      "source": [
        "### Загрузим csv файл с названиями Файлов и целевыми переменными"
      ],
      "metadata": {
        "id": "uDAh8MX3iLPp"
      },
      "id": "uDAh8MX3iLPp"
    },
    {
      "cell_type": "code",
      "execution_count": 4,
      "id": "a3380886-be85-44bb-8cff-f1efcade6d42",
      "metadata": {
        "id": "a3380886-be85-44bb-8cff-f1efcade6d42"
      },
      "outputs": [],
      "source": [
        "data = pd.read_csv('/content/drive/MyDrive/1799/graphs_10.csv')\n",
        "data1 = pd.read_csv('/content/drive/MyDrive/1799/graphs_11.csv')\n",
        "data2 = pd.read_csv('/content/drive/MyDrive/1799/graphs_12.csv')"
      ]
    },
    {
      "cell_type": "markdown",
      "source": [
        "### Посмотрим как выглядит наша таблица"
      ],
      "metadata": {
        "id": "8meGrQ4OiVMX"
      },
      "id": "8meGrQ4OiVMX"
    },
    {
      "cell_type": "code",
      "source": [
        "data.tail()"
      ],
      "metadata": {
        "colab": {
          "base_uri": "https://localhost:8080/",
          "height": 206
        },
        "id": "KEOKz8Z3iTNI",
        "outputId": "0c823770-484b-4f88-d352-08f7b94ce94d"
      },
      "id": "KEOKz8Z3iTNI",
      "execution_count": 5,
      "outputs": [
        {
          "output_type": "execute_result",
          "data": {
            "text/plain": [
              "              File    Area   Delay\n",
              "11215  CCGRCG11215  711.59  861.13\n",
              "11216  CCGRCG11216   53.78  376.55\n",
              "11217  CCGRCG11217    3.75   80.42\n",
              "11218  CCGRCG11218     NaN     NaN\n",
              "11219  CCGRCG11219     NaN     NaN"
            ],
            "text/html": [
              "\n",
              "  <div id=\"df-7a177ca2-4065-4bd2-93c3-cecaa1db937f\" class=\"colab-df-container\">\n",
              "    <div>\n",
              "<style scoped>\n",
              "    .dataframe tbody tr th:only-of-type {\n",
              "        vertical-align: middle;\n",
              "    }\n",
              "\n",
              "    .dataframe tbody tr th {\n",
              "        vertical-align: top;\n",
              "    }\n",
              "\n",
              "    .dataframe thead th {\n",
              "        text-align: right;\n",
              "    }\n",
              "</style>\n",
              "<table border=\"1\" class=\"dataframe\">\n",
              "  <thead>\n",
              "    <tr style=\"text-align: right;\">\n",
              "      <th></th>\n",
              "      <th>File</th>\n",
              "      <th>Area</th>\n",
              "      <th>Delay</th>\n",
              "    </tr>\n",
              "  </thead>\n",
              "  <tbody>\n",
              "    <tr>\n",
              "      <th>11215</th>\n",
              "      <td>CCGRCG11215</td>\n",
              "      <td>711.59</td>\n",
              "      <td>861.13</td>\n",
              "    </tr>\n",
              "    <tr>\n",
              "      <th>11216</th>\n",
              "      <td>CCGRCG11216</td>\n",
              "      <td>53.78</td>\n",
              "      <td>376.55</td>\n",
              "    </tr>\n",
              "    <tr>\n",
              "      <th>11217</th>\n",
              "      <td>CCGRCG11217</td>\n",
              "      <td>3.75</td>\n",
              "      <td>80.42</td>\n",
              "    </tr>\n",
              "    <tr>\n",
              "      <th>11218</th>\n",
              "      <td>CCGRCG11218</td>\n",
              "      <td>NaN</td>\n",
              "      <td>NaN</td>\n",
              "    </tr>\n",
              "    <tr>\n",
              "      <th>11219</th>\n",
              "      <td>CCGRCG11219</td>\n",
              "      <td>NaN</td>\n",
              "      <td>NaN</td>\n",
              "    </tr>\n",
              "  </tbody>\n",
              "</table>\n",
              "</div>\n",
              "    <div class=\"colab-df-buttons\">\n",
              "\n",
              "  <div class=\"colab-df-container\">\n",
              "    <button class=\"colab-df-convert\" onclick=\"convertToInteractive('df-7a177ca2-4065-4bd2-93c3-cecaa1db937f')\"\n",
              "            title=\"Convert this dataframe to an interactive table.\"\n",
              "            style=\"display:none;\">\n",
              "\n",
              "  <svg xmlns=\"http://www.w3.org/2000/svg\" height=\"24px\" viewBox=\"0 -960 960 960\">\n",
              "    <path d=\"M120-120v-720h720v720H120Zm60-500h600v-160H180v160Zm220 220h160v-160H400v160Zm0 220h160v-160H400v160ZM180-400h160v-160H180v160Zm440 0h160v-160H620v160ZM180-180h160v-160H180v160Zm440 0h160v-160H620v160Z\"/>\n",
              "  </svg>\n",
              "    </button>\n",
              "\n",
              "  <style>\n",
              "    .colab-df-container {\n",
              "      display:flex;\n",
              "      gap: 12px;\n",
              "    }\n",
              "\n",
              "    .colab-df-convert {\n",
              "      background-color: #E8F0FE;\n",
              "      border: none;\n",
              "      border-radius: 50%;\n",
              "      cursor: pointer;\n",
              "      display: none;\n",
              "      fill: #1967D2;\n",
              "      height: 32px;\n",
              "      padding: 0 0 0 0;\n",
              "      width: 32px;\n",
              "    }\n",
              "\n",
              "    .colab-df-convert:hover {\n",
              "      background-color: #E2EBFA;\n",
              "      box-shadow: 0px 1px 2px rgba(60, 64, 67, 0.3), 0px 1px 3px 1px rgba(60, 64, 67, 0.15);\n",
              "      fill: #174EA6;\n",
              "    }\n",
              "\n",
              "    .colab-df-buttons div {\n",
              "      margin-bottom: 4px;\n",
              "    }\n",
              "\n",
              "    [theme=dark] .colab-df-convert {\n",
              "      background-color: #3B4455;\n",
              "      fill: #D2E3FC;\n",
              "    }\n",
              "\n",
              "    [theme=dark] .colab-df-convert:hover {\n",
              "      background-color: #434B5C;\n",
              "      box-shadow: 0px 1px 3px 1px rgba(0, 0, 0, 0.15);\n",
              "      filter: drop-shadow(0px 1px 2px rgba(0, 0, 0, 0.3));\n",
              "      fill: #FFFFFF;\n",
              "    }\n",
              "  </style>\n",
              "\n",
              "    <script>\n",
              "      const buttonEl =\n",
              "        document.querySelector('#df-7a177ca2-4065-4bd2-93c3-cecaa1db937f button.colab-df-convert');\n",
              "      buttonEl.style.display =\n",
              "        google.colab.kernel.accessAllowed ? 'block' : 'none';\n",
              "\n",
              "      async function convertToInteractive(key) {\n",
              "        const element = document.querySelector('#df-7a177ca2-4065-4bd2-93c3-cecaa1db937f');\n",
              "        const dataTable =\n",
              "          await google.colab.kernel.invokeFunction('convertToInteractive',\n",
              "                                                    [key], {});\n",
              "        if (!dataTable) return;\n",
              "\n",
              "        const docLinkHtml = 'Like what you see? Visit the ' +\n",
              "          '<a target=\"_blank\" href=https://colab.research.google.com/notebooks/data_table.ipynb>data table notebook</a>'\n",
              "          + ' to learn more about interactive tables.';\n",
              "        element.innerHTML = '';\n",
              "        dataTable['output_type'] = 'display_data';\n",
              "        await google.colab.output.renderOutput(dataTable, element);\n",
              "        const docLink = document.createElement('div');\n",
              "        docLink.innerHTML = docLinkHtml;\n",
              "        element.appendChild(docLink);\n",
              "      }\n",
              "    </script>\n",
              "  </div>\n",
              "\n",
              "\n",
              "<div id=\"df-4ed7589c-4184-4587-bb35-12ec6863a133\">\n",
              "  <button class=\"colab-df-quickchart\" onclick=\"quickchart('df-4ed7589c-4184-4587-bb35-12ec6863a133')\"\n",
              "            title=\"Suggest charts\"\n",
              "            style=\"display:none;\">\n",
              "\n",
              "<svg xmlns=\"http://www.w3.org/2000/svg\" height=\"24px\"viewBox=\"0 0 24 24\"\n",
              "     width=\"24px\">\n",
              "    <g>\n",
              "        <path d=\"M19 3H5c-1.1 0-2 .9-2 2v14c0 1.1.9 2 2 2h14c1.1 0 2-.9 2-2V5c0-1.1-.9-2-2-2zM9 17H7v-7h2v7zm4 0h-2V7h2v10zm4 0h-2v-4h2v4z\"/>\n",
              "    </g>\n",
              "</svg>\n",
              "  </button>\n",
              "\n",
              "<style>\n",
              "  .colab-df-quickchart {\n",
              "      --bg-color: #E8F0FE;\n",
              "      --fill-color: #1967D2;\n",
              "      --hover-bg-color: #E2EBFA;\n",
              "      --hover-fill-color: #174EA6;\n",
              "      --disabled-fill-color: #AAA;\n",
              "      --disabled-bg-color: #DDD;\n",
              "  }\n",
              "\n",
              "  [theme=dark] .colab-df-quickchart {\n",
              "      --bg-color: #3B4455;\n",
              "      --fill-color: #D2E3FC;\n",
              "      --hover-bg-color: #434B5C;\n",
              "      --hover-fill-color: #FFFFFF;\n",
              "      --disabled-bg-color: #3B4455;\n",
              "      --disabled-fill-color: #666;\n",
              "  }\n",
              "\n",
              "  .colab-df-quickchart {\n",
              "    background-color: var(--bg-color);\n",
              "    border: none;\n",
              "    border-radius: 50%;\n",
              "    cursor: pointer;\n",
              "    display: none;\n",
              "    fill: var(--fill-color);\n",
              "    height: 32px;\n",
              "    padding: 0;\n",
              "    width: 32px;\n",
              "  }\n",
              "\n",
              "  .colab-df-quickchart:hover {\n",
              "    background-color: var(--hover-bg-color);\n",
              "    box-shadow: 0 1px 2px rgba(60, 64, 67, 0.3), 0 1px 3px 1px rgba(60, 64, 67, 0.15);\n",
              "    fill: var(--button-hover-fill-color);\n",
              "  }\n",
              "\n",
              "  .colab-df-quickchart-complete:disabled,\n",
              "  .colab-df-quickchart-complete:disabled:hover {\n",
              "    background-color: var(--disabled-bg-color);\n",
              "    fill: var(--disabled-fill-color);\n",
              "    box-shadow: none;\n",
              "  }\n",
              "\n",
              "  .colab-df-spinner {\n",
              "    border: 2px solid var(--fill-color);\n",
              "    border-color: transparent;\n",
              "    border-bottom-color: var(--fill-color);\n",
              "    animation:\n",
              "      spin 1s steps(1) infinite;\n",
              "  }\n",
              "\n",
              "  @keyframes spin {\n",
              "    0% {\n",
              "      border-color: transparent;\n",
              "      border-bottom-color: var(--fill-color);\n",
              "      border-left-color: var(--fill-color);\n",
              "    }\n",
              "    20% {\n",
              "      border-color: transparent;\n",
              "      border-left-color: var(--fill-color);\n",
              "      border-top-color: var(--fill-color);\n",
              "    }\n",
              "    30% {\n",
              "      border-color: transparent;\n",
              "      border-left-color: var(--fill-color);\n",
              "      border-top-color: var(--fill-color);\n",
              "      border-right-color: var(--fill-color);\n",
              "    }\n",
              "    40% {\n",
              "      border-color: transparent;\n",
              "      border-right-color: var(--fill-color);\n",
              "      border-top-color: var(--fill-color);\n",
              "    }\n",
              "    60% {\n",
              "      border-color: transparent;\n",
              "      border-right-color: var(--fill-color);\n",
              "    }\n",
              "    80% {\n",
              "      border-color: transparent;\n",
              "      border-right-color: var(--fill-color);\n",
              "      border-bottom-color: var(--fill-color);\n",
              "    }\n",
              "    90% {\n",
              "      border-color: transparent;\n",
              "      border-bottom-color: var(--fill-color);\n",
              "    }\n",
              "  }\n",
              "</style>\n",
              "\n",
              "  <script>\n",
              "    async function quickchart(key) {\n",
              "      const quickchartButtonEl =\n",
              "        document.querySelector('#' + key + ' button');\n",
              "      quickchartButtonEl.disabled = true;  // To prevent multiple clicks.\n",
              "      quickchartButtonEl.classList.add('colab-df-spinner');\n",
              "      try {\n",
              "        const charts = await google.colab.kernel.invokeFunction(\n",
              "            'suggestCharts', [key], {});\n",
              "      } catch (error) {\n",
              "        console.error('Error during call to suggestCharts:', error);\n",
              "      }\n",
              "      quickchartButtonEl.classList.remove('colab-df-spinner');\n",
              "      quickchartButtonEl.classList.add('colab-df-quickchart-complete');\n",
              "    }\n",
              "    (() => {\n",
              "      let quickchartButtonEl =\n",
              "        document.querySelector('#df-4ed7589c-4184-4587-bb35-12ec6863a133 button');\n",
              "      quickchartButtonEl.style.display =\n",
              "        google.colab.kernel.accessAllowed ? 'block' : 'none';\n",
              "    })();\n",
              "  </script>\n",
              "</div>\n",
              "    </div>\n",
              "  </div>\n"
            ],
            "application/vnd.google.colaboratory.intrinsic+json": {
              "type": "dataframe",
              "summary": "{\n  \"name\": \"data\",\n  \"rows\": 5,\n  \"fields\": [\n    {\n      \"column\": \"File\",\n      \"properties\": {\n        \"dtype\": \"string\",\n        \"num_unique_values\": 5,\n        \"samples\": [\n          \"CCGRCG11216\",\n          \"CCGRCG11219\",\n          \"CCGRCG11217\"\n        ],\n        \"semantic_type\": \"\",\n        \"description\": \"\"\n      }\n    },\n    {\n      \"column\": \"Area\",\n      \"properties\": {\n        \"dtype\": \"number\",\n        \"std\": 395.0220379084354,\n        \"min\": 3.75,\n        \"max\": 711.59,\n        \"num_unique_values\": 3,\n        \"samples\": [\n          711.59,\n          53.78,\n          3.75\n        ],\n        \"semantic_type\": \"\",\n        \"description\": \"\"\n      }\n    },\n    {\n      \"column\": \"Delay\",\n      \"properties\": {\n        \"dtype\": \"number\",\n        \"std\": 394.1274872846771,\n        \"min\": 80.42,\n        \"max\": 861.13,\n        \"num_unique_values\": 3,\n        \"samples\": [\n          861.13,\n          376.55,\n          80.42\n        ],\n        \"semantic_type\": \"\",\n        \"description\": \"\"\n      }\n    }\n  ]\n}"
            }
          },
          "metadata": {},
          "execution_count": 5
        }
      ]
    },
    {
      "cell_type": "markdown",
      "source": [
        "### Загрузим графы"
      ],
      "metadata": {
        "id": "O_EclLmxihYl"
      },
      "id": "O_EclLmxihYl"
    },
    {
      "cell_type": "code",
      "execution_count": 6,
      "id": "e63bbd80-c229-4350-b546-ff29c6d1aea5",
      "metadata": {
        "id": "e63bbd80-c229-4350-b546-ff29c6d1aea5"
      },
      "outputs": [],
      "source": [
        "# Загрузка графов из файлов graphml в список\n",
        "graphs_dict = {}\n",
        "for filename in os.listdir('/content/drive/MyDrive/1799/10_graphs'):\n",
        "    if filename.endswith('.graphml'):\n",
        "        graph = nx.read_graphml(os.path.join('/content/drive/MyDrive/1799/10_graphs', filename))\n",
        "        graphs_dict[filename.split('.graphml')[0]] = graph"
      ]
    },
    {
      "cell_type": "code",
      "source": [
        "graphs_dict['CCGRCG8']"
      ],
      "metadata": {
        "colab": {
          "base_uri": "https://localhost:8080/"
        },
        "id": "B4h4g1IBi9kh",
        "outputId": "d58745f0-b637-4ec3-fc9a-18fa49bcbf91"
      },
      "id": "B4h4g1IBi9kh",
      "execution_count": 7,
      "outputs": [
        {
          "output_type": "execute_result",
          "data": {
            "text/plain": [
              "<networkx.classes.digraph.DiGraph at 0x7b5bbcc4c7f0>"
            ]
          },
          "metadata": {},
          "execution_count": 7
        }
      ]
    },
    {
      "cell_type": "code",
      "source": [
        "print(\"Количество узлов:\", graphs_dict['CCGRCG8'].number_of_nodes())\n",
        "print(\"Количество рёбер:\", graphs_dict['CCGRCG8'].number_of_edges())\n",
        "print(\"Все узлы графа:\", list(graphs_dict['CCGRCG8'].nodes()))\n",
        "print(\"Все рёбра графа:\", list(graphs_dict['CCGRCG8'].edges()))"
      ],
      "metadata": {
        "colab": {
          "base_uri": "https://localhost:8080/"
        },
        "id": "tJG3gbO4i6Gk",
        "outputId": "abaa416b-5f65-45fa-fc46-1ea958f88dbe"
      },
      "id": "tJG3gbO4i6Gk",
      "execution_count": 8,
      "outputs": [
        {
          "output_type": "stream",
          "name": "stdout",
          "text": [
            "Количество узлов: 12\n",
            "Количество рёбер: 10\n",
            "Все узлы графа: ['x0', 'f1', 'f2', 'f3', 'f4', 'f5', 'assign0', 'assign1', 'assign2', 'assign3', 'assign4', ' ']\n",
            "Все рёбра графа: [('x0', 'assign4'), ('assign0', 'f3'), ('assign1', 'f4'), ('assign2', 'f5'), ('assign3', 'f1'), ('assign4', 'f2'), (' ', 'assign0'), (' ', 'assign1'), (' ', 'assign2'), (' ', 'assign3')]\n"
          ]
        }
      ]
    },
    {
      "cell_type": "markdown",
      "source": [
        "### Преобразуем графы в матрицы смежности"
      ],
      "metadata": {
        "id": "rkOArszDilVv"
      },
      "id": "rkOArszDilVv"
    },
    {
      "cell_type": "code",
      "execution_count": 9,
      "id": "571e042f-4a2a-495c-86fe-4c59a3e68d59",
      "metadata": {
        "id": "571e042f-4a2a-495c-86fe-4c59a3e68d59"
      },
      "outputs": [],
      "source": [
        "# Обновление значений в словаре graphs_dict\n",
        "for key, graph in graphs_dict.items():\n",
        "    # Преобразуйте граф в матрицу смежности\n",
        "    adjacency_matrix = nx.adjacency_matrix(graph).todense()\n",
        "    graphs_dict[key] = adjacency_matrix"
      ]
    },
    {
      "cell_type": "markdown",
      "source": [
        "## Приведем графы к единому размеру"
      ],
      "metadata": {
        "id": "XqCZkoOEitfl"
      },
      "id": "XqCZkoOEitfl"
    },
    {
      "cell_type": "code",
      "source": [
        "# Определение максимального размера матрицы\n",
        "max_size = max(graph.shape[0] for key, graph in graphs_dict.items())"
      ],
      "metadata": {
        "id": "bPnV4AfOgVk2"
      },
      "id": "bPnV4AfOgVk2",
      "execution_count": 10,
      "outputs": []
    },
    {
      "cell_type": "code",
      "execution_count": 11,
      "id": "c02120ad-0f42-4513-ad0d-0b50518f4ac6",
      "metadata": {
        "id": "c02120ad-0f42-4513-ad0d-0b50518f4ac6"
      },
      "outputs": [],
      "source": [
        "# Дополнение всех матриц нулями до максимального размера\n",
        "matrices_padded = []\n",
        "for key, X in graphs_dict.items():\n",
        "    num_pad_rows = max_size - X.shape[0]\n",
        "    if num_pad_rows > 0:\n",
        "        X_padded = np.pad(X, ((0, num_pad_rows), (0, num_pad_rows)), mode='constant')\n",
        "    else:\n",
        "        X_padded = X\n",
        "    graphs_dict[key] = X_padded"
      ]
    },
    {
      "cell_type": "markdown",
      "source": [
        "## Разделим данные на обучающую и тестовую выборки"
      ],
      "metadata": {
        "id": "xyRAEcMYjbXU"
      },
      "id": "xyRAEcMYjbXU"
    },
    {
      "cell_type": "code",
      "source": [
        "# Создаем список для хранения матричных представлений файлов\n",
        "X = []\n",
        "# Создаем список для хранения целевых переменных\n",
        "y = []\n",
        "\n",
        "# Проходимся по каждой строке в таблице\n",
        "for index, row in data.iterrows():\n",
        "    filename = row['File']\n",
        "    # Проверяем, есть ли матричное представление файла в graphs_dict\n",
        "    if filename in graphs_dict:\n",
        "        # Если да, добавляем матричное представление в X\n",
        "        X.append(graphs_dict[filename])\n",
        "        # И добавляем соответствующее значение целевой переменной в y\n",
        "        y.append(row['Delay'])\n",
        "\n",
        "# Преобразуем списки в numpy массивы, так как train_test_split ожидает массивы\n",
        "import numpy as np\n",
        "X = np.array(X)\n",
        "y = np.array(y)\n",
        "\n",
        "# Разделяем данные на тренировочный и тестовый датасеты\n",
        "X_train, X_test, y_train, y_test = train_test_split(X, y, test_size=0.2, random_state=42)\n",
        "\n",
        "# Теперь у вас есть X_train, X_test - матричные представления файлов,\n",
        "# и y_train, y_test - соответствующие им целевые переменные"
      ],
      "metadata": {
        "id": "kN9CCIQuMa5C"
      },
      "id": "kN9CCIQuMa5C",
      "execution_count": null,
      "outputs": []
    },
    {
      "cell_type": "code",
      "execution_count": null,
      "id": "ed36b034-b3a0-41ae-94b3-c54c5be56162",
      "metadata": {
        "id": "ed36b034-b3a0-41ae-94b3-c54c5be56162"
      },
      "outputs": [],
      "source": [
        "# Преобразование данных в тензоры PyTorch\n",
        "X_train = [torch.FloatTensor(X) for X in X_train]\n",
        "X_test = [torch.FloatTensor(X) for X in X_test]\n",
        "y_train = torch.FloatTensor(y_train.values)\n",
        "y_test = torch.FloatTensor(y_test.values)"
      ]
    },
    {
      "cell_type": "markdown",
      "source": [
        "## Создадим модель графовой нейронной сети"
      ],
      "metadata": {
        "id": "HUd3vCM4jf7y"
      },
      "id": "HUd3vCM4jf7y"
    },
    {
      "cell_type": "code",
      "execution_count": null,
      "id": "07b7eab5-16de-4248-821d-0851026920a1",
      "metadata": {
        "id": "07b7eab5-16de-4248-821d-0851026920a1"
      },
      "outputs": [],
      "source": [
        "# Определение модели GraphRNN\n",
        "class GraphRNN(nn.Module):\n",
        "    def __init__(self, input_size, hidden_size, output_size):\n",
        "        super(GraphRNN, self).__init__()\n",
        "        self.hidden_size = hidden_size\n",
        "        self.rnn = nn.RNN(input_size, hidden_size, batch_first=True)\n",
        "        self.fc = nn.Linear(hidden_size, output_size)\n",
        "\n",
        "    def forward(self, input_data, input_lengths):\n",
        "        # Подготовка входных данных для RNN\n",
        "        packed_input = nn.utils.rnn.pack_padded_sequence(input_data, input_lengths, batch_first=True, enforce_sorted=False)\n",
        "        # Прямой проход через RNN\n",
        "        packed_output, _ = self.rnn(packed_input)\n",
        "        # Распаковка выходных данных\n",
        "        output, _ = nn.utils.rnn.pad_packed_sequence(packed_output, batch_first=True)\n",
        "        # Преобразование выхода RNN к форме (batch_size, output_size)\n",
        "        output = self.fc(output[:, -1, :])\n",
        "        return output\n",
        "\n",
        "# Создание модели\n",
        "input_size = 32  # Для каждого узла графа мы используем единичное значение\n",
        "hidden_size = 64\n",
        "output_size = 1  # Например, для задачи регрессии\n",
        "model = GraphRNN(input_size, hidden_size, output_size)\n",
        "\n",
        "# Определение функции потерь и оптимизатора\n",
        "criterion = nn.MSELoss()\n",
        "optimizer = optim.Adam(model.parameters(), lr=0.001)"
      ]
    },
    {
      "cell_type": "markdown",
      "source": [
        "## Обучим нашу модель"
      ],
      "metadata": {
        "id": "QxIDKrHUjmOI"
      },
      "id": "QxIDKrHUjmOI"
    },
    {
      "cell_type": "code",
      "execution_count": null,
      "id": "ef635914-7d02-4185-afd2-19361c11278c",
      "metadata": {
        "id": "ef635914-7d02-4185-afd2-19361c11278c"
      },
      "outputs": [],
      "source": [
        "# Обучение модели\n",
        "epochs = 10\n",
        "for epoch in range(epochs):\n",
        "    model.train()  # Перевод модели в режим обучения\n",
        "    running_loss = 0.0\n",
        "    for X_batch, y_batch in zip(X_train, y_train):\n",
        "        optimizer.zero_grad()\n",
        "        # Исправление размерности входных данных\n",
        "        output = model(X_batch.unsqueeze(0), [X_batch.size(0)])\n",
        "        loss = criterion(output.squeeze(), y_batch)  # Убираем лишнюю размерность и вычисляем функцию потерь\n",
        "        loss.backward()\n",
        "        optimizer.step()\n",
        "        running_loss += loss.item()\n",
        "    print(f'Epoch [{epoch + 1}/{epochs}], Loss: {running_loss / len(X_train):.4f}')"
      ]
    },
    {
      "cell_type": "markdown",
      "source": [
        "## Оценим модель на тестовом наборе"
      ],
      "metadata": {
        "id": "LexPOvEAjpzy"
      },
      "id": "LexPOvEAjpzy"
    },
    {
      "cell_type": "code",
      "source": [
        "# Оценка модели на тестовом наборе\n",
        "model.eval()  # Перевод модели в режим оценки\n",
        "with torch.no_grad():\n",
        "    predictions = []\n",
        "    for X_batch in X_test:\n",
        "        output = model(X_batch.unsqueeze(0), [X_batch.size(0)])  # Расширяем размерность входа на 1 и передаем длину\n",
        "        predictions.append(output.squeeze().item())"
      ],
      "metadata": {
        "id": "h_bsqTdbjqBV"
      },
      "id": "h_bsqTdbjqBV",
      "execution_count": null,
      "outputs": []
    },
    {
      "cell_type": "markdown",
      "source": [
        "## Оценим полученные результаты"
      ],
      "metadata": {
        "id": "qB4k6hnRjqMO"
      },
      "id": "qB4k6hnRjqMO"
    },
    {
      "cell_type": "code",
      "source": [
        "# Оценка результатов\n",
        "predictions = np.array(predictions)\n",
        "mse = np.mean((predictions - y_test.numpy())**2)\n",
        "print(f'Mean Squared Error on Test Set: {mse:.4f}')"
      ],
      "metadata": {
        "id": "yFcByq75jqU1"
      },
      "id": "yFcByq75jqU1",
      "execution_count": null,
      "outputs": []
    },
    {
      "cell_type": "code",
      "source": [],
      "metadata": {
        "id": "bypvqJ8sJTdk"
      },
      "id": "bypvqJ8sJTdk",
      "execution_count": null,
      "outputs": []
    }
  ],
  "metadata": {
    "kernelspec": {
      "display_name": "Python 3 (ipykernel)",
      "language": "python",
      "name": "python3"
    },
    "language_info": {
      "codemirror_mode": {
        "name": "ipython",
        "version": 3
      },
      "file_extension": ".py",
      "mimetype": "text/x-python",
      "name": "python",
      "nbconvert_exporter": "python",
      "pygments_lexer": "ipython3",
      "version": "3.11.8"
    },
    "colab": {
      "provenance": []
    }
  },
  "nbformat": 4,
  "nbformat_minor": 5
}