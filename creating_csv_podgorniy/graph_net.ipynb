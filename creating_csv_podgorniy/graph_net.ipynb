{
 "cells": [
  {
   "cell_type": "markdown",
   "id": "6d8687dc-d366-43b5-b6a4-f00e70d65985",
   "metadata": {
    "id": "6d8687dc-d366-43b5-b6a4-f00e70d65985"
   },
   "source": [
    "# Реализация графовой нейронной сети для предсказания площади и задержи схем"
   ]
  },
  {
   "cell_type": "markdown",
   "id": "ExkDqET8h-aO",
   "metadata": {
    "id": "ExkDqET8h-aO"
   },
   "source": [
    "## Подключаем все необходимые библиотеки"
   ]
  },
  {
   "cell_type": "code",
   "execution_count": 4,
   "id": "09277823-b730-4529-8dea-f991e04fc159",
   "metadata": {
    "id": "09277823-b730-4529-8dea-f991e04fc159"
   },
   "outputs": [],
   "source": [
    "#Библиотеки\n",
    "import pandas as pd\n",
    "import networkx as nx\n",
    "import os\n",
    "import torch\n",
    "import torch.nn as nn\n",
    "import torch.optim as optim\n",
    "import numpy as np\n",
    "from sklearn.model_selection import train_test_split"
   ]
  },
  {
   "cell_type": "markdown",
   "id": "e7188c7b-96e9-4851-9cc6-243aa1e30173",
   "metadata": {
    "id": "e7188c7b-96e9-4851-9cc6-243aa1e30173"
   },
   "source": [
    "## Считываем и исследуем данные"
   ]
  },
  {
   "cell_type": "code",
   "execution_count": 2,
   "id": "wUUm84_vQT4c",
   "metadata": {
    "colab": {
     "base_uri": "https://localhost:8080/"
    },
    "id": "wUUm84_vQT4c",
    "outputId": "1e9547cb-a5d4-4d7f-a7d4-0ad483876e69"
   },
   "outputs": [
    {
     "ename": "ModuleNotFoundError",
     "evalue": "No module named 'google.colab'",
     "output_type": "error",
     "traceback": [
      "\u001b[1;31m---------------------------------------------------------------------------\u001b[0m",
      "\u001b[1;31mModuleNotFoundError\u001b[0m                       Traceback (most recent call last)",
      "Cell \u001b[1;32mIn[2], line 1\u001b[0m\n\u001b[1;32m----> 1\u001b[0m \u001b[38;5;28;01mfrom\u001b[39;00m \u001b[38;5;21;01mgoogle\u001b[39;00m\u001b[38;5;21;01m.\u001b[39;00m\u001b[38;5;21;01mcolab\u001b[39;00m \u001b[38;5;28;01mimport\u001b[39;00m drive\n\u001b[0;32m      2\u001b[0m drive\u001b[38;5;241m.\u001b[39mmount(\u001b[38;5;124m'\u001b[39m\u001b[38;5;124m/content/drive\u001b[39m\u001b[38;5;124m'\u001b[39m, force_remount\u001b[38;5;241m=\u001b[39m\u001b[38;5;28;01mTrue\u001b[39;00m)\n",
      "\u001b[1;31mModuleNotFoundError\u001b[0m: No module named 'google.colab'"
     ]
    }
   ],
   "source": [
    "from google.colab import drive\n",
    "drive.mount('/content/drive', force_remount=True)"
   ]
  },
  {
   "cell_type": "markdown",
   "id": "uDAh8MX3iLPp",
   "metadata": {
    "id": "uDAh8MX3iLPp"
   },
   "source": [
    "### Загрузим csv файл с названиями Файлов и целевыми переменными"
   ]
  },
  {
   "cell_type": "code",
   "execution_count": 5,
   "id": "a3380886-be85-44bb-8cff-f1efcade6d42",
   "metadata": {
    "id": "a3380886-be85-44bb-8cff-f1efcade6d42"
   },
   "outputs": [],
   "source": [
    "data = pd.read_csv('D:\\\\УЧЁБА\\\\ПРОЕКТ\\\\предсказание_схемы\\\\графы\\\\graphs_10.csv')\n",
    "#data1 = pd.read_csv('/графы/graphs_11.csv')\n",
    "#data2 = pd.read_csv('/графы/graphs_12.csv')"
   ]
  },
  {
   "cell_type": "markdown",
   "id": "8meGrQ4OiVMX",
   "metadata": {
    "id": "8meGrQ4OiVMX"
   },
   "source": [
    "### Посмотрим как выглядит наша таблица"
   ]
  },
  {
   "cell_type": "code",
   "execution_count": 6,
   "id": "KEOKz8Z3iTNI",
   "metadata": {
    "colab": {
     "base_uri": "https://localhost:8080/",
     "height": 206
    },
    "id": "KEOKz8Z3iTNI",
    "outputId": "0c823770-484b-4f88-d352-08f7b94ce94d"
   },
   "outputs": [
    {
     "data": {
      "text/html": [
       "<div>\n",
       "<style scoped>\n",
       "    .dataframe tbody tr th:only-of-type {\n",
       "        vertical-align: middle;\n",
       "    }\n",
       "\n",
       "    .dataframe tbody tr th {\n",
       "        vertical-align: top;\n",
       "    }\n",
       "\n",
       "    .dataframe thead th {\n",
       "        text-align: right;\n",
       "    }\n",
       "</style>\n",
       "<table border=\"1\" class=\"dataframe\">\n",
       "  <thead>\n",
       "    <tr style=\"text-align: right;\">\n",
       "      <th></th>\n",
       "      <th>File</th>\n",
       "      <th>Area</th>\n",
       "      <th>Delay</th>\n",
       "    </tr>\n",
       "  </thead>\n",
       "  <tbody>\n",
       "    <tr>\n",
       "      <th>11215</th>\n",
       "      <td>CCGRCG11215</td>\n",
       "      <td>711.59</td>\n",
       "      <td>861.13</td>\n",
       "    </tr>\n",
       "    <tr>\n",
       "      <th>11216</th>\n",
       "      <td>CCGRCG11216</td>\n",
       "      <td>53.78</td>\n",
       "      <td>376.55</td>\n",
       "    </tr>\n",
       "    <tr>\n",
       "      <th>11217</th>\n",
       "      <td>CCGRCG11217</td>\n",
       "      <td>3.75</td>\n",
       "      <td>80.42</td>\n",
       "    </tr>\n",
       "    <tr>\n",
       "      <th>11218</th>\n",
       "      <td>CCGRCG11218</td>\n",
       "      <td>NaN</td>\n",
       "      <td>NaN</td>\n",
       "    </tr>\n",
       "    <tr>\n",
       "      <th>11219</th>\n",
       "      <td>CCGRCG11219</td>\n",
       "      <td>NaN</td>\n",
       "      <td>NaN</td>\n",
       "    </tr>\n",
       "  </tbody>\n",
       "</table>\n",
       "</div>"
      ],
      "text/plain": [
       "              File    Area   Delay\n",
       "11215  CCGRCG11215  711.59  861.13\n",
       "11216  CCGRCG11216   53.78  376.55\n",
       "11217  CCGRCG11217    3.75   80.42\n",
       "11218  CCGRCG11218     NaN     NaN\n",
       "11219  CCGRCG11219     NaN     NaN"
      ]
     },
     "execution_count": 6,
     "metadata": {},
     "output_type": "execute_result"
    }
   ],
   "source": [
    "data.tail()"
   ]
  },
  {
   "cell_type": "markdown",
   "id": "O_EclLmxihYl",
   "metadata": {
    "id": "O_EclLmxihYl"
   },
   "source": [
    "### Загрузим графы"
   ]
  },
  {
   "cell_type": "code",
   "execution_count": 7,
   "id": "e63bbd80-c229-4350-b546-ff29c6d1aea5",
   "metadata": {
    "id": "e63bbd80-c229-4350-b546-ff29c6d1aea5"
   },
   "outputs": [],
   "source": [
    "# Загрузка графов из файлов graphml в список\n",
    "graphs_dict = {}\n",
    "for filename in os.listdir('D:\\\\УЧЁБА\\\\ПРОЕКТ\\\\предсказание_схемы\\\\графы\\\\gr_10\\\\10_graphs'):\n",
    "    if filename.endswith('.graphml'):\n",
    "        graph = nx.read_graphml(os.path.join('D:\\\\УЧЁБА\\\\ПРОЕКТ\\\\предсказание_схемы\\\\графы\\\\gr_10\\\\10_graphs', filename))\n",
    "        graphs_dict[filename.split('.graphml')[0]] = graph"
   ]
  },
  {
   "cell_type": "code",
   "execution_count": 8,
   "id": "B4h4g1IBi9kh",
   "metadata": {
    "colab": {
     "base_uri": "https://localhost:8080/"
    },
    "id": "B4h4g1IBi9kh",
    "outputId": "d58745f0-b637-4ec3-fc9a-18fa49bcbf91"
   },
   "outputs": [
    {
     "data": {
      "text/plain": [
       "<networkx.classes.digraph.DiGraph at 0x1271390ad30>"
      ]
     },
     "execution_count": 8,
     "metadata": {},
     "output_type": "execute_result"
    }
   ],
   "source": [
    "graphs_dict['CCGRCG8']"
   ]
  },
  {
   "cell_type": "code",
   "execution_count": 9,
   "id": "tJG3gbO4i6Gk",
   "metadata": {
    "colab": {
     "base_uri": "https://localhost:8080/"
    },
    "id": "tJG3gbO4i6Gk",
    "outputId": "abaa416b-5f65-45fa-fc46-1ea958f88dbe"
   },
   "outputs": [
    {
     "name": "stdout",
     "output_type": "stream",
     "text": [
      "Количество узлов: 12\n",
      "Количество рёбер: 10\n",
      "Все узлы графа: ['x0', 'f1', 'f2', 'f3', 'f4', 'f5', 'assign0', 'assign1', 'assign2', 'assign3', 'assign4', ' ']\n",
      "Все рёбра графа: [('x0', 'assign4'), ('assign0', 'f3'), ('assign1', 'f4'), ('assign2', 'f5'), ('assign3', 'f1'), ('assign4', 'f2'), (' ', 'assign0'), (' ', 'assign1'), (' ', 'assign2'), (' ', 'assign3')]\n"
     ]
    }
   ],
   "source": [
    "print(\"Количество узлов:\", graphs_dict['CCGRCG8'].number_of_nodes())\n",
    "print(\"Количество рёбер:\", graphs_dict['CCGRCG8'].number_of_edges())\n",
    "print(\"Все узлы графа:\", list(graphs_dict['CCGRCG8'].nodes()))\n",
    "print(\"Все рёбра графа:\", list(graphs_dict['CCGRCG8'].edges()))"
   ]
  },
  {
   "cell_type": "markdown",
   "id": "rkOArszDilVv",
   "metadata": {
    "id": "rkOArszDilVv"
   },
   "source": [
    "### Преобразуем графы в матрицы смежности"
   ]
  },
  {
   "cell_type": "code",
   "execution_count": 10,
   "id": "571e042f-4a2a-495c-86fe-4c59a3e68d59",
   "metadata": {
    "id": "571e042f-4a2a-495c-86fe-4c59a3e68d59"
   },
   "outputs": [
    {
     "name": "stderr",
     "output_type": "stream",
     "text": [
      "C:\\Users\\User\\AppData\\Local\\Temp\\ipykernel_20664\\753031970.py:4: FutureWarning: adjacency_matrix will return a scipy.sparse array instead of a matrix in Networkx 3.0.\n",
      "  adjacency_matrix = nx.adjacency_matrix(graph).todense()\n"
     ]
    }
   ],
   "source": [
    "# Обновление значений в словаре graphs_dict\n",
    "for key, graph in graphs_dict.items():\n",
    "    # Преобразуйте граф в матрицу смежности\n",
    "    adjacency_matrix = nx.adjacency_matrix(graph).todense()\n",
    "    graphs_dict[key] = adjacency_matrix"
   ]
  },
  {
   "cell_type": "markdown",
   "id": "XqCZkoOEitfl",
   "metadata": {
    "id": "XqCZkoOEitfl"
   },
   "source": [
    "## Приведем графы к единому размеру"
   ]
  },
  {
   "cell_type": "code",
   "execution_count": 11,
   "id": "bPnV4AfOgVk2",
   "metadata": {
    "id": "bPnV4AfOgVk2"
   },
   "outputs": [
    {
     "data": {
      "text/plain": [
       "227"
      ]
     },
     "execution_count": 11,
     "metadata": {},
     "output_type": "execute_result"
    }
   ],
   "source": [
    "# Определение максимального размера матрицы\n",
    "max_size = max(graph.shape[0] for key, graph in graphs_dict.items())\n",
    "max_size"
   ]
  },
  {
   "cell_type": "code",
   "execution_count": 12,
   "id": "c02120ad-0f42-4513-ad0d-0b50518f4ac6",
   "metadata": {
    "id": "c02120ad-0f42-4513-ad0d-0b50518f4ac6"
   },
   "outputs": [],
   "source": [
    "# Дополнение всех матриц нулями до максимального размера\n",
    "matrices_padded = []\n",
    "for key, X in graphs_dict.items():\n",
    "    num_pad_rows = max_size - X.shape[0]\n",
    "    if num_pad_rows > 0:\n",
    "        X_padded = np.pad(X, ((0, num_pad_rows), (0, num_pad_rows)), mode='constant')\n",
    "    else:\n",
    "        X_padded = X\n",
    "    graphs_dict[key] = X_padded"
   ]
  },
  {
   "cell_type": "markdown",
   "id": "xyRAEcMYjbXU",
   "metadata": {
    "id": "xyRAEcMYjbXU"
   },
   "source": [
    "## Разделим данные на обучающую и тестовую выборки"
   ]
  },
  {
   "cell_type": "code",
   "execution_count": 13,
   "id": "kN9CCIQuMa5C",
   "metadata": {
    "id": "kN9CCIQuMa5C"
   },
   "outputs": [],
   "source": [
    "# Создаем список для хранения матричных представлений файлов\n",
    "X = []\n",
    "# Создаем список для хранения целевых переменных\n",
    "y = []\n",
    "\n",
    "# Проходимся по каждой строке в таблице\n",
    "for index, row in data.iterrows():\n",
    "    filename = row['File']\n",
    "    # Проверяем, есть ли матричное представление файла в graphs_dict\n",
    "    if filename in graphs_dict:\n",
    "        # Если да, добавляем матричное представление в X\n",
    "        X.append(graphs_dict[filename])\n",
    "        # И добавляем соответствующее значение целевой переменной в y\n",
    "        y.append(row['Delay'])\n",
    "\n",
    "\n",
    "# Разделяем данные на тренировочный и тестовый датасеты\n",
    "X_train, X_test, y_train, y_test = train_test_split(X, y, test_size=0.2, random_state=42)\n",
    "\n",
    "# Теперь у вас есть X_train, X_test - матричные представления файлов,\n",
    "# и y_train, y_test - соответствующие им целевые переменные"
   ]
  },
  {
   "cell_type": "code",
   "execution_count": 14,
   "id": "d46ea3d2",
   "metadata": {},
   "outputs": [],
   "source": [
    "# Преобразование данных в тензоры PyTorch\n",
    "X_train = [torch.FloatTensor(X) for X in X_train]\n",
    "X_test = [torch.FloatTensor(X) for X in X_test]\n",
    "y_train = torch.FloatTensor(y_train)\n",
    "y_test = torch.FloatTensor(y_test)"
   ]
  },
  {
   "cell_type": "markdown",
   "id": "HUd3vCM4jf7y",
   "metadata": {
    "id": "HUd3vCM4jf7y"
   },
   "source": [
    "## Создадим модель графовой нейронной сети"
   ]
  },
  {
   "cell_type": "code",
   "execution_count": 15,
   "id": "07b7eab5-16de-4248-821d-0851026920a1",
   "metadata": {
    "id": "07b7eab5-16de-4248-821d-0851026920a1"
   },
   "outputs": [],
   "source": [
    "# Определение модели GraphRNN\n",
    "class GraphRNN(nn.Module):\n",
    "    def __init__(self, input_size, hidden_size, output_size):\n",
    "        super(GraphRNN, self).__init__()\n",
    "        self.hidden_size = hidden_size\n",
    "        self.rnn = nn.RNN(input_size, hidden_size, batch_first=True)\n",
    "        self.fc = nn.Linear(hidden_size, output_size)\n",
    "\n",
    "    def forward(self, input_data, input_lengths):\n",
    "        # Подготовка входных данных для RNN\n",
    "        packed_input = nn.utils.rnn.pack_padded_sequence(input_data, input_lengths, batch_first=True, enforce_sorted=False)\n",
    "        # Прямой проход через RNN\n",
    "        packed_output, _ = self.rnn(packed_input)\n",
    "        # Распаковка выходных данных\n",
    "        output, _ = nn.utils.rnn.pad_packed_sequence(packed_output, batch_first=True)\n",
    "        # Преобразование выхода RNN к форме (batch_size, output_size)\n",
    "        output = self.fc(output[:, -1, :])\n",
    "        return output\n",
    "\n",
    "# Создание модели\n",
    "input_size = 227  # Для каждого узла графа мы используем единичное значение\n",
    "hidden_size = 64\n",
    "output_size = 1  # Например, для задачи регрессии\n",
    "model = GraphRNN(input_size, hidden_size, output_size)\n",
    "\n",
    "# Определение функции потерь и оптимизатора\n",
    "criterion = nn.MSELoss()\n",
    "optimizer = optim.Adam(model.parameters(), lr=0.001)"
   ]
  },
  {
   "cell_type": "markdown",
   "id": "QxIDKrHUjmOI",
   "metadata": {
    "id": "QxIDKrHUjmOI"
   },
   "source": [
    "## Обучим нашу модель"
   ]
  },
  {
   "cell_type": "code",
   "execution_count": 19,
   "id": "ef635914-7d02-4185-afd2-19361c11278c",
   "metadata": {
    "id": "ef635914-7d02-4185-afd2-19361c11278c"
   },
   "outputs": [
    {
     "name": "stdout",
     "output_type": "stream",
     "text": [
      "Epoch [1/10], Loss: 11379152430668930.0000\n",
      "Epoch [2/10], Loss: 11379151320322290.0000\n",
      "Epoch [3/10], Loss: 11379150335100796.0000\n",
      "Epoch [4/10], Loss: 11379148896328516.0000\n",
      "Epoch [5/10], Loss: 11379147441929676.0000\n",
      "Epoch [6/10], Loss: 11379153267389606.0000\n",
      "Epoch [7/10], Loss: 11379150491430072.0000\n",
      "Epoch [8/10], Loss: 11379146339273548.0000\n",
      "Epoch [9/10], Loss: 11379156270142716.0000\n",
      "Epoch [10/10], Loss: 11379148356776090.0000\n"
     ]
    }
   ],
   "source": [
    "# Обучение модели\n",
    "epochs = 10\n",
    "for epoch in range(epochs):\n",
    "    model.train()  # Перевод модели в режим обучения\n",
    "    running_loss = 0.0\n",
    "    for X_batch, y_batch in zip(X_train, y_train):\n",
    "        optimizer.zero_grad()\n",
    "        # Исправление размерности входных данных\n",
    "        output = model(X_batch.unsqueeze(0), [X_batch.size(0)])\n",
    "        loss = criterion(output.squeeze(), y_batch)  # Убираем лишнюю размерность и вычисляем функцию потерь\n",
    "        loss.backward()\n",
    "        optimizer.step()\n",
    "        running_loss += loss.item()\n",
    "    print(f'Epoch [{epoch + 1}/{epochs}], Loss: {running_loss / len(X_train):.4f}')"
   ]
  },
  {
   "cell_type": "markdown",
   "id": "LexPOvEAjpzy",
   "metadata": {
    "id": "LexPOvEAjpzy"
   },
   "source": [
    "## Оценим модель на тестовом наборе"
   ]
  },
  {
   "cell_type": "code",
   "execution_count": 20,
   "id": "h_bsqTdbjqBV",
   "metadata": {
    "id": "h_bsqTdbjqBV"
   },
   "outputs": [],
   "source": [
    "# Оценка модели на тестовом наборе\n",
    "model.eval()  # Перевод модели в режим оценки\n",
    "with torch.no_grad():\n",
    "    predictions = []\n",
    "    for X_batch in X_test:\n",
    "        output = model(X_batch.unsqueeze(0), [X_batch.size(0)])  # Расширяем размерность входа на 1 и передаем длину\n",
    "        predictions.append(output.squeeze().item())"
   ]
  },
  {
   "cell_type": "markdown",
   "id": "qB4k6hnRjqMO",
   "metadata": {
    "id": "qB4k6hnRjqMO"
   },
   "source": [
    "## Оценим полученные результаты"
   ]
  },
  {
   "cell_type": "code",
   "execution_count": 22,
   "id": "yFcByq75jqU1",
   "metadata": {
    "id": "yFcByq75jqU1"
   },
   "outputs": [
    {
     "name": "stdout",
     "output_type": "stream",
     "text": [
      "Mean Squared Error on Test Set: 8644215998319529.0000\n",
      "Mean Average Error on Test Set: 8643566.8135\n"
     ]
    }
   ],
   "source": [
    "# Оценка результатов\n",
    "predictions = np.array(predictions)\n",
    "mse = np.mean((predictions - y_test.numpy())**2)\n",
    "mae = np.mean(predictions - y_test.numpy())\n",
    "print(f'Mean Squared Error on Test Set: {mse:.4f}')\n",
    "print(f'Mean Average Error on Test Set: {mae:.4f}')"
   ]
  },
  {
   "cell_type": "markdown",
   "id": "98ca2695",
   "metadata": {
    "id": "bypvqJ8sJTdk"
   },
   "source": [
    "## Используем теперь как функцию потерь MAPE"
   ]
  },
  {
   "cell_type": "code",
   "execution_count": 16,
   "id": "3b198ddb",
   "metadata": {},
   "outputs": [],
   "source": [
    "class MAPELoss(nn.Module):\n",
    "    def __init__(self):\n",
    "        super(MAPELoss, self).__init__()\n",
    "\n",
    "    def forward(self, y_true, y_pred):\n",
    "        epsilon = 1e-10  # Защита от деления на ноль\n",
    "        return torch.mean(torch.abs((y_true - y_pred) / (y_true + epsilon))) * 100\n",
    "\n",
    "# Создание модели\n",
    "input_size = 227  # Для каждого узла графа мы используем единичное значение\n",
    "hidden_size = 64\n",
    "output_size = 1  # Например, для задачи регрессии\n",
    "model = GraphRNN(input_size, hidden_size, output_size)\n",
    "\n",
    "# Определение функции потерь MAPE и оптимизатора\n",
    "loss_fn = MAPELoss()\n",
    "optimizer = optim.Adam(model.parameters(), lr=0.001)"
   ]
  },
  {
   "cell_type": "markdown",
   "id": "54a11ddb",
   "metadata": {},
   "source": [
    "## Обучение"
   ]
  },
  {
   "cell_type": "code",
   "execution_count": 18,
   "id": "889e7548",
   "metadata": {},
   "outputs": [
    {
     "name": "stdout",
     "output_type": "stream",
     "text": [
      "Epoch [1/10], Loss: 14539165.4239\n",
      "Epoch [2/10], Loss: 11020122.5685\n",
      "Epoch [3/10], Loss: 7289202.8703\n",
      "Epoch [4/10], Loss: 5374917.9771\n",
      "Epoch [5/10], Loss: 4242915.1269\n",
      "Epoch [6/10], Loss: 3498803.5236\n",
      "Epoch [7/10], Loss: 2973771.0136\n",
      "Epoch [8/10], Loss: 2584113.8500\n",
      "Epoch [9/10], Loss: 2283770.8096\n",
      "Epoch [10/10], Loss: 2045359.8505\n"
     ]
    }
   ],
   "source": [
    "# Обучение модели\n",
    "epochs = 10\n",
    "for epoch in range(epochs):\n",
    "    model.train()  # Перевод модели в режим обучения\n",
    "    running_loss = 0.0\n",
    "    for X_batch, y_batch in zip(X_train, y_train):\n",
    "        optimizer.zero_grad()\n",
    "        # Исправление размерности входных данных\n",
    "        output = model(X_batch.unsqueeze(0), [X_batch.size(0)])\n",
    "        loss = loss_fn(output.squeeze(), y_batch)  # Вычисление функции потерь MAPE\n",
    "        loss.backward()\n",
    "        optimizer.step()\n",
    "        running_loss += loss.item()\n",
    "    print(f'Epoch [{epoch + 1}/{epochs}], Loss: {running_loss / len(X_train):.4f}')\n"
   ]
  },
  {
   "cell_type": "markdown",
   "id": "98c9d902",
   "metadata": {},
   "source": [
    "## Оценим модель на тестовом наборе"
   ]
  },
  {
   "cell_type": "code",
   "execution_count": 19,
   "id": "0e10056b",
   "metadata": {},
   "outputs": [],
   "source": [
    "# Оценка модели на тестовом наборе\n",
    "model.eval()  # Перевод модели в режим оценки\n",
    "with torch.no_grad():\n",
    "    predictions = []\n",
    "    for X_batch in X_test:\n",
    "        output = model(X_batch.unsqueeze(0), [X_batch.size(0)])  # Расширяем размерность входа на 1 и передаем длину\n",
    "        predictions.append(output.squeeze().item())"
   ]
  },
  {
   "cell_type": "markdown",
   "id": "7087b042",
   "metadata": {},
   "source": [
    "## Оценим полученные результаты"
   ]
  },
  {
   "cell_type": "code",
   "execution_count": 20,
   "id": "cabce110",
   "metadata": {},
   "outputs": [
    {
     "name": "stdout",
     "output_type": "stream",
     "text": [
      "Mean Absolute Percentage Error on Test Set: 290.0938%\n"
     ]
    }
   ],
   "source": [
    "# Оценка результатов\n",
    "predictions = np.array(predictions)\n",
    "mape = np.mean(np.abs((predictions - y_test.numpy()) / y_test.numpy())) * 100\n",
    "print(f'Mean Absolute Percentage Error on Test Set: {mape:.4f}%')"
   ]
  }
 ],
 "metadata": {
  "colab": {
   "provenance": []
  },
  "kernelspec": {
   "display_name": "Python 3 (ipykernel)",
   "language": "python",
   "name": "python3"
  },
  "language_info": {
   "codemirror_mode": {
    "name": "ipython",
    "version": 3
   },
   "file_extension": ".py",
   "mimetype": "text/x-python",
   "name": "python",
   "nbconvert_exporter": "python",
   "pygments_lexer": "ipython3",
   "version": "3.9.2"
  }
 },
 "nbformat": 4,
 "nbformat_minor": 5
}
