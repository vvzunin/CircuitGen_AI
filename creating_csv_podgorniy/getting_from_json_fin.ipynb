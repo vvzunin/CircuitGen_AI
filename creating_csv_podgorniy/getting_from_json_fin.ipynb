{
 "cells": [
  {
   "cell_type": "code",
   "execution_count": null,
   "id": "470638ca",
   "metadata": {},
   "outputs": [],
   "source": [
    "import json\n",
    "import os\n",
    "import pandas as pd\n",
    "import matplotlib.pyplot as plt"
   ]
  },
  {
   "cell_type": "markdown",
   "id": "04d9d736",
   "metadata": {},
   "source": [
    "## Вместо PATH указываем путь к папке с файлами датасета"
   ]
  },
  {
   "cell_type": "code",
   "execution_count": null,
   "id": "80a931bf",
   "metadata": {},
   "outputs": [],
   "source": [
    "area = []\n",
    "delay = []\n",
    "no_data = []\n",
    "file_name = []\n",
    "path = 'PATH'"
   ]
  },
  {
   "cell_type": "markdown",
   "id": "61d61c52",
   "metadata": {},
   "source": [
    "## Значению переменной File_numb присваиваем количество схем в датасете"
   ]
  },
  {
   "cell_type": "code",
   "execution_count": null,
   "id": "652db5bd",
   "metadata": {},
   "outputs": [],
   "source": [
    "File_numb = XXXXXX\n",
    "for i in range(File_numb):\n",
    "    c = path + '\\\\CCGRCG' + str(i) + '\\\\CCGRCG' + str(i) + '.json'\n",
    "    file_name.append('CCGRCG' + str(i))\n",
    "    if os.path.isfile(c):\n",
    "        with open(c, 'r') as data:\n",
    "            d = json.load(data)\n",
    "            if \"abcStatsBalance\" in d and \"area\" in d[\"abcStatsBalance\"] and \"delay\" in d[\"abcStatsBalance\"]:\n",
    "                area.append(d[\"abcStatsBalance\"][\"area\"])\n",
    "                delay.append(d[\"abcStatsBalance\"][\"delay\"])\n",
    "            else:\n",
    "                area.append(None)\n",
    "                delay.append(None)\n",
    "                no_data.append(i)\n",
    "    else:\n",
    "        area.append(None)\n",
    "        delay.append(None)\n",
    "        no_data.append(i)"
   ]
  },
  {
   "cell_type": "markdown",
   "id": "8faf3b5a",
   "metadata": {},
   "source": [
    "## Создаем csv файл с нашими данными (задаем название NAME.csv сами)"
   ]
  },
  {
   "cell_type": "code",
   "execution_count": null,
   "id": "d5634b13",
   "metadata": {},
   "outputs": [],
   "source": [
    "df = pd.DataFrame({\n",
    "    'File': file_name,\n",
    "    'Area': area,\n",
    "    'Delay': delay\n",
    "})\n",
    "\n",
    "df.to_csv('NAME.csv', index=False)"
   ]
  }
 ],
 "metadata": {
  "kernelspec": {
   "display_name": "Python 3 (ipykernel)",
   "language": "python",
   "name": "python3"
  },
  "language_info": {
   "codemirror_mode": {
    "name": "ipython",
    "version": 3
   },
   "file_extension": ".py",
   "mimetype": "text/x-python",
   "name": "python",
   "nbconvert_exporter": "python",
   "pygments_lexer": "ipython3",
   "version": "3.9.2"
  }
 },
 "nbformat": 4,
 "nbformat_minor": 5
}
