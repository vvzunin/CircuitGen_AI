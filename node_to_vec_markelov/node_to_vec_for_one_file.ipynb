{
  "nbformat": 4,
  "nbformat_minor": 0,
  "metadata": {
    "colab": {
      "provenance": []
    },
    "kernelspec": {
      "name": "python3",
      "display_name": "Python 3"
    },
    "language_info": {
      "name": "python"
    },
    "widgets": {
      "application/vnd.jupyter.widget-state+json": {
        "568c0a08e080420e8180b8e7ef459ac4": {
          "model_module": "@jupyter-widgets/controls",
          "model_name": "HBoxModel",
          "model_module_version": "1.5.0",
          "state": {
            "_dom_classes": [],
            "_model_module": "@jupyter-widgets/controls",
            "_model_module_version": "1.5.0",
            "_model_name": "HBoxModel",
            "_view_count": null,
            "_view_module": "@jupyter-widgets/controls",
            "_view_module_version": "1.5.0",
            "_view_name": "HBoxView",
            "box_style": "",
            "children": [
              "IPY_MODEL_68179e5a196c4781977658a6b70c8148",
              "IPY_MODEL_56aacdf0e3b34476a56571d10fb1a7eb",
              "IPY_MODEL_423a18d6b6554b96bb67c9929d13d76d"
            ],
            "layout": "IPY_MODEL_3713b52e6c504cca8a9af5d9020d2123"
          }
        },
        "68179e5a196c4781977658a6b70c8148": {
          "model_module": "@jupyter-widgets/controls",
          "model_name": "HTMLModel",
          "model_module_version": "1.5.0",
          "state": {
            "_dom_classes": [],
            "_model_module": "@jupyter-widgets/controls",
            "_model_module_version": "1.5.0",
            "_model_name": "HTMLModel",
            "_view_count": null,
            "_view_module": "@jupyter-widgets/controls",
            "_view_module_version": "1.5.0",
            "_view_name": "HTMLView",
            "description": "",
            "description_tooltip": null,
            "layout": "IPY_MODEL_5847ef06625f4b17b79448b08ddd2dbe",
            "placeholder": "​",
            "style": "IPY_MODEL_cd569541514c471a80e576c0844a7b64",
            "value": "Computing transition probabilities: 100%"
          }
        },
        "56aacdf0e3b34476a56571d10fb1a7eb": {
          "model_module": "@jupyter-widgets/controls",
          "model_name": "FloatProgressModel",
          "model_module_version": "1.5.0",
          "state": {
            "_dom_classes": [],
            "_model_module": "@jupyter-widgets/controls",
            "_model_module_version": "1.5.0",
            "_model_name": "FloatProgressModel",
            "_view_count": null,
            "_view_module": "@jupyter-widgets/controls",
            "_view_module_version": "1.5.0",
            "_view_name": "ProgressView",
            "bar_style": "success",
            "description": "",
            "description_tooltip": null,
            "layout": "IPY_MODEL_9422af574da348eaab06a2d04286e79d",
            "max": 17,
            "min": 0,
            "orientation": "horizontal",
            "style": "IPY_MODEL_3fa2b4ade8144f05bb080b2753a8d434",
            "value": 17
          }
        },
        "423a18d6b6554b96bb67c9929d13d76d": {
          "model_module": "@jupyter-widgets/controls",
          "model_name": "HTMLModel",
          "model_module_version": "1.5.0",
          "state": {
            "_dom_classes": [],
            "_model_module": "@jupyter-widgets/controls",
            "_model_module_version": "1.5.0",
            "_model_name": "HTMLModel",
            "_view_count": null,
            "_view_module": "@jupyter-widgets/controls",
            "_view_module_version": "1.5.0",
            "_view_name": "HTMLView",
            "description": "",
            "description_tooltip": null,
            "layout": "IPY_MODEL_18be055c84e14933a3bdcc588a404989",
            "placeholder": "​",
            "style": "IPY_MODEL_c7ad0ec70c0a4eab8d519a5707b89944",
            "value": " 17/17 [00:00&lt;00:00, 552.68it/s]"
          }
        },
        "3713b52e6c504cca8a9af5d9020d2123": {
          "model_module": "@jupyter-widgets/base",
          "model_name": "LayoutModel",
          "model_module_version": "1.2.0",
          "state": {
            "_model_module": "@jupyter-widgets/base",
            "_model_module_version": "1.2.0",
            "_model_name": "LayoutModel",
            "_view_count": null,
            "_view_module": "@jupyter-widgets/base",
            "_view_module_version": "1.2.0",
            "_view_name": "LayoutView",
            "align_content": null,
            "align_items": null,
            "align_self": null,
            "border": null,
            "bottom": null,
            "display": null,
            "flex": null,
            "flex_flow": null,
            "grid_area": null,
            "grid_auto_columns": null,
            "grid_auto_flow": null,
            "grid_auto_rows": null,
            "grid_column": null,
            "grid_gap": null,
            "grid_row": null,
            "grid_template_areas": null,
            "grid_template_columns": null,
            "grid_template_rows": null,
            "height": null,
            "justify_content": null,
            "justify_items": null,
            "left": null,
            "margin": null,
            "max_height": null,
            "max_width": null,
            "min_height": null,
            "min_width": null,
            "object_fit": null,
            "object_position": null,
            "order": null,
            "overflow": null,
            "overflow_x": null,
            "overflow_y": null,
            "padding": null,
            "right": null,
            "top": null,
            "visibility": null,
            "width": null
          }
        },
        "5847ef06625f4b17b79448b08ddd2dbe": {
          "model_module": "@jupyter-widgets/base",
          "model_name": "LayoutModel",
          "model_module_version": "1.2.0",
          "state": {
            "_model_module": "@jupyter-widgets/base",
            "_model_module_version": "1.2.0",
            "_model_name": "LayoutModel",
            "_view_count": null,
            "_view_module": "@jupyter-widgets/base",
            "_view_module_version": "1.2.0",
            "_view_name": "LayoutView",
            "align_content": null,
            "align_items": null,
            "align_self": null,
            "border": null,
            "bottom": null,
            "display": null,
            "flex": null,
            "flex_flow": null,
            "grid_area": null,
            "grid_auto_columns": null,
            "grid_auto_flow": null,
            "grid_auto_rows": null,
            "grid_column": null,
            "grid_gap": null,
            "grid_row": null,
            "grid_template_areas": null,
            "grid_template_columns": null,
            "grid_template_rows": null,
            "height": null,
            "justify_content": null,
            "justify_items": null,
            "left": null,
            "margin": null,
            "max_height": null,
            "max_width": null,
            "min_height": null,
            "min_width": null,
            "object_fit": null,
            "object_position": null,
            "order": null,
            "overflow": null,
            "overflow_x": null,
            "overflow_y": null,
            "padding": null,
            "right": null,
            "top": null,
            "visibility": null,
            "width": null
          }
        },
        "cd569541514c471a80e576c0844a7b64": {
          "model_module": "@jupyter-widgets/controls",
          "model_name": "DescriptionStyleModel",
          "model_module_version": "1.5.0",
          "state": {
            "_model_module": "@jupyter-widgets/controls",
            "_model_module_version": "1.5.0",
            "_model_name": "DescriptionStyleModel",
            "_view_count": null,
            "_view_module": "@jupyter-widgets/base",
            "_view_module_version": "1.2.0",
            "_view_name": "StyleView",
            "description_width": ""
          }
        },
        "9422af574da348eaab06a2d04286e79d": {
          "model_module": "@jupyter-widgets/base",
          "model_name": "LayoutModel",
          "model_module_version": "1.2.0",
          "state": {
            "_model_module": "@jupyter-widgets/base",
            "_model_module_version": "1.2.0",
            "_model_name": "LayoutModel",
            "_view_count": null,
            "_view_module": "@jupyter-widgets/base",
            "_view_module_version": "1.2.0",
            "_view_name": "LayoutView",
            "align_content": null,
            "align_items": null,
            "align_self": null,
            "border": null,
            "bottom": null,
            "display": null,
            "flex": null,
            "flex_flow": null,
            "grid_area": null,
            "grid_auto_columns": null,
            "grid_auto_flow": null,
            "grid_auto_rows": null,
            "grid_column": null,
            "grid_gap": null,
            "grid_row": null,
            "grid_template_areas": null,
            "grid_template_columns": null,
            "grid_template_rows": null,
            "height": null,
            "justify_content": null,
            "justify_items": null,
            "left": null,
            "margin": null,
            "max_height": null,
            "max_width": null,
            "min_height": null,
            "min_width": null,
            "object_fit": null,
            "object_position": null,
            "order": null,
            "overflow": null,
            "overflow_x": null,
            "overflow_y": null,
            "padding": null,
            "right": null,
            "top": null,
            "visibility": null,
            "width": null
          }
        },
        "3fa2b4ade8144f05bb080b2753a8d434": {
          "model_module": "@jupyter-widgets/controls",
          "model_name": "ProgressStyleModel",
          "model_module_version": "1.5.0",
          "state": {
            "_model_module": "@jupyter-widgets/controls",
            "_model_module_version": "1.5.0",
            "_model_name": "ProgressStyleModel",
            "_view_count": null,
            "_view_module": "@jupyter-widgets/base",
            "_view_module_version": "1.2.0",
            "_view_name": "StyleView",
            "bar_color": null,
            "description_width": ""
          }
        },
        "18be055c84e14933a3bdcc588a404989": {
          "model_module": "@jupyter-widgets/base",
          "model_name": "LayoutModel",
          "model_module_version": "1.2.0",
          "state": {
            "_model_module": "@jupyter-widgets/base",
            "_model_module_version": "1.2.0",
            "_model_name": "LayoutModel",
            "_view_count": null,
            "_view_module": "@jupyter-widgets/base",
            "_view_module_version": "1.2.0",
            "_view_name": "LayoutView",
            "align_content": null,
            "align_items": null,
            "align_self": null,
            "border": null,
            "bottom": null,
            "display": null,
            "flex": null,
            "flex_flow": null,
            "grid_area": null,
            "grid_auto_columns": null,
            "grid_auto_flow": null,
            "grid_auto_rows": null,
            "grid_column": null,
            "grid_gap": null,
            "grid_row": null,
            "grid_template_areas": null,
            "grid_template_columns": null,
            "grid_template_rows": null,
            "height": null,
            "justify_content": null,
            "justify_items": null,
            "left": null,
            "margin": null,
            "max_height": null,
            "max_width": null,
            "min_height": null,
            "min_width": null,
            "object_fit": null,
            "object_position": null,
            "order": null,
            "overflow": null,
            "overflow_x": null,
            "overflow_y": null,
            "padding": null,
            "right": null,
            "top": null,
            "visibility": null,
            "width": null
          }
        },
        "c7ad0ec70c0a4eab8d519a5707b89944": {
          "model_module": "@jupyter-widgets/controls",
          "model_name": "DescriptionStyleModel",
          "model_module_version": "1.5.0",
          "state": {
            "_model_module": "@jupyter-widgets/controls",
            "_model_module_version": "1.5.0",
            "_model_name": "DescriptionStyleModel",
            "_view_count": null,
            "_view_module": "@jupyter-widgets/base",
            "_view_module_version": "1.2.0",
            "_view_name": "StyleView",
            "description_width": ""
          }
        }
      }
    }
  },
  "cells": [
    {
      "cell_type": "code",
      "source": [
        "# здесь нужно будет добавить все импорты\n",
        "import networkx as nx\n",
        "import argparse"
      ],
      "metadata": {
        "id": "FUJ0627CCrY-"
      },
      "execution_count": null,
      "outputs": []
    },
    {
      "cell_type": "code",
      "execution_count": null,
      "metadata": {
        "id": "OI3TAUMUCCQa"
      },
      "outputs": [],
      "source": [
        "def parser(file_, verbose=0):\n",
        "    GATES = ['not', 'and', 'or', 'nand', 'nor', 'xor', 'xnor', 'buf', 'assign']\n",
        "    # all input ports are taken as nodes to visualize better\n",
        "    input_nodes = []\n",
        "    # all output ports are taken as nodes to visualize better\n",
        "    output_nodes = []\n",
        "    # nodes\n",
        "    gates = []\n",
        "    # [edges][(tail, head)] here the first index is the name of the wire;\n",
        "    # tail and head are the nodes to which the edge is connected to\n",
        "    wires = []\n",
        "\n",
        "    v_file = open(file_, 'r')\n",
        "    n = 0\n",
        "    line = v_file.readline()\n",
        "    while line:\n",
        "        # remove all leading spaces\n",
        "        line = line.lstrip()\n",
        "\n",
        "        if line.startswith('//') or line.startswith('module'):\n",
        "            pass\n",
        "        elif line.startswith('input'):\n",
        "            # find all the input ports\n",
        "            line = line.lstrip('input').split(sep=',')[:-1]\n",
        "            line = [x.strip(',;\\n ') for x in line]\n",
        "            input_nodes.extend(line)\n",
        "        elif line.startswith('output'):\n",
        "            # find all the output ports\n",
        "            line = line.lstrip('output').split(sep=',')\n",
        "            line = [x.strip(',;\\n ') for x in line]\n",
        "            output_nodes.extend(line)\n",
        "        elif line.startswith('assign'):\n",
        "            gate = 'assign' + str(n)\n",
        "            n += 1\n",
        "            gates.append(gate)\n",
        "\n",
        "            line = ''.join(line.split(' ')[1:])[:-1]\n",
        "            line = (line[:-1]).split('=')\n",
        "\n",
        "            _output = line[0]\n",
        "            _input = line[1:]\n",
        "\n",
        "            if _output in output_nodes:\n",
        "                wires.append([_output, gate, [_output]])\n",
        "            else:\n",
        "                flag = False\n",
        "                for i in wires:\n",
        "                    if i[0] == _output:\n",
        "                        i[1] = gate\n",
        "                        flag = True\n",
        "                        break\n",
        "                if not flag:\n",
        "                    wires.append([_output, gate, []])\n",
        "\n",
        "            for i in _input:\n",
        "                # print(i, end='')\n",
        "                if i in input_nodes:\n",
        "                    flag = False\n",
        "                    for j in wires:\n",
        "                        if j[0] == i:\n",
        "                            j[2].append(gate)\n",
        "                            flag = True\n",
        "                            break\n",
        "                    if not flag:\n",
        "                        wires.append([i, i, [gate]])\n",
        "                else:\n",
        "                    flag = False\n",
        "                    for j in wires:\n",
        "                        if j[0] == i:\n",
        "                            j[2].append(gate)\n",
        "                            flag = True\n",
        "                            break\n",
        "                    if not flag:\n",
        "                        wires.append([i, ' ', [gate]])\n",
        "        elif any(g in line for g in GATES):\n",
        "            # find all the connections and gates\n",
        "\n",
        "            # remove gate type (gate instantiation) from line\n",
        "            stri = ''\n",
        "            line = (line.split(sep=' ', maxsplit=1))\n",
        "            g = line[0]\n",
        "            line = line[1:]\n",
        "            line = stri.join(line)\n",
        "\n",
        "            # extract gate name from line, append to gates and remove from line\n",
        "            line = line.split('(')\n",
        "            gate = g + str(n) + (line[0]).strip(',;\\n ()')\n",
        "            n = n + 1\n",
        "            gates.append(gate)\n",
        "            line = line[1:]\n",
        "\n",
        "            # extract input and output ports of gate and append wires\n",
        "            stri = ''\n",
        "            line = stri.join(line)\n",
        "            line = [x.strip(',;\\n ()') for x in line.split(',')]\n",
        "            _output = line[0]\n",
        "            _input = line[1:]\n",
        "\n",
        "\n",
        "            # print(_output, _input)\n",
        "            # checking if a wire exists in wires with name _output and adding its edge parameters\n",
        "            if _output in output_nodes:\n",
        "                wires.append([_output, gate, [_output]])\n",
        "            else:\n",
        "                flag = 0\n",
        "                for i in wires:\n",
        "                    if(i[0] == _output):\n",
        "                        i[1] = gate\n",
        "                        flag = 1\n",
        "                        break\n",
        "\n",
        "                if flag == 0:\n",
        "                    wires.append([_output, gate, []])\n",
        "\n",
        "            for i in _input:\n",
        "                # print(i, end='')\n",
        "                if i in input_nodes:\n",
        "                    flag = 0\n",
        "                    for j in wires:\n",
        "                        if j[0] == i:\n",
        "                            j[2].append(gate)\n",
        "                            flag = 1\n",
        "                            break\n",
        "                    if flag == 0:\n",
        "                        wires.append([i, i, [gate]])\n",
        "\n",
        "                else:\n",
        "                    flag = 0\n",
        "                    for j in wires:\n",
        "                        if(j[0] == i):\n",
        "                            j[2].append(gate)\n",
        "                            flag = 1\n",
        "                            break\n",
        "\n",
        "                    if flag == 0:\n",
        "                        wires.append([i, ' ', [gate]])\n",
        "\n",
        "        line = v_file.readline()\n",
        "\n",
        "    return input_nodes, output_nodes, gates, wires"
      ]
    },
    {
      "cell_type": "code",
      "source": [
        "def grapher(in_n, out_n, nodes, edges):\n",
        "\n",
        "    # in_n, out_n, nodes, edges = verilog_parser.parser(file_)\n",
        "\n",
        "    G=nx.DiGraph()\n",
        "    G.add_nodes_from(in_n)\n",
        "    G.add_nodes_from(out_n)\n",
        "    G.add_nodes_from(nodes)\n",
        "\n",
        "\n",
        "    for i in edges:\n",
        "        for j in i[2]:\n",
        "            G.add_edge(i[1], j)\n",
        "\n",
        "    return G"
      ],
      "metadata": {
        "id": "Ct7zumgmC5zM"
      },
      "execution_count": null,
      "outputs": []
    },
    {
      "cell_type": "code",
      "source": [
        "def main():\n",
        "    in_n, out_n, nodes, edges = parser('/content/circuit_032563.v') # файл на verilog нужно подгрузить в коллаб\n",
        "    G = grapher(in_n, out_n, nodes, edges)\n",
        "    return(G)\n",
        "    # print(G.nodes())\n",
        "    # print(G.edges())\n",
        "\n",
        "    # for n, nbrsdict in G.adjacency():\n",
        "    #     print(n, end=\": \")\n",
        "    #     for nbr, eattr in nbrsdict.items():\n",
        "    #         print(nbr, end=' ')\n",
        "\n",
        "    #     print()\n",
        "    # print(type(G))"
      ],
      "metadata": {
        "id": "IQgUOXljuXQf"
      },
      "execution_count": null,
      "outputs": []
    },
    {
      "cell_type": "code",
      "source": [
        "gr = main()"
      ],
      "metadata": {
        "id": "WryB7GO70Go7"
      },
      "execution_count": null,
      "outputs": []
    },
    {
      "cell_type": "code",
      "source": [
        "options = {\n",
        "    'node_color': 'yellow',     # color of node\n",
        "    'node_size': 300,          # size of node\n",
        "    'width': 1,                 # line width of edges\n",
        "    'arrowstyle': '-|>',        # array style for directed graph\n",
        "    'arrowsize': 18,            # size of arrow\n",
        "    'edge_color':'blue',        # edge color\n",
        "    'font_size' : 8\n",
        "}"
      ],
      "metadata": {
        "id": "VWF5ZO8fN1xD"
      },
      "execution_count": null,
      "outputs": []
    },
    {
      "cell_type": "code",
      "source": [
        "nx.draw(gr,pos=nx.planar_layout(gr), with_labels = True, arrows=True, **options)"
      ],
      "metadata": {
        "colab": {
          "base_uri": "https://localhost:8080/",
          "height": 516
        },
        "id": "UhRPsuRmOZNX",
        "outputId": "b50c8fcc-88c5-4a5b-ee26-0fcee5f421e2"
      },
      "execution_count": null,
      "outputs": [
        {
          "output_type": "display_data",
          "data": {
            "text/plain": [
              "<Figure size 640x480 with 1 Axes>"
            ],
            "image/png": "[encoded data removed]"
          },
          "metadata": {}
        }
      ]
    },
    {
      "cell_type": "markdown",
      "source": [
        "Далее блок с Node2Vec"
      ],
      "metadata": {
        "id": "ZU9tj63Py8v_"
      }
    },
    {
      "cell_type": "code",
      "source": [
        "!pip install node2vec"
      ],
      "metadata": {
        "colab": {
          "base_uri": "https://localhost:8080/",
          "height": 515
        },
        "id": "tIaXjf1zzFla",
        "outputId": "72508e90-e1ec-4732-b443-f544c9e1a0e2"
      },
      "execution_count": null,
      "outputs": [
        {
          "output_type": "stream",
          "name": "stdout",
          "text": [
            "Collecting node2vec\n",
            "  Downloading node2vec-0.4.6-py3-none-any.whl (7.0 kB)\n",
            "Requirement already satisfied: gensim<5.0.0,>=4.1.2 in /usr/local/lib/python3.10/dist-packages (from node2vec) (4.3.2)\n",
            "Requirement already satisfied: joblib<2.0.0,>=1.1.0 in /usr/local/lib/python3.10/dist-packages (from node2vec) (1.3.2)\n",
            "Collecting networkx<3.0,>=2.5 (from node2vec)\n",
            "  Downloading networkx-2.8.8-py3-none-any.whl (2.0 MB)\n",
            "\u001b[2K     \u001b[90m━━━━━━━━━━━━━━━━━━━━━━━━━━━━━━━━━━━━━━━━\u001b[0m \u001b[32m2.0/2.0 MB\u001b[0m \u001b[31m9.3 MB/s\u001b[0m eta \u001b[36m0:00:00\u001b[0m\n",
            "\u001b[?25hRequirement already satisfied: numpy<2.0.0,>=1.19.5 in /usr/local/lib/python3.10/dist-packages (from node2vec) (1.23.5)\n",
            "Requirement already satisfied: tqdm<5.0.0,>=4.55.1 in /usr/local/lib/python3.10/dist-packages (from node2vec) (4.66.1)\n",
            "Requirement already satisfied: scipy>=1.7.0 in /usr/local/lib/python3.10/dist-packages (from gensim<5.0.0,>=4.1.2->node2vec) (1.11.4)\n",
            "Requirement already satisfied: smart-open>=1.8.1 in /usr/local/lib/python3.10/dist-packages (from gensim<5.0.0,>=4.1.2->node2vec) (6.4.0)\n",
            "Installing collected packages: networkx, node2vec\n",
            "  Attempting uninstall: networkx\n",
            "    Found existing installation: networkx 3.2.1\n",
            "    Uninstalling networkx-3.2.1:\n",
            "      Successfully uninstalled networkx-3.2.1\n",
            "\u001b[31mERROR: pip's dependency resolver does not currently take into account all the packages that are installed. This behaviour is the source of the following dependency conflicts.\n",
            "lida 0.0.10 requires fastapi, which is not installed.\n",
            "lida 0.0.10 requires kaleido, which is not installed.\n",
            "lida 0.0.10 requires python-multipart, which is not installed.\n",
            "lida 0.0.10 requires uvicorn, which is not installed.\u001b[0m\u001b[31m\n",
            "\u001b[0mSuccessfully installed networkx-2.8.8 node2vec-0.4.6\n"
          ]
        },
        {
          "output_type": "display_data",
          "data": {
            "application/vnd.colab-display-data+json": {
              "pip_warning": {
                "packages": [
                  "networkx"
                ]
              }
            }
          },
          "metadata": {}
        }
      ]
    },
    {
      "cell_type": "code",
      "source": [
        "import networkx as nx\n",
        "from node2vec import Node2Vec"
      ],
      "metadata": {
        "id": "YMev0Uxny7_j"
      },
      "execution_count": null,
      "outputs": []
    },
    {
      "cell_type": "code",
      "source": [
        "# FILES\n",
        "EMBEDDING_FILENAME = '/content/emb.txt'\n",
        "EMBEDDING_MODEL_FILENAME = '/content/model.model'\n",
        "\n",
        "# Create a graph\n",
        "graph = main()\n",
        "\n",
        "# Precompute probabilities and generate walks\n",
        "node2vec = Node2Vec(graph, dimensions=4, walk_length=3, num_walks=20, workers=4)\n",
        "\n",
        "## if d_graph is big enough to fit in the memory, pass temp_folder which has enough disk space\n",
        "# Note: It will trigger \"sharedmem\" in Parallel, which will be slow on smaller graphs\n",
        "#node2vec = Node2Vec(graph, dimensions=64, walk_length=30, num_walks=200, workers=4, temp_folder=\"/mnt/tmp_data\")\n",
        "\n",
        "# Embed\n",
        "model = node2vec.fit(window=4, min_count=1, batch_words=4)  # Any keywords acceptable by gensim.Word2Vec can be passed, `dimensions` and `workers` are automatically passed (from the Node2Vec constructor)\n",
        "\n",
        "# Look for most similar nodes\n",
        "model.wv.most_similar(2)  # Output node names are always strings\n",
        "\n",
        "# Save embeddings for later use\n",
        "model.wv.save_word2vec_format(EMBEDDING_FILENAME)\n",
        "\n",
        "# Save model for later use\n",
        "model.save(EMBEDDING_MODEL_FILENAME)"
      ],
      "metadata": {
        "colab": {
          "base_uri": "https://localhost:8080/",
          "height": 77,
          "referenced_widgets": [
            "568c0a08e080420e8180b8e7ef459ac4",
            "68179e5a196c4781977658a6b70c8148",
            "56aacdf0e3b34476a56571d10fb1a7eb",
            "423a18d6b6554b96bb67c9929d13d76d",
            "3713b52e6c504cca8a9af5d9020d2123",
            "5847ef06625f4b17b79448b08ddd2dbe",
            "cd569541514c471a80e576c0844a7b64",
            "9422af574da348eaab06a2d04286e79d",
            "3fa2b4ade8144f05bb080b2753a8d434",
            "18be055c84e14933a3bdcc588a404989",
            "c7ad0ec70c0a4eab8d519a5707b89944"
          ]
        },
        "id": "X9xhbXLGwjGa",
        "outputId": "9517a543-dd2f-44c8-bd5e-454204201372"
      },
      "execution_count": null,
      "outputs": [
        {
          "output_type": "display_data",
          "data": {
            "text/plain": [
              "Computing transition probabilities:   0%|          | 0/17 [00:00<?, ?it/s]"
            ],
            "application/vnd.jupyter.widget-view+json": {
              "version_major": 2,
              "version_minor": 0,
              "model_id": "568c0a08e080420e8180b8e7ef459ac4"
            }
          },
          "metadata": {}
        }
      ]
    }
  ]
}
